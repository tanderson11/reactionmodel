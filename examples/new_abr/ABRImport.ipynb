{
 "cells": [
  {
   "cell_type": "code",
   "execution_count": null,
   "metadata": {},
   "outputs": [],
   "source": [
    "# todo:\n",
    "# transmission terms as second order"
   ]
  },
  {
   "cell_type": "markdown",
   "metadata": {},
   "source": [
    "## Import modules"
   ]
  },
  {
   "cell_type": "code",
   "execution_count": null,
   "metadata": {},
   "outputs": [],
   "source": [
    "import pandas as pd\n",
    "from reactionmodel.model import Species, Reaction, Model\n",
    "from reactionmodel.hook import HookAwareModel\n",
    "import reactionmodel.parser as parser"
   ]
  },
  {
   "cell_type": "markdown",
   "metadata": {},
   "source": [
    "## Load arrows from the excel document"
   ]
  },
  {
   "cell_type": "code",
   "execution_count": 3,
   "metadata": {},
   "outputs": [],
   "source": [
    "def concatenate_columns(df, columns, parentheses=True, sep='*', na_rep=None):\n",
    "    df = df[columns].copy()\n",
    "    if parentheses:\n",
    "        df['left'] = '('\n",
    "        df['right'] = ')'\n",
    "    else:\n",
    "        df['left'] = ''\n",
    "        df['right'] = ''\n",
    "    for c in columns:\n",
    "        df[c] = df['left'].str.cat(df[c]).str.cat(df['right'])\n",
    "    \n",
    "    first_col = df[columns[0]]\n",
    "    later_cols = df[columns[1:]]\n",
    "    return first_col.str.cat(later_cols, sep=sep, na_rep=na_rep)"
   ]
  },
  {
   "cell_type": "code",
   "execution_count": null,
   "metadata": {},
   "outputs": [
    {
     "data": {
      "application/vnd.microsoft.datawrangler.viewer.v0+json": {
       "columns": [
        {
         "name": "index",
         "rawType": "int64",
         "type": "integer"
        },
        {
         "name": "Group",
         "rawType": "object",
         "type": "string"
        },
        {
         "name": "Description",
         "rawType": "object",
         "type": "string"
        },
        {
         "name": "Initial",
         "rawType": "object",
         "type": "string"
        },
        {
         "name": "Final",
         "rawType": "object",
         "type": "string"
        },
        {
         "name": "k",
         "rawType": "object",
         "type": "string"
        },
        {
         "name": "trigger",
         "rawType": "object",
         "type": "unknown"
        }
       ],
       "conversionMethod": "pd.DataFrame",
       "ref": "e13363a0-66a8-4fd1-88f6-c0c58c12bf66",
       "rows": [
        [
         "1",
         "Colonization",
         "Colonization of \"healthy\" host by DS without instant infection",
         "M_M",
         "M_DS",
         "(beta * (1 - CR_N) * (1 - p_beta_infection_M) * PRESSURE_DS)*((1 - CR_A))",
         null
        ],
        [
         "2",
         "Colonization",
         "Colonization of \"healthy\" host by DS with instant infection",
         "M_M",
         "DS_DS",
         "(beta * (1 - CR_N) * (p_beta_infection_M) * PRESSURE_DS )*((1 - CR_A))",
         null
        ],
        [
         "3",
         "Colonization",
         "Colonization of \"healthy\" host by DR without instant infection",
         "M_M",
         "M_DR",
         "(beta * (1 - CR_N) * (1 - p_beta_infection_M) * PRESSURE_DR)*((1 - CR_A))",
         null
        ],
        [
         "4",
         "Colonization",
         "Colonization of \"healthy\" host by DR with instant infection",
         "M_M",
         "DR_DR",
         "(beta * (1 - CR_N) * (p_beta_infection_M) * PRESSURE_DR)*((1 - CR_A))",
         null
        ],
        [
         "5",
         "Colonization",
         "Colonization of low dysbiosis host by DS without instant infection",
         "M_X",
         "M_DS",
         "(beta * (1 - p_beta_infection_M) * PRESSURE_DS)*((1 - CR_A))",
         null
        ],
        [
         "6",
         "Colonization",
         "Colonization of low dysbiosis host by DS with instant infection",
         "M_X",
         "DS_DS",
         "(beta * (p_beta_infection_M) * PRESSURE_DS)*((1 - CR_A))",
         null
        ],
        [
         "7",
         "Colonization",
         "Colonization of low dysbiosis host by DR without instant infection",
         "M_X",
         "M_DR",
         "(beta * (1 - p_beta_infection_M) * PRESSURE_DR)*((1 - CR_A))",
         null
        ],
        [
         "8",
         "Colonization",
         "Colonization of low dysbiosis host by DR with instant infection",
         "M_X",
         "DR_DR",
         "(beta * (p_beta_infection_M) * PRESSURE_DR)*((1 - CR_A))",
         null
        ],
        [
         "9",
         "Colonization",
         "Colonization of high dysbiosis host by DS without instant infection",
         "X_X",
         "X_DS",
         "beta * (1 - p_beta_infection_X) * PRESSURE_DS",
         null
        ],
        [
         "10",
         "Colonization",
         "Colonization of high dysbiosis host by DS with instant infection",
         "X_X",
         "DS_DS",
         "beta * (p_beta_infection_X) * PRESSURE_DS",
         null
        ],
        [
         "11",
         "Colonization",
         "Colonization of high dysbiosis host by DR without instant infection",
         "X_X",
         "X_DR",
         "beta * (1 - p_beta_infection_X) * PRESSURE_DR",
         null
        ],
        [
         "12",
         "Colonization",
         "Colonization of high dysbiosis host by DR with instant infection",
         "X_X",
         "DR_DR",
         "beta * (p_beta_infection_X) * PRESSURE_DR",
         null
        ],
        [
         "13",
         "Co-colonization",
         "Co-colonization of DS with DR with high abundance commensals",
         "M_DS",
         "M_DSDR",
         "(beta * (1 - CR_N) * (1 - p_beta_infection_M) * PRESSURE_DR)*((1 - CR_A))",
         null
        ],
        [
         "14",
         "Co-colonization",
         "Co-colonization of DR with DS with high abundance commensals",
         "M_DR",
         "M_DSDR",
         "(beta * (1 - CR_N) * (1 - p_beta_infection_M) * PRESSURE_DS)*((1 - CR_A))",
         null
        ],
        [
         "15",
         "Co-colonization",
         "Co-colonization of DS with DR with low abundance commensals",
         "X_DS",
         "X_DSDR",
         "beta * (1 - CR_N) * (1 - p_beta_infection_M) * PRESSURE_DR",
         null
        ],
        [
         "16",
         "Co-colonization",
         "Co-colonization of DR with DS with low abundance commensals",
         "X_DR",
         "X_DSDR",
         "beta * (1 - CR_N) * (1 - p_beta_infection_M) * PRESSURE_DS",
         null
        ],
        [
         "17",
         "Co-colonization",
         "Co-colonized while infected",
         "DS_DS",
         "DS_DSDR",
         "fill",
         null
        ],
        [
         "18",
         "Co-colonization",
         "Co-colonized while infected",
         "DR_DR",
         "DR_DSDR",
         "fill",
         null
        ],
        [
         "19",
         "Discharge",
         "Discharge/death if high commensal abundance",
         "M_*",
         "",
         "mu + delta",
         null
        ],
        [
         "20",
         "Discharge",
         "Discharge/death if drug susceptible infection",
         "DS_*",
         "",
         "mu * rMuDS + delta * rDeltaInfection",
         null
        ],
        [
         "21",
         "Discharge",
         "Discharge/death if drug resistant infection",
         "DR_*",
         "",
         "mu * rMuDR + delta * rDeltaInfection",
         null
        ],
        [
         "22",
         "Discharge",
         "Discharge/death if disrupted abundance",
         "X_*",
         "",
         "mu + delta",
         null
        ],
        [
         "23",
         "Admission",
         "Admission of healthy person",
         "",
         "M_M",
         "((1 - p_admitted_infected) * (1 - p_colonized))*((1 - p_high_dysbiosis - p_low_dysbiosis))",
         "Discharge"
        ],
        [
         "24",
         "Admission",
         "Admission of patient with low dysbiosis",
         "",
         "M_X",
         "((1 - p_admitted_infected) * (1 - p_colonized))*(p_low_dysbiosis)",
         "Discharge"
        ],
        [
         "25",
         "Admission",
         "Admission of patient with high dysbiosis",
         "",
         "X_X",
         "((1 - p_admitted_infected) * (1 - p_colonized))*(p_high_dysbiosis)",
         "Discharge"
        ],
        [
         "26",
         "Admission",
         "Admission of healthy but colonized DS",
         "",
         "M_DS",
         "((1 - p_admitted_infected) * (1 - p_high_dysbiosis) * p_colonized)*(f_S)",
         "Discharge"
        ],
        [
         "27",
         "Admission",
         "Admission of healthy but colonized DR",
         "",
         "M_DR",
         "((1 - p_admitted_infected) * (1 - p_high_dysbiosis) * p_colonized)*(f_R)",
         "Discharge"
        ],
        [
         "28",
         "Admission",
         "Admission of healthy but colonized dual",
         "",
         "M_DSDR",
         "((1 - p_admitted_infected) * (1 - p_high_dysbiosis) * p_colonized)*(f_dual)",
         "Discharge"
        ],
        [
         "29",
         "Admission",
         "Admission of disrupted and colonized DS",
         "",
         "X_DS",
         "((1 - p_admitted_infected) * (p_high_dysbiosis) * p_colonized)*(f_S)",
         "Discharge"
        ],
        [
         "30",
         "Admission",
         "Admission of disrupted and colonized DR",
         "",
         "X_DR",
         "((1 - p_admitted_infected) * (p_high_dysbiosis) * p_colonized)*(f_R)",
         "Discharge"
        ],
        [
         "31",
         "Admission",
         "Admission of disrupted and colonized DSDR",
         "",
         "X_DSDR",
         "((1 - p_admitted_infected) * (p_high_dysbiosis) * p_colonized)*(f_dual)",
         "Discharge"
        ],
        [
         "32",
         "Admission",
         "Admission of DS infected (only DS colonization)",
         "",
         "DS_DS",
         "(p_admitted_infected)*((1- p_S_admit_R_col))",
         "Discharge"
        ],
        [
         "33",
         "Admission",
         "Admission of DS infected (dual colonization)",
         "",
         "DS_DSDR",
         "(p_admitted_infected)*((p_S_admit_R_col))",
         "Discharge"
        ],
        [
         "34",
         "Admission",
         "Admission of DR infected (only DR colonization)",
         "",
         "DR_DR",
         "(p_admitted_infected)*((1- p_R_admit_S_col))",
         "Discharge"
        ],
        [
         "35",
         "Admission",
         "Admission of DR infected (dual colonization)",
         "",
         "DR_DSDR",
         "(p_admitted_infected)*((p_R_admit_S_col))",
         "Discharge"
        ],
        [
         "36",
         "Repopulation",
         "Background repopulation with commensals",
         "X_X",
         "M_X",
         "g0",
         null
        ],
        [
         "37",
         "Repopulation",
         "Background repopulation with commensals",
         "X_DS",
         "M_DS",
         "g0",
         null
        ],
        [
         "38",
         "Repopulation",
         "Background repopulation with commensals",
         "X_DR",
         "M_DR",
         "g0",
         null
        ],
        [
         "39",
         "Repopulation",
         "Background repopulation with commensals",
         "X_DSDR",
         "M_DSDR",
         "g0",
         null
        ],
        [
         "40",
         "Recovery",
         "Background recovery from DS",
         "DS_*",
         "M_*",
         "gamm0",
         null
        ],
        [
         "41",
         "Recovery",
         "Background recovery from DR ",
         "DR_*",
         "M_*",
         "gamm0",
         null
        ],
        [
         "42",
         "Infection",
         "Uninhibited growth of colony",
         "X_DS",
         "DS_DS",
         "l",
         null
        ],
        [
         "43",
         "Infection",
         "Uninhibited growth of colony",
         "X_DR",
         "DR_DR",
         "l * rEllR",
         null
        ],
        [
         "44",
         "Infection",
         "Uninhibited growth of colony",
         "X_DSDR",
         "DS_DSDR",
         "1/2 * l",
         null
        ],
        [
         "45",
         "Infection",
         "Uninhibited growth of colony",
         "X_DSDR",
         "DR_DSDR",
         "1/2 * l * rEllR",
         null
        ],
        [
         "46",
         "Infection",
         "Overgrowth of colony",
         "M_DS",
         "DS_DS",
         "lambda",
         null
        ],
        [
         "47",
         "Infection",
         "Overgrowth of colony",
         "M_DR",
         "DR_DR",
         "lambda * rEllR",
         null
        ],
        [
         "48",
         "Infection",
         "Overgrowth of colony",
         "M_DSDR",
         "DS_DSDR",
         "1/2 * lambda",
         null
        ],
        [
         "49",
         "Infection",
         "Overgrowth of colony",
         "M_DSDR",
         "DR_DSDR",
         "1/2 * lambda * rEllR",
         null
        ],
        [
         "50",
         "Disruption",
         "Spontaneous high dysbiosis",
         "M_M",
         "X_X",
         "theta_High",
         null
        ]
       ],
       "shape": {
        "columns": 6,
        "rows": 61
       }
      },
      "text/html": [
       "<div>\n",
       "<style scoped>\n",
       "    .dataframe tbody tr th:only-of-type {\n",
       "        vertical-align: middle;\n",
       "    }\n",
       "\n",
       "    .dataframe tbody tr th {\n",
       "        vertical-align: top;\n",
       "    }\n",
       "\n",
       "    .dataframe thead th {\n",
       "        text-align: right;\n",
       "    }\n",
       "</style>\n",
       "<table border=\"1\" class=\"dataframe\">\n",
       "  <thead>\n",
       "    <tr style=\"text-align: right;\">\n",
       "      <th></th>\n",
       "      <th>Group</th>\n",
       "      <th>Description</th>\n",
       "      <th>Initial</th>\n",
       "      <th>Final</th>\n",
       "      <th>k</th>\n",
       "      <th>trigger</th>\n",
       "    </tr>\n",
       "  </thead>\n",
       "  <tbody>\n",
       "    <tr>\n",
       "      <th>1</th>\n",
       "      <td>Colonization</td>\n",
       "      <td>Colonization of \"healthy\" host by DS without i...</td>\n",
       "      <td>M_M</td>\n",
       "      <td>M_DS</td>\n",
       "      <td>(beta * (1 - CR_N) * (1 - p_beta_infection_M) ...</td>\n",
       "      <td>NaN</td>\n",
       "    </tr>\n",
       "    <tr>\n",
       "      <th>2</th>\n",
       "      <td>Colonization</td>\n",
       "      <td>Colonization of \"healthy\" host by DS with inst...</td>\n",
       "      <td>M_M</td>\n",
       "      <td>DS_DS</td>\n",
       "      <td>(beta * (1 - CR_N) * (p_beta_infection_M) * PR...</td>\n",
       "      <td>NaN</td>\n",
       "    </tr>\n",
       "    <tr>\n",
       "      <th>3</th>\n",
       "      <td>Colonization</td>\n",
       "      <td>Colonization of \"healthy\" host by DR without i...</td>\n",
       "      <td>M_M</td>\n",
       "      <td>M_DR</td>\n",
       "      <td>(beta * (1 - CR_N) * (1 - p_beta_infection_M) ...</td>\n",
       "      <td>NaN</td>\n",
       "    </tr>\n",
       "    <tr>\n",
       "      <th>4</th>\n",
       "      <td>Colonization</td>\n",
       "      <td>Colonization of \"healthy\" host by DR with inst...</td>\n",
       "      <td>M_M</td>\n",
       "      <td>DR_DR</td>\n",
       "      <td>(beta * (1 - CR_N) * (p_beta_infection_M) * PR...</td>\n",
       "      <td>NaN</td>\n",
       "    </tr>\n",
       "    <tr>\n",
       "      <th>5</th>\n",
       "      <td>Colonization</td>\n",
       "      <td>Colonization of low dysbiosis host by DS witho...</td>\n",
       "      <td>M_X</td>\n",
       "      <td>M_DS</td>\n",
       "      <td>(beta * (1 - p_beta_infection_M) * PRESSURE_DS...</td>\n",
       "      <td>NaN</td>\n",
       "    </tr>\n",
       "    <tr>\n",
       "      <th>...</th>\n",
       "      <td>...</td>\n",
       "      <td>...</td>\n",
       "      <td>...</td>\n",
       "      <td>...</td>\n",
       "      <td>...</td>\n",
       "      <td>...</td>\n",
       "    </tr>\n",
       "    <tr>\n",
       "      <th>57</th>\n",
       "      <td>Recovery</td>\n",
       "      <td>Spontaneous decolonization via recovery</td>\n",
       "      <td>M_DR</td>\n",
       "      <td>M_M</td>\n",
       "      <td>gammaN0</td>\n",
       "      <td>NaN</td>\n",
       "    </tr>\n",
       "    <tr>\n",
       "      <th>58</th>\n",
       "      <td>Recovery</td>\n",
       "      <td>Spontaneous decolonization via recovery</td>\n",
       "      <td>M_DSDR</td>\n",
       "      <td>M_M</td>\n",
       "      <td>gammaN0</td>\n",
       "      <td>NaN</td>\n",
       "    </tr>\n",
       "    <tr>\n",
       "      <th>59</th>\n",
       "      <td>Recovery</td>\n",
       "      <td>Background recovery of commensal diversity</td>\n",
       "      <td>M_X</td>\n",
       "      <td>M_M</td>\n",
       "      <td>gN0</td>\n",
       "      <td>NaN</td>\n",
       "    </tr>\n",
       "    <tr>\n",
       "      <th>60</th>\n",
       "      <td>Competition</td>\n",
       "      <td>DS wins out over DR</td>\n",
       "      <td>*_DSDR</td>\n",
       "      <td>*_DS</td>\n",
       "      <td>omega</td>\n",
       "      <td>NaN</td>\n",
       "    </tr>\n",
       "    <tr>\n",
       "      <th>61</th>\n",
       "      <td>Competition</td>\n",
       "      <td>DR wins out over DS</td>\n",
       "      <td>*_DSDR</td>\n",
       "      <td>*_DR</td>\n",
       "      <td>omega * (1 - delta_w_R)</td>\n",
       "      <td>NaN</td>\n",
       "    </tr>\n",
       "  </tbody>\n",
       "</table>\n",
       "<p>61 rows × 6 columns</p>\n",
       "</div>"
      ],
      "text/plain": [
       "           Group                                        Description Initial  \\\n",
       "1   Colonization  Colonization of \"healthy\" host by DS without i...     M_M   \n",
       "2   Colonization  Colonization of \"healthy\" host by DS with inst...     M_M   \n",
       "3   Colonization  Colonization of \"healthy\" host by DR without i...     M_M   \n",
       "4   Colonization  Colonization of \"healthy\" host by DR with inst...     M_M   \n",
       "5   Colonization  Colonization of low dysbiosis host by DS witho...     M_X   \n",
       "..           ...                                                ...     ...   \n",
       "57      Recovery            Spontaneous decolonization via recovery    M_DR   \n",
       "58      Recovery            Spontaneous decolonization via recovery  M_DSDR   \n",
       "59      Recovery         Background recovery of commensal diversity     M_X   \n",
       "60   Competition                                DS wins out over DR  *_DSDR   \n",
       "61   Competition                                DR wins out over DS  *_DSDR   \n",
       "\n",
       "    Final                                                  k trigger  \n",
       "1    M_DS  (beta * (1 - CR_N) * (1 - p_beta_infection_M) ...     NaN  \n",
       "2   DS_DS  (beta * (1 - CR_N) * (p_beta_infection_M) * PR...     NaN  \n",
       "3    M_DR  (beta * (1 - CR_N) * (1 - p_beta_infection_M) ...     NaN  \n",
       "4   DR_DR  (beta * (1 - CR_N) * (p_beta_infection_M) * PR...     NaN  \n",
       "5    M_DS  (beta * (1 - p_beta_infection_M) * PRESSURE_DS...     NaN  \n",
       "..    ...                                                ...     ...  \n",
       "57    M_M                                            gammaN0     NaN  \n",
       "58    M_M                                            gammaN0     NaN  \n",
       "59    M_M                                                gN0     NaN  \n",
       "60   *_DS                                              omega     NaN  \n",
       "61   *_DR                            omega * (1 - delta_w_R)     NaN  \n",
       "\n",
       "[61 rows x 6 columns]"
      ]
     },
     "execution_count": 4,
     "metadata": {},
     "output_type": "execute_result"
    }
   ],
   "source": [
    "arrows_file = pd.ExcelFile('./ModelArrows.xlsx')\n",
    "arrows = arrows_file.parse('Reactions').drop(0)\n",
    "arrows = arrows[arrows['Include'].astype(bool)]\n",
    "arrows['Initial'] = arrows['Initial (A)'].str.cat(arrows['Initial (N)'], sep='_')\n",
    "arrows['Final'] = arrows['Final (A)'].str.cat(arrows['Final (N)'], sep='_')\n",
    "\n",
    "arrows['Initial'] = arrows['Initial'].str.replace('-_-', '')\n",
    "arrows['Final'] = arrows['Final'].str.replace('-_-', '')\n",
    "# It's dumb, but k stem is guaranteed non-blank where Description (ie not Description stem) is guaranteed non-blank\n",
    "arrows['k'] = concatenate_columns(arrows, ['k stem', 'k']).fillna(arrows['k stem'])\n",
    "arrows['Description'] = concatenate_columns(arrows, ['Description stem', 'Description'], sep=' ', parentheses=False).fillna(arrows['Description'])\n",
    "\n",
    "arrows = arrows[['Group', 'Description', 'Initial', 'Final', 'k', 'trigger']]\n",
    "\n",
    "arrows"
   ]
  },
  {
   "cell_type": "markdown",
   "metadata": {},
   "source": [
    "## Parse file into a Model"
   ]
  },
  {
   "cell_type": "code",
   "execution_count": 7,
   "metadata": {},
   "outputs": [],
   "source": [
    "# PROBLEM: DSDR can't exist in high abundance\n",
    "families = {\n",
    "    'star': ['M', 'X', 'DS', 'DR', 'DSDR']\n",
    "}"
   ]
  },
  {
   "cell_type": "code",
   "execution_count": 8,
   "metadata": {},
   "outputs": [],
   "source": [
    "def parse_arrow(arrow):\n",
    "    family_flag = False\n",
    "\n",
    "    if pd.isna(arrow.trigger):\n",
    "        arrow_dictionary = {'k': arrow.k}\n",
    "    else:\n",
    "        arrow_dictionary = {'p': arrow.k}\n",
    "\n",
    "    reactants = arrow.Initial\n",
    "    if reactants.count('*') > 1: assert False\n",
    "    elif reactants.count('*') == 1: family_flag = True\n",
    "    reactants = reactants.replace('*', '$i')\n",
    "\n",
    "    products = arrow.Final\n",
    "    if products.count('*') > 1: assert False\n",
    "    elif products.count('*') == 1: family_flag = True\n",
    "    products = products.replace('*', '$i')\n",
    "\n",
    "    reactants = [reactants] if reactants else []\n",
    "    products = [products] if products else []\n",
    "\n",
    "    arrow_dictionary.update({\n",
    "        'description': arrow.Description,\n",
    "        'reactants': reactants,\n",
    "        'products': products,\n",
    "    })\n",
    "\n",
    "    if family_flag:\n",
    "        arrow_dictionary['used_families'] = {'i': 'star'}\n",
    "\n",
    "    return arrow_dictionary"
   ]
  },
  {
   "cell_type": "code",
   "execution_count": 9,
   "metadata": {},
   "outputs": [
    {
     "data": {
      "text/plain": [
       "'Admission'"
      ]
     },
     "execution_count": 9,
     "metadata": {},
     "output_type": "execute_result"
    }
   ],
   "source": [
    "arrows_file.parse('Hooks', index_col='Triggering group').loc['Discharge']['Triggered group']"
   ]
  },
  {
   "cell_type": "code",
   "execution_count": null,
   "metadata": {},
   "outputs": [
    {
     "name": "stdout",
     "output_type": "stream",
     "text": [
      "M_M , M_DS\n",
      "{'k': '(beta * (1 - CR_N) * (1 - p_beta_infection_M) * PRESSURE_DS)*((1 - CR_A))', 'description': 'Colonization of \"healthy\" host by DS without instant infection', 'reactants': ['M_M'], 'products': ['M_DS']}\n",
      "M_M , DS_DS\n",
      "{'k': '(beta * (1 - CR_N) * (p_beta_infection_M) * PRESSURE_DS )*((1 - CR_A))', 'description': 'Colonization of \"healthy\" host by DS with instant infection', 'reactants': ['M_M'], 'products': ['DS_DS']}\n",
      "M_M , M_DR\n",
      "{'k': '(beta * (1 - CR_N) * (1 - p_beta_infection_M) * PRESSURE_DR)*((1 - CR_A))', 'description': 'Colonization of \"healthy\" host by DR without instant infection', 'reactants': ['M_M'], 'products': ['M_DR']}\n",
      "M_M , DR_DR\n",
      "{'k': '(beta * (1 - CR_N) * (p_beta_infection_M) * PRESSURE_DR)*((1 - CR_A))', 'description': 'Colonization of \"healthy\" host by DR with instant infection', 'reactants': ['M_M'], 'products': ['DR_DR']}\n",
      "M_X , M_DS\n",
      "{'k': '(beta * (1 - p_beta_infection_M) * PRESSURE_DS)*((1 - CR_A))', 'description': 'Colonization of low dysbiosis host by DS without instant infection', 'reactants': ['M_X'], 'products': ['M_DS']}\n",
      "M_X , DS_DS\n",
      "{'k': '(beta * (p_beta_infection_M) * PRESSURE_DS)*((1 - CR_A))', 'description': 'Colonization of low dysbiosis host by DS with instant infection', 'reactants': ['M_X'], 'products': ['DS_DS']}\n",
      "M_X , M_DR\n",
      "{'k': '(beta * (1 - p_beta_infection_M) * PRESSURE_DR)*((1 - CR_A))', 'description': 'Colonization of low dysbiosis host by DR without instant infection', 'reactants': ['M_X'], 'products': ['M_DR']}\n",
      "M_X , DR_DR\n",
      "{'k': '(beta * (p_beta_infection_M) * PRESSURE_DR)*((1 - CR_A))', 'description': 'Colonization of low dysbiosis host by DR with instant infection', 'reactants': ['M_X'], 'products': ['DR_DR']}\n",
      "X_X , X_DS\n",
      "{'k': 'beta * (1 - p_beta_infection_X) * PRESSURE_DS', 'description': 'Colonization of high dysbiosis host by DS without instant infection', 'reactants': ['X_X'], 'products': ['X_DS']}\n",
      "X_X , DS_DS\n",
      "{'k': 'beta * (p_beta_infection_X) * PRESSURE_DS', 'description': 'Colonization of high dysbiosis host by DS with instant infection', 'reactants': ['X_X'], 'products': ['DS_DS']}\n",
      "X_X , X_DR\n",
      "{'k': 'beta * (1 - p_beta_infection_X) * PRESSURE_DR', 'description': 'Colonization of high dysbiosis host by DR without instant infection', 'reactants': ['X_X'], 'products': ['X_DR']}\n",
      "X_X , DR_DR\n",
      "{'k': 'beta * (p_beta_infection_X) * PRESSURE_DR', 'description': 'Colonization of high dysbiosis host by DR with instant infection', 'reactants': ['X_X'], 'products': ['DR_DR']}\n",
      "M_DS , M_DSDR\n",
      "{'k': '(beta * (1 - CR_N) * (1 - p_beta_infection_M) * PRESSURE_DR)*((1 - CR_A))', 'description': 'Co-colonization of DS with DR with high abundance commensals', 'reactants': ['M_DS'], 'products': ['M_DSDR']}\n",
      "M_DR , M_DSDR\n",
      "{'k': '(beta * (1 - CR_N) * (1 - p_beta_infection_M) * PRESSURE_DS)*((1 - CR_A))', 'description': 'Co-colonization of DR with DS with high abundance commensals', 'reactants': ['M_DR'], 'products': ['M_DSDR']}\n",
      "X_DS , X_DSDR\n",
      "{'k': 'beta * (1 - CR_N) * (1 - p_beta_infection_M) * PRESSURE_DR', 'description': 'Co-colonization of DS with DR with low abundance commensals', 'reactants': ['X_DS'], 'products': ['X_DSDR']}\n",
      "X_DR , X_DSDR\n",
      "{'k': 'beta * (1 - CR_N) * (1 - p_beta_infection_M) * PRESSURE_DS', 'description': 'Co-colonization of DR with DS with low abundance commensals', 'reactants': ['X_DR'], 'products': ['X_DSDR']}\n",
      "DS_DS , DS_DSDR\n",
      "{'k': 'fill', 'description': 'Co-colonized while infected', 'reactants': ['DS_DS'], 'products': ['DS_DSDR']}\n",
      "DR_DR , DR_DSDR\n",
      "{'k': 'fill', 'description': 'Co-colonized while infected', 'reactants': ['DR_DR'], 'products': ['DR_DSDR']}\n",
      "M_* , \n",
      "{'k': 'mu + delta', 'description': 'Discharge/death if high commensal abundance', 'reactants': ['M_$i'], 'products': [], 'used_families': {'i': 'star'}}\n",
      "DS_* , \n",
      "{'k': 'mu * rMuDS + delta * rDeltaInfection', 'description': 'Discharge/death if drug susceptible infection', 'reactants': ['DS_$i'], 'products': [], 'used_families': {'i': 'star'}}\n",
      "DR_* , \n",
      "{'k': 'mu * rMuDR + delta * rDeltaInfection', 'description': 'Discharge/death if drug resistant infection', 'reactants': ['DR_$i'], 'products': [], 'used_families': {'i': 'star'}}\n",
      "X_* , \n",
      "{'k': 'mu + delta', 'description': 'Discharge/death if disrupted abundance', 'reactants': ['X_$i'], 'products': [], 'used_families': {'i': 'star'}}\n",
      " , M_M\n",
      "{'p': '((1 - p_admitted_infected) * (1 - p_colonized))*((1 - p_high_dysbiosis - p_low_dysbiosis))', 'description': 'Admission of healthy person', 'reactants': [], 'products': ['M_M']}\n",
      " , M_X\n",
      "{'p': '((1 - p_admitted_infected) * (1 - p_colonized))*(p_low_dysbiosis)', 'description': 'Admission of patient with low dysbiosis', 'reactants': [], 'products': ['M_X']}\n",
      " , X_X\n",
      "{'p': '((1 - p_admitted_infected) * (1 - p_colonized))*(p_high_dysbiosis)', 'description': 'Admission of patient with high dysbiosis', 'reactants': [], 'products': ['X_X']}\n",
      " , M_DS\n",
      "{'p': '((1 - p_admitted_infected) * (1 - p_high_dysbiosis) * p_colonized)*(f_S)', 'description': 'Admission of healthy but colonized DS', 'reactants': [], 'products': ['M_DS']}\n",
      " , M_DR\n",
      "{'p': '((1 - p_admitted_infected) * (1 - p_high_dysbiosis) * p_colonized)*(f_R)', 'description': 'Admission of healthy but colonized DR', 'reactants': [], 'products': ['M_DR']}\n",
      " , M_DSDR\n",
      "{'p': '((1 - p_admitted_infected) * (1 - p_high_dysbiosis) * p_colonized)*(f_dual)', 'description': 'Admission of healthy but colonized dual', 'reactants': [], 'products': ['M_DSDR']}\n",
      " , X_DS\n",
      "{'p': '((1 - p_admitted_infected) * (p_high_dysbiosis) * p_colonized)*(f_S)', 'description': 'Admission of disrupted and colonized DS', 'reactants': [], 'products': ['X_DS']}\n",
      " , X_DR\n",
      "{'p': '((1 - p_admitted_infected) * (p_high_dysbiosis) * p_colonized)*(f_R)', 'description': 'Admission of disrupted and colonized DR', 'reactants': [], 'products': ['X_DR']}\n",
      " , X_DSDR\n",
      "{'p': '((1 - p_admitted_infected) * (p_high_dysbiosis) * p_colonized)*(f_dual)', 'description': 'Admission of disrupted and colonized DSDR', 'reactants': [], 'products': ['X_DSDR']}\n",
      " , DS_DS\n",
      "{'p': '(p_admitted_infected)*((1- p_S_admit_R_col))', 'description': 'Admission of DS infected (only DS colonization)', 'reactants': [], 'products': ['DS_DS']}\n",
      " , DS_DSDR\n",
      "{'p': '(p_admitted_infected)*((p_S_admit_R_col))', 'description': 'Admission of DS infected (dual colonization)', 'reactants': [], 'products': ['DS_DSDR']}\n",
      " , DR_DR\n",
      "{'p': '(p_admitted_infected)*((1- p_R_admit_S_col))', 'description': 'Admission of DR infected (only DR colonization)', 'reactants': [], 'products': ['DR_DR']}\n",
      " , DR_DSDR\n",
      "{'p': '(p_admitted_infected)*((p_R_admit_S_col))', 'description': 'Admission of DR infected (dual colonization)', 'reactants': [], 'products': ['DR_DSDR']}\n",
      "X_X , M_X\n",
      "{'k': 'g0', 'description': 'Background repopulation with commensals', 'reactants': ['X_X'], 'products': ['M_X']}\n",
      "X_DS , M_DS\n",
      "{'k': 'g0', 'description': 'Background repopulation with commensals', 'reactants': ['X_DS'], 'products': ['M_DS']}\n",
      "X_DR , M_DR\n",
      "{'k': 'g0', 'description': 'Background repopulation with commensals', 'reactants': ['X_DR'], 'products': ['M_DR']}\n",
      "X_DSDR , M_DSDR\n",
      "{'k': 'g0', 'description': 'Background repopulation with commensals', 'reactants': ['X_DSDR'], 'products': ['M_DSDR']}\n",
      "DS_* , M_*\n",
      "{'k': 'gamm0', 'description': 'Background recovery from DS', 'reactants': ['DS_$i'], 'products': ['M_$i'], 'used_families': {'i': 'star'}}\n",
      "DR_* , M_*\n",
      "{'k': 'gamm0', 'description': 'Background recovery from DR ', 'reactants': ['DR_$i'], 'products': ['M_$i'], 'used_families': {'i': 'star'}}\n",
      "X_DS , DS_DS\n",
      "{'k': 'l', 'description': 'Uninhibited growth of colony', 'reactants': ['X_DS'], 'products': ['DS_DS']}\n",
      "X_DR , DR_DR\n",
      "{'k': 'l * rEllR', 'description': 'Uninhibited growth of colony', 'reactants': ['X_DR'], 'products': ['DR_DR']}\n",
      "X_DSDR , DS_DSDR\n",
      "{'k': '1/2 * l', 'description': 'Uninhibited growth of colony', 'reactants': ['X_DSDR'], 'products': ['DS_DSDR']}\n",
      "X_DSDR , DR_DSDR\n",
      "{'k': '1/2 * l * rEllR', 'description': 'Uninhibited growth of colony', 'reactants': ['X_DSDR'], 'products': ['DR_DSDR']}\n",
      "M_DS , DS_DS\n",
      "{'k': 'lambda', 'description': 'Overgrowth of colony', 'reactants': ['M_DS'], 'products': ['DS_DS']}\n",
      "M_DR , DR_DR\n",
      "{'k': 'lambda * rEllR', 'description': 'Overgrowth of colony', 'reactants': ['M_DR'], 'products': ['DR_DR']}\n",
      "M_DSDR , DS_DSDR\n",
      "{'k': '1/2 * lambda', 'description': 'Overgrowth of colony', 'reactants': ['M_DSDR'], 'products': ['DS_DSDR']}\n",
      "M_DSDR , DR_DSDR\n",
      "{'k': '1/2 * lambda * rEllR', 'description': 'Overgrowth of colony', 'reactants': ['M_DSDR'], 'products': ['DR_DSDR']}\n",
      "M_M , X_X\n",
      "{'k': 'theta_High', 'description': 'Spontaneous high dysbiosis', 'reactants': ['M_M'], 'products': ['X_X']}\n",
      "M_DS , X_DS\n",
      "{'k': 'theta_High', 'description': 'Spontaneous high dysbiosis', 'reactants': ['M_DS'], 'products': ['X_DS']}\n",
      "M_DR , X_DR\n",
      "{'k': 'theta_High', 'description': 'Spontaneous high dysbiosis', 'reactants': ['M_DR'], 'products': ['X_DR']}\n",
      "M_DSDR , X_DSDR\n",
      "{'k': 'theta_High', 'description': 'Spontaneous high dysbiosis', 'reactants': ['M_DSDR'], 'products': ['X_DSDR']}\n",
      "M_X , X_X\n",
      "{'k': 'theta_High', 'description': 'Spontaneous high dysbiosis', 'reactants': ['M_X'], 'products': ['X_X']}\n",
      "M_M , M_X\n",
      "{'k': 'theta_Low', 'description': 'Spontaneous low dysbiosis', 'reactants': ['M_M'], 'products': ['M_X']}\n",
      "M_DS , M_M\n",
      "{'k': 'gammaN0', 'description': 'Spontaneous decolonization via recovery', 'reactants': ['M_DS'], 'products': ['M_M']}\n",
      "M_DR , M_M\n",
      "{'k': 'gammaN0', 'description': 'Spontaneous decolonization via recovery', 'reactants': ['M_DR'], 'products': ['M_M']}\n",
      "M_DSDR , M_M\n",
      "{'k': 'gammaN0', 'description': 'Spontaneous decolonization via recovery', 'reactants': ['M_DSDR'], 'products': ['M_M']}\n",
      "M_X , M_M\n",
      "{'k': 'gN0', 'description': 'Background recovery of commensal diversity', 'reactants': ['M_X'], 'products': ['M_M']}\n",
      "*_DSDR , *_DS\n",
      "{'k': 'omega', 'description': 'DS wins out over DR', 'reactants': ['$i_DSDR'], 'products': ['$i_DS'], 'used_families': {'i': 'star'}}\n",
      "*_DSDR , *_DR\n",
      "{'k': 'omega * (1 - delta_w_R)', 'description': 'DR wins out over DS', 'reactants': ['$i_DSDR'], 'products': ['$i_DR'], 'used_families': {'i': 'star'}}\n"
     ]
    }
   ],
   "source": [
    "from collections import defaultdict\n",
    "reactions = []\n",
    "triggered_sets = defaultdict(lambda: [])\n",
    "\n",
    "for i, arrow in arrows.iterrows():\n",
    "    destination = reactions\n",
    "    if not pd.isna(arrow.trigger):\n",
    "        destination = triggered_sets[arrow.Group]\n",
    "\n",
    "    arrow_dictionary = parse_arrow(arrow)\n",
    "    destination.append(arrow_dictionary)"
   ]
  },
  {
   "cell_type": "code",
   "execution_count": null,
   "metadata": {},
   "outputs": [],
   "source": [
    "species_df = arrows_file.parse('Species')\n",
    "base_species = [Species(s.Name, description=s.Description) for _,s in species_df.fillna('').iterrows()]\n",
    "\n",
    "bad_species = [\n",
    "    {'name':'DS_M'},\n",
    "    {'name':'DS_X'},\n",
    "    {'name':'DS_DR'},\n",
    "    {'name':'DR_M'},\n",
    "    {'name':'DR_X'},\n",
    "    {'name':'DR_DS'},\n",
    "    {'name':'X_M'},\n",
    "    {'name':'DSDR_DSDR'},\n",
    "    {'name':'DSDR_DS'},\n",
    "    {'name':'DSDR_DR'},\n",
    "]\n",
    "bad_species = [Species(**s) for s in bad_species]\n",
    "\n",
    "species = [s.to_dict() for s in base_species] + [s.to_dict() for s in bad_species]\n",
    "\n"
   ]
  },
  {
   "cell_type": "code",
   "execution_count": null,
   "metadata": {},
   "outputs": [],
   "source": [
    "model_dictionary = {\n",
    "    'families': families,\n",
    "    'species': species,\n",
    "    'reactions': reactions,\n",
    "    'triggered_sets': triggered_sets\n",
    "}\n",
    "\n",
    "results = parser.loads(model_dictionary, model_class=HookAwareModel)"
   ]
  },
  {
   "cell_type": "code",
   "execution_count": 83,
   "metadata": {},
   "outputs": [],
   "source": [
    "filtered_reactions = [r for r in results.model.all_reactions if not set(r.reactants).intersection(bad_species) and not set(r.products).intersection(bad_species)]"
   ]
  },
  {
   "cell_type": "code",
   "execution_count": 80,
   "metadata": {},
   "outputs": [],
   "source": [
    "filtered_model = HookAwareModel(\n",
    "    base_species,\n",
    "    [r for r in results.model.all_reactions if not set(r.reactants).intersection(bad_species) and not set(r.products).intersection(bad_species)]\n",
    ")"
   ]
  }
 ],
 "metadata": {
  "kernelspec": {
   "display_name": ".venv",
   "language": "python",
   "name": "python3"
  },
  "language_info": {
   "codemirror_mode": {
    "name": "ipython",
    "version": 3
   },
   "file_extension": ".py",
   "mimetype": "text/x-python",
   "name": "python",
   "nbconvert_exporter": "python",
   "pygments_lexer": "ipython3",
   "version": "3.9.8"
  }
 },
 "nbformat": 4,
 "nbformat_minor": 2
}
