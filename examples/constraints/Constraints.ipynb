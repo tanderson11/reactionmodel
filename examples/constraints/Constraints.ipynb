{
 "cells": [
  {
   "cell_type": "code",
   "execution_count": 1,
   "metadata": {},
   "outputs": [],
   "source": [
    "import reactionmodel.parser"
   ]
  },
  {
   "cell_type": "code",
   "execution_count": 2,
   "metadata": {},
   "outputs": [],
   "source": [
    "parsed = reactionmodel.parser.load('./constraints.yaml')\n",
    "m = parsed.model\n",
    "parameters = parsed.parameters"
   ]
  },
  {
   "cell_type": "code",
   "execution_count": 3,
   "metadata": {},
   "outputs": [
    {
     "data": {
      "text/plain": [
       "[Reaction(description=death, reactants=(Species(name='<X_X_X>', description=''),), products=(), kinetic_order=(Species(name='<X_X_X>', description=''),), k=mu),\n",
       " Reaction(description=death, reactants=(Species(name='<X_X_Y>', description=''),), products=(), kinetic_order=(Species(name='<X_X_Y>', description=''),), k=mu),\n",
       " Reaction(description=death, reactants=(Species(name='<X_X_Z>', description=''),), products=(), kinetic_order=(Species(name='<X_X_Z>', description=''),), k=mu),\n",
       " Reaction(description=death, reactants=(Species(name='<X_Y_X>', description=''),), products=(), kinetic_order=(Species(name='<X_Y_X>', description=''),), k=mu),\n",
       " Reaction(description=death, reactants=(Species(name='<X_Y_Y>', description=''),), products=(), kinetic_order=(Species(name='<X_Y_Y>', description=''),), k=mu),\n",
       " Reaction(description=death, reactants=(Species(name='<X_Y_Z>', description=''),), products=(), kinetic_order=(Species(name='<X_Y_Z>', description=''),), k=mu),\n",
       " Reaction(description=death, reactants=(Species(name='<X_Z_X>', description=''),), products=(), kinetic_order=(Species(name='<X_Z_X>', description=''),), k=mu),\n",
       " Reaction(description=death, reactants=(Species(name='<X_Z_Y>', description=''),), products=(), kinetic_order=(Species(name='<X_Z_Y>', description=''),), k=mu),\n",
       " Reaction(description=death, reactants=(Species(name='<X_Z_Z>', description=''),), products=(), kinetic_order=(Species(name='<X_Z_Z>', description=''),), k=mu),\n",
       " Reaction(description=death, reactants=(Species(name='<Y_X_X>', description=''),), products=(), kinetic_order=(Species(name='<Y_X_X>', description=''),), k=mu),\n",
       " Reaction(description=death, reactants=(Species(name='<Y_X_Y>', description=''),), products=(), kinetic_order=(Species(name='<Y_X_Y>', description=''),), k=mu),\n",
       " Reaction(description=death, reactants=(Species(name='<Y_X_Z>', description=''),), products=(), kinetic_order=(Species(name='<Y_X_Z>', description=''),), k=mu),\n",
       " Reaction(description=death, reactants=(Species(name='<Y_Y_X>', description=''),), products=(), kinetic_order=(Species(name='<Y_Y_X>', description=''),), k=mu),\n",
       " Reaction(description=death, reactants=(Species(name='<Y_Y_Y>', description=''),), products=(), kinetic_order=(Species(name='<Y_Y_Y>', description=''),), k=mu),\n",
       " Reaction(description=death, reactants=(Species(name='<Y_Y_Z>', description=''),), products=(), kinetic_order=(Species(name='<Y_Y_Z>', description=''),), k=mu),\n",
       " Reaction(description=death, reactants=(Species(name='<Y_Z_X>', description=''),), products=(), kinetic_order=(Species(name='<Y_Z_X>', description=''),), k=mu),\n",
       " Reaction(description=death, reactants=(Species(name='<Y_Z_Y>', description=''),), products=(), kinetic_order=(Species(name='<Y_Z_Y>', description=''),), k=mu),\n",
       " Reaction(description=death, reactants=(Species(name='<Y_Z_Z>', description=''),), products=(), kinetic_order=(Species(name='<Y_Z_Z>', description=''),), k=mu),\n",
       " Reaction(description=death, reactants=(Species(name='<Z_X_X>', description=''),), products=(), kinetic_order=(Species(name='<Z_X_X>', description=''),), k=mu),\n",
       " Reaction(description=death, reactants=(Species(name='<Z_X_Y>', description=''),), products=(), kinetic_order=(Species(name='<Z_X_Y>', description=''),), k=mu),\n",
       " Reaction(description=death, reactants=(Species(name='<Z_X_Z>', description=''),), products=(), kinetic_order=(Species(name='<Z_X_Z>', description=''),), k=mu),\n",
       " Reaction(description=death, reactants=(Species(name='<Z_Y_X>', description=''),), products=(), kinetic_order=(Species(name='<Z_Y_X>', description=''),), k=mu),\n",
       " Reaction(description=death, reactants=(Species(name='<Z_Y_Y>', description=''),), products=(), kinetic_order=(Species(name='<Z_Y_Y>', description=''),), k=mu),\n",
       " Reaction(description=death, reactants=(Species(name='<Z_Y_Z>', description=''),), products=(), kinetic_order=(Species(name='<Z_Y_Z>', description=''),), k=mu),\n",
       " Reaction(description=death, reactants=(Species(name='<Z_Z_X>', description=''),), products=(), kinetic_order=(Species(name='<Z_Z_X>', description=''),), k=mu),\n",
       " Reaction(description=death, reactants=(Species(name='<Z_Z_Y>', description=''),), products=(), kinetic_order=(Species(name='<Z_Z_Y>', description=''),), k=mu),\n",
       " Reaction(description=death, reactants=(Species(name='<Z_Z_Z>', description=''),), products=(), kinetic_order=(Species(name='<Z_Z_Z>', description=''),), k=mu),\n",
       " Reaction(description=uninhibited growth of N1, reactants=(Species(name='<X_X_X>', description=''),), products=(Species(name='<X_X_X>', description=''),), kinetic_order=(Species(name='<X_X_X>', description=''),), k=k1),\n",
       " Reaction(description=uninhibited growth of N1, reactants=(Species(name='<X_X_Y>', description=''),), products=(Species(name='<X_X_Y>', description=''),), kinetic_order=(Species(name='<X_X_Y>', description=''),), k=k1),\n",
       " Reaction(description=uninhibited growth of N1, reactants=(Species(name='<X_X_Z>', description=''),), products=(Species(name='<X_X_Z>', description=''),), kinetic_order=(Species(name='<X_X_Z>', description=''),), k=k1),\n",
       " Reaction(description=uninhibited growth of N1, reactants=(Species(name='<X_Y_X>', description=''),), products=(Species(name='<Y_Y_X>', description=''),), kinetic_order=(Species(name='<X_Y_X>', description=''),), k=k1),\n",
       " Reaction(description=uninhibited growth of N1, reactants=(Species(name='<X_Y_Y>', description=''),), products=(Species(name='<Y_Y_Y>', description=''),), kinetic_order=(Species(name='<X_Y_Y>', description=''),), k=k1),\n",
       " Reaction(description=uninhibited growth of N1, reactants=(Species(name='<X_Y_Z>', description=''),), products=(Species(name='<Y_Y_Z>', description=''),), kinetic_order=(Species(name='<X_Y_Z>', description=''),), k=k1),\n",
       " Reaction(description=uninhibited growth of N1, reactants=(Species(name='<X_Z_X>', description=''),), products=(Species(name='<Z_Z_X>', description=''),), kinetic_order=(Species(name='<X_Z_X>', description=''),), k=k1),\n",
       " Reaction(description=uninhibited growth of N1, reactants=(Species(name='<X_Z_Y>', description=''),), products=(Species(name='<Z_Z_Y>', description=''),), kinetic_order=(Species(name='<X_Z_Y>', description=''),), k=k1),\n",
       " Reaction(description=uninhibited growth of N1, reactants=(Species(name='<X_Z_Z>', description=''),), products=(Species(name='<Z_Z_Z>', description=''),), kinetic_order=(Species(name='<X_Z_Z>', description=''),), k=k1),\n",
       " Reaction(description=uninhibited growth of N1, reactants=(Species(name='<X_X_X>', description=''),), products=(Species(name='<X_X_X>', description=''),), kinetic_order=(Species(name='<X_X_X>', description=''),), k=k2 * ~kexp~),\n",
       " Reaction(description=uninhibited growth of N1, reactants=(Species(name='<X_X_Y>', description=''),), products=(Species(name='<X_X_Y>', description=''),), kinetic_order=(Species(name='<X_X_Y>', description=''),), k=k2 * ~kexp~),\n",
       " Reaction(description=uninhibited growth of N1, reactants=(Species(name='<X_X_Z>', description=''),), products=(Species(name='<X_X_Z>', description=''),), kinetic_order=(Species(name='<X_X_Z>', description=''),), k=k2 * ~kexp~),\n",
       " Reaction(description=uninhibited growth of N1, reactants=(Species(name='<X_Y_X>', description=''),), products=(Species(name='<Y_Y_X>', description=''),), kinetic_order=(Species(name='<X_Y_X>', description=''),), k=k2 * ~kexp~),\n",
       " Reaction(description=uninhibited growth of N1, reactants=(Species(name='<X_Y_Y>', description=''),), products=(Species(name='<Y_Y_Y>', description=''),), kinetic_order=(Species(name='<X_Y_Y>', description=''),), k=k2 * ~kexp~),\n",
       " Reaction(description=uninhibited growth of N1, reactants=(Species(name='<X_Y_Z>', description=''),), products=(Species(name='<Y_Y_Z>', description=''),), kinetic_order=(Species(name='<X_Y_Z>', description=''),), k=k2 * ~kexp~),\n",
       " Reaction(description=uninhibited growth of N1, reactants=(Species(name='<X_Z_X>', description=''),), products=(Species(name='<Z_Z_X>', description=''),), kinetic_order=(Species(name='<X_Z_X>', description=''),), k=k2 * ~kexp~),\n",
       " Reaction(description=uninhibited growth of N1, reactants=(Species(name='<X_Z_Y>', description=''),), products=(Species(name='<Z_Z_Y>', description=''),), kinetic_order=(Species(name='<X_Z_Y>', description=''),), k=k2 * ~kexp~),\n",
       " Reaction(description=uninhibited growth of N1, reactants=(Species(name='<X_Z_Z>', description=''),), products=(Species(name='<Z_Z_Z>', description=''),), kinetic_order=(Species(name='<X_Z_Z>', description=''),), k=k2 * ~kexp~),\n",
       " Reaction(description=treatment, reactants=(Species(name='<X_Y_Y>', description=''),), products=(Species(name='<Z_Y_Y>', description=''),), kinetic_order=(Species(name='<X_Y_Y>', description=''),), k=tau),\n",
       " Reaction(description=treatment, reactants=(Species(name='<Y_Y_Y>', description=''),), products=(Species(name='<Y_Y_Y>', description=''),), kinetic_order=(Species(name='<Y_Y_Y>', description=''),), k=tau),\n",
       " Reaction(description=treatment, reactants=(Species(name='<Z_Y_Y>', description=''),), products=(Species(name='<Z_Y_Y>', description=''),), kinetic_order=(Species(name='<Z_Y_Y>', description=''),), k=tau)]"
      ]
     },
     "execution_count": 3,
     "metadata": {},
     "output_type": "execute_result"
    }
   ],
   "source": [
    "m.all_reactions"
   ]
  },
  {
   "cell_type": "code",
   "execution_count": null,
   "metadata": {},
   "outputs": [
    {
     "name": "stdout",
     "output_type": "stream",
     "text": [
      "Evaluating expression: mu => 0.01\n",
      "Evaluating expression: mu => 0.01\n",
      "Evaluating expression: mu => 0.01\n",
      "Evaluating expression: mu => 0.01\n",
      "Evaluating expression: mu => 0.01\n",
      "Evaluating expression: mu => 0.01\n",
      "Evaluating expression: mu => 0.01\n",
      "Evaluating expression: mu => 0.01\n",
      "Evaluating expression: mu => 0.01\n",
      "Evaluating expression: mu => 0.01\n",
      "Evaluating expression: mu => 0.01\n",
      "Evaluating expression: mu => 0.01\n",
      "Evaluating expression: mu => 0.01\n",
      "Evaluating expression: mu => 0.01\n",
      "Evaluating expression: mu => 0.01\n",
      "Evaluating expression: mu => 0.01\n",
      "Evaluating expression: mu => 0.01\n",
      "Evaluating expression: mu => 0.01\n",
      "Evaluating expression: mu => 0.01\n",
      "Evaluating expression: mu => 0.01\n",
      "Evaluating expression: mu => 0.01\n",
      "Evaluating expression: mu => 0.01\n",
      "Evaluating expression: mu => 0.01\n",
      "Evaluating expression: mu => 0.01\n",
      "Evaluating expression: mu => 0.01\n",
      "Evaluating expression: mu => 0.01\n",
      "Evaluating expression: mu => 0.01\n",
      "Evaluating expression: k1 => 1.0\n",
      "Evaluating expression: k1 => 1.0\n",
      "Evaluating expression: k1 => 1.0\n",
      "Evaluating expression: k1 => 1.0\n",
      "Evaluating expression: k1 => 1.0\n",
      "Evaluating expression: k1 => 1.0\n",
      "Evaluating expression: k1 => 1.0\n",
      "Evaluating expression: k1 => 1.0\n",
      "Evaluating expression: k1 => 1.0\n",
      "Evaluating expression: k2 * ~kexp~ => Substituting evalutions: k2 * ~kexp~ => k2 * x*y*z => "
     ]
    },
    {
     "ename": "NameNotDefined",
     "evalue": "'y' is not defined for expression 'k2 * x*y*z'",
     "output_type": "error",
     "traceback": [
      "\u001b[0;31m---------------------------------------------------------------------------\u001b[0m",
      "\u001b[0;31mKeyError\u001b[0m                                  Traceback (most recent call last)",
      "File \u001b[0;32m~/develop/reactionmodel/.venv/lib/python3.9/site-packages/simpleeval.py:554\u001b[0m, in \u001b[0;36mSimpleEval._eval_name\u001b[0;34m(self, node)\u001b[0m\n\u001b[1;32m    553\u001b[0m \u001b[38;5;28;01mif\u001b[39;00m \u001b[38;5;28mhasattr\u001b[39m(\u001b[38;5;28mself\u001b[39m\u001b[38;5;241m.\u001b[39mnames, \u001b[38;5;124m\"\u001b[39m\u001b[38;5;124m__getitem__\u001b[39m\u001b[38;5;124m\"\u001b[39m):\n\u001b[0;32m--> 554\u001b[0m     \u001b[38;5;28;01mreturn\u001b[39;00m \u001b[38;5;28;43mself\u001b[39;49m\u001b[38;5;241;43m.\u001b[39;49m\u001b[43mnames\u001b[49m\u001b[43m[\u001b[49m\u001b[43mnode\u001b[49m\u001b[38;5;241;43m.\u001b[39;49m\u001b[43mid\u001b[49m\u001b[43m]\u001b[49m\n\u001b[1;32m    555\u001b[0m \u001b[38;5;28;01mif\u001b[39;00m \u001b[38;5;28mcallable\u001b[39m(\u001b[38;5;28mself\u001b[39m\u001b[38;5;241m.\u001b[39mnames):\n",
      "\u001b[0;31mKeyError\u001b[0m: 'y'",
      "\nDuring handling of the above exception, another exception occurred:\n",
      "\u001b[0;31mNameNotDefined\u001b[0m                            Traceback (most recent call last)",
      "Cell \u001b[0;32mIn[4], line 7\u001b[0m\n\u001b[1;32m      1\u001b[0m parameters\u001b[38;5;241m.\u001b[39mupdate({\n\u001b[1;32m      2\u001b[0m     \u001b[38;5;124m'\u001b[39m\u001b[38;5;124mk1\u001b[39m\u001b[38;5;124m'\u001b[39m:\u001b[38;5;241m1.0\u001b[39m,\n\u001b[1;32m      3\u001b[0m     \u001b[38;5;124m'\u001b[39m\u001b[38;5;124mk2\u001b[39m\u001b[38;5;124m'\u001b[39m:\u001b[38;5;241m2.0\u001b[39m,\n\u001b[1;32m      4\u001b[0m     \u001b[38;5;124m'\u001b[39m\u001b[38;5;124mmu\u001b[39m\u001b[38;5;124m'\u001b[39m:\u001b[38;5;241m0.01\u001b[39m,\n\u001b[1;32m      5\u001b[0m     \u001b[38;5;124m'\u001b[39m\u001b[38;5;124mx\u001b[39m\u001b[38;5;124m'\u001b[39m:\u001b[38;5;241m3.0\u001b[39m,\n\u001b[1;32m      6\u001b[0m })\n\u001b[0;32m----> 7\u001b[0m \u001b[43mm\u001b[49m\u001b[38;5;241;43m.\u001b[39;49m\u001b[43mget_k\u001b[49m\u001b[43m(\u001b[49m\u001b[43mparameters\u001b[49m\u001b[38;5;241;43m=\u001b[39;49m\u001b[43mparameters\u001b[49m\u001b[43m)\u001b[49m\n",
      "File \u001b[0;32m~/develop/reactionmodel/reactionmodel/model.py:537\u001b[0m, in \u001b[0;36mModel.get_k\u001b[0;34m(self, reaction_to_k, parameters, jit)\u001b[0m\n\u001b[1;32m    535\u001b[0m     \u001b[38;5;28;01mif\u001b[39;00m parameters \u001b[38;5;129;01mis\u001b[39;00m \u001b[38;5;28;01mNone\u001b[39;00m:\n\u001b[1;32m    536\u001b[0m         \u001b[38;5;28;01mraise\u001b[39;00m MissingParametersError(\u001b[38;5;124m\"\u001b[39m\u001b[38;5;124mattempted to get k(t) without a parameter dictionary where at least one rate constant was a lazy expression that needs a parameter dictionary to be evaluated\u001b[39m\u001b[38;5;124m\"\u001b[39m)\n\u001b[0;32m--> 537\u001b[0m     base_k[i] \u001b[38;5;241m=\u001b[39m \u001b[43mr\u001b[49m\u001b[38;5;241;43m.\u001b[39;49m\u001b[43meval_k_with_parameters\u001b[49m\u001b[43m(\u001b[49m\u001b[43mparameters\u001b[49m\u001b[43m)\u001b[49m\n\u001b[1;32m    538\u001b[0m \u001b[38;5;28;01melif\u001b[39;00m \u001b[38;5;28misinstance\u001b[39m(k, (\u001b[38;5;28mint\u001b[39m, \u001b[38;5;28mfloat\u001b[39m)):\n\u001b[1;32m    539\u001b[0m     base_k[i] \u001b[38;5;241m=\u001b[39m \u001b[38;5;28mfloat\u001b[39m(k)\n",
      "File \u001b[0;32m~/develop/reactionmodel/reactionmodel/model.py:189\u001b[0m, in \u001b[0;36mReaction.eval_k_with_parameters\u001b[0;34m(self, parameters)\u001b[0m\n\u001b[1;32m    187\u001b[0m \u001b[38;5;28;01mdef\u001b[39;00m \u001b[38;5;21meval_k_with_parameters\u001b[39m(\u001b[38;5;28mself\u001b[39m, parameters):\n\u001b[1;32m    188\u001b[0m \u001b[38;5;250m    \u001b[39m\u001b[38;5;124;03m\"\"\"Evaluate lazy rate constant in the context of parameters.\"\"\"\u001b[39;00m\n\u001b[0;32m--> 189\u001b[0m     k \u001b[38;5;241m=\u001b[39m \u001b[43meval_expression\u001b[49m\u001b[43m(\u001b[49m\u001b[38;5;28;43mself\u001b[39;49m\u001b[38;5;241;43m.\u001b[39;49m\u001b[43mk\u001b[49m\u001b[43m,\u001b[49m\u001b[43m \u001b[49m\u001b[43mparameters\u001b[49m\u001b[43m)\u001b[49m\n\u001b[1;32m    190\u001b[0m     \u001b[38;5;28;01mreturn\u001b[39;00m k\n",
      "File \u001b[0;32m~/develop/reactionmodel/reactionmodel/model.py:54\u001b[0m, in \u001b[0;36meval_expression\u001b[0;34m(expression, parameters)\u001b[0m\n\u001b[1;32m     52\u001b[0m \u001b[38;5;28;01mif\u001b[39;00m \u001b[38;5;129;01mnot\u001b[39;00m \u001b[38;5;28misinstance\u001b[39m(parameters, \u001b[38;5;28mdict\u001b[39m):\n\u001b[1;32m     53\u001b[0m     parameters \u001b[38;5;241m=\u001b[39m parameters\u001b[38;5;241m.\u001b[39masdict()\n\u001b[0;32m---> 54\u001b[0m evaluated \u001b[38;5;241m=\u001b[39m \u001b[43msimple_eval\u001b[49m\u001b[43m(\u001b[49m\u001b[43mexpression\u001b[49m\u001b[43m,\u001b[49m\u001b[43m \u001b[49m\u001b[43mnames\u001b[49m\u001b[38;5;241;43m=\u001b[39;49m\u001b[43mparameters\u001b[49m\u001b[43m)\u001b[49m\n\u001b[1;32m     55\u001b[0m \u001b[38;5;28;01mtry\u001b[39;00m:\n\u001b[1;32m     56\u001b[0m     evaluated \u001b[38;5;241m=\u001b[39m \u001b[38;5;28mfloat\u001b[39m(evaluated)\n",
      "File \u001b[0;32m~/develop/reactionmodel/.venv/lib/python3.9/site-packages/simpleeval.py:748\u001b[0m, in \u001b[0;36msimple_eval\u001b[0;34m(expr, operators, functions, names)\u001b[0m\n\u001b[1;32m    746\u001b[0m \u001b[38;5;250m\u001b[39m\u001b[38;5;124;03m\"\"\"Simply evaluate an expresssion\"\"\"\u001b[39;00m\n\u001b[1;32m    747\u001b[0m s \u001b[38;5;241m=\u001b[39m SimpleEval(operators\u001b[38;5;241m=\u001b[39moperators, functions\u001b[38;5;241m=\u001b[39mfunctions, names\u001b[38;5;241m=\u001b[39mnames)\n\u001b[0;32m--> 748\u001b[0m \u001b[38;5;28;01mreturn\u001b[39;00m \u001b[43ms\u001b[49m\u001b[38;5;241;43m.\u001b[39;49m\u001b[43meval\u001b[49m\u001b[43m(\u001b[49m\u001b[43mexpr\u001b[49m\u001b[43m)\u001b[49m\n",
      "File \u001b[0;32m~/develop/reactionmodel/.venv/lib/python3.9/site-packages/simpleeval.py:428\u001b[0m, in \u001b[0;36mSimpleEval.eval\u001b[0;34m(self, expr, previously_parsed)\u001b[0m\n\u001b[1;32m    425\u001b[0m \u001b[38;5;66;03m# set a copy of the expression aside, so we can give nice errors...\u001b[39;00m\n\u001b[1;32m    426\u001b[0m \u001b[38;5;28mself\u001b[39m\u001b[38;5;241m.\u001b[39mexpr \u001b[38;5;241m=\u001b[39m expr\n\u001b[0;32m--> 428\u001b[0m \u001b[38;5;28;01mreturn\u001b[39;00m \u001b[38;5;28;43mself\u001b[39;49m\u001b[38;5;241;43m.\u001b[39;49m\u001b[43m_eval\u001b[49m\u001b[43m(\u001b[49m\u001b[43mpreviously_parsed\u001b[49m\u001b[43m \u001b[49m\u001b[38;5;129;43;01mor\u001b[39;49;00m\u001b[43m \u001b[49m\u001b[38;5;28;43mself\u001b[39;49m\u001b[38;5;241;43m.\u001b[39;49m\u001b[43mparse\u001b[49m\u001b[43m(\u001b[49m\u001b[43mexpr\u001b[49m\u001b[43m)\u001b[49m\u001b[43m)\u001b[49m\n",
      "File \u001b[0;32m~/develop/reactionmodel/.venv/lib/python3.9/site-packages/simpleeval.py:440\u001b[0m, in \u001b[0;36mSimpleEval._eval\u001b[0;34m(self, node)\u001b[0m\n\u001b[1;32m    435\u001b[0m \u001b[38;5;28;01mexcept\u001b[39;00m \u001b[38;5;167;01mKeyError\u001b[39;00m:\n\u001b[1;32m    436\u001b[0m     \u001b[38;5;28;01mraise\u001b[39;00m FeatureNotAvailable(\n\u001b[1;32m    437\u001b[0m         \u001b[38;5;124m\"\u001b[39m\u001b[38;5;124mSorry, \u001b[39m\u001b[38;5;132;01m{0}\u001b[39;00m\u001b[38;5;124m is not available in this \u001b[39m\u001b[38;5;124m\"\u001b[39m \u001b[38;5;124m\"\u001b[39m\u001b[38;5;124mevaluator\u001b[39m\u001b[38;5;124m\"\u001b[39m\u001b[38;5;241m.\u001b[39mformat(\u001b[38;5;28mtype\u001b[39m(node)\u001b[38;5;241m.\u001b[39m\u001b[38;5;18m__name__\u001b[39m)\n\u001b[1;32m    438\u001b[0m     )\n\u001b[0;32m--> 440\u001b[0m \u001b[38;5;28;01mreturn\u001b[39;00m \u001b[43mhandler\u001b[49m\u001b[43m(\u001b[49m\u001b[43mnode\u001b[49m\u001b[43m)\u001b[49m\n",
      "File \u001b[0;32m~/develop/reactionmodel/.venv/lib/python3.9/site-packages/simpleeval.py:443\u001b[0m, in \u001b[0;36mSimpleEval._eval_expr\u001b[0;34m(self, node)\u001b[0m\n\u001b[1;32m    442\u001b[0m \u001b[38;5;28;01mdef\u001b[39;00m \u001b[38;5;21m_eval_expr\u001b[39m(\u001b[38;5;28mself\u001b[39m, node):\n\u001b[0;32m--> 443\u001b[0m     \u001b[38;5;28;01mreturn\u001b[39;00m \u001b[38;5;28;43mself\u001b[39;49m\u001b[38;5;241;43m.\u001b[39;49m\u001b[43m_eval\u001b[49m\u001b[43m(\u001b[49m\u001b[43mnode\u001b[49m\u001b[38;5;241;43m.\u001b[39;49m\u001b[43mvalue\u001b[49m\u001b[43m)\u001b[49m\n",
      "File \u001b[0;32m~/develop/reactionmodel/.venv/lib/python3.9/site-packages/simpleeval.py:440\u001b[0m, in \u001b[0;36mSimpleEval._eval\u001b[0;34m(self, node)\u001b[0m\n\u001b[1;32m    435\u001b[0m \u001b[38;5;28;01mexcept\u001b[39;00m \u001b[38;5;167;01mKeyError\u001b[39;00m:\n\u001b[1;32m    436\u001b[0m     \u001b[38;5;28;01mraise\u001b[39;00m FeatureNotAvailable(\n\u001b[1;32m    437\u001b[0m         \u001b[38;5;124m\"\u001b[39m\u001b[38;5;124mSorry, \u001b[39m\u001b[38;5;132;01m{0}\u001b[39;00m\u001b[38;5;124m is not available in this \u001b[39m\u001b[38;5;124m\"\u001b[39m \u001b[38;5;124m\"\u001b[39m\u001b[38;5;124mevaluator\u001b[39m\u001b[38;5;124m\"\u001b[39m\u001b[38;5;241m.\u001b[39mformat(\u001b[38;5;28mtype\u001b[39m(node)\u001b[38;5;241m.\u001b[39m\u001b[38;5;18m__name__\u001b[39m)\n\u001b[1;32m    438\u001b[0m     )\n\u001b[0;32m--> 440\u001b[0m \u001b[38;5;28;01mreturn\u001b[39;00m \u001b[43mhandler\u001b[49m\u001b[43m(\u001b[49m\u001b[43mnode\u001b[49m\u001b[43m)\u001b[49m\n",
      "File \u001b[0;32m~/develop/reactionmodel/.venv/lib/python3.9/site-packages/simpleeval.py:495\u001b[0m, in \u001b[0;36mSimpleEval._eval_binop\u001b[0;34m(self, node)\u001b[0m\n\u001b[1;32m    493\u001b[0m \u001b[38;5;28;01mexcept\u001b[39;00m \u001b[38;5;167;01mKeyError\u001b[39;00m:\n\u001b[1;32m    494\u001b[0m     \u001b[38;5;28;01mraise\u001b[39;00m OperatorNotDefined(node\u001b[38;5;241m.\u001b[39mop, \u001b[38;5;28mself\u001b[39m\u001b[38;5;241m.\u001b[39mexpr)\n\u001b[0;32m--> 495\u001b[0m \u001b[38;5;28;01mreturn\u001b[39;00m operator(\u001b[38;5;28;43mself\u001b[39;49m\u001b[38;5;241;43m.\u001b[39;49m\u001b[43m_eval\u001b[49m\u001b[43m(\u001b[49m\u001b[43mnode\u001b[49m\u001b[38;5;241;43m.\u001b[39;49m\u001b[43mleft\u001b[49m\u001b[43m)\u001b[49m, \u001b[38;5;28mself\u001b[39m\u001b[38;5;241m.\u001b[39m_eval(node\u001b[38;5;241m.\u001b[39mright))\n",
      "File \u001b[0;32m~/develop/reactionmodel/.venv/lib/python3.9/site-packages/simpleeval.py:440\u001b[0m, in \u001b[0;36mSimpleEval._eval\u001b[0;34m(self, node)\u001b[0m\n\u001b[1;32m    435\u001b[0m \u001b[38;5;28;01mexcept\u001b[39;00m \u001b[38;5;167;01mKeyError\u001b[39;00m:\n\u001b[1;32m    436\u001b[0m     \u001b[38;5;28;01mraise\u001b[39;00m FeatureNotAvailable(\n\u001b[1;32m    437\u001b[0m         \u001b[38;5;124m\"\u001b[39m\u001b[38;5;124mSorry, \u001b[39m\u001b[38;5;132;01m{0}\u001b[39;00m\u001b[38;5;124m is not available in this \u001b[39m\u001b[38;5;124m\"\u001b[39m \u001b[38;5;124m\"\u001b[39m\u001b[38;5;124mevaluator\u001b[39m\u001b[38;5;124m\"\u001b[39m\u001b[38;5;241m.\u001b[39mformat(\u001b[38;5;28mtype\u001b[39m(node)\u001b[38;5;241m.\u001b[39m\u001b[38;5;18m__name__\u001b[39m)\n\u001b[1;32m    438\u001b[0m     )\n\u001b[0;32m--> 440\u001b[0m \u001b[38;5;28;01mreturn\u001b[39;00m \u001b[43mhandler\u001b[49m\u001b[43m(\u001b[49m\u001b[43mnode\u001b[49m\u001b[43m)\u001b[49m\n",
      "File \u001b[0;32m~/develop/reactionmodel/.venv/lib/python3.9/site-packages/simpleeval.py:495\u001b[0m, in \u001b[0;36mSimpleEval._eval_binop\u001b[0;34m(self, node)\u001b[0m\n\u001b[1;32m    493\u001b[0m \u001b[38;5;28;01mexcept\u001b[39;00m \u001b[38;5;167;01mKeyError\u001b[39;00m:\n\u001b[1;32m    494\u001b[0m     \u001b[38;5;28;01mraise\u001b[39;00m OperatorNotDefined(node\u001b[38;5;241m.\u001b[39mop, \u001b[38;5;28mself\u001b[39m\u001b[38;5;241m.\u001b[39mexpr)\n\u001b[0;32m--> 495\u001b[0m \u001b[38;5;28;01mreturn\u001b[39;00m operator(\u001b[38;5;28mself\u001b[39m\u001b[38;5;241m.\u001b[39m_eval(node\u001b[38;5;241m.\u001b[39mleft), \u001b[38;5;28;43mself\u001b[39;49m\u001b[38;5;241;43m.\u001b[39;49m\u001b[43m_eval\u001b[49m\u001b[43m(\u001b[49m\u001b[43mnode\u001b[49m\u001b[38;5;241;43m.\u001b[39;49m\u001b[43mright\u001b[49m\u001b[43m)\u001b[49m)\n",
      "File \u001b[0;32m~/develop/reactionmodel/.venv/lib/python3.9/site-packages/simpleeval.py:440\u001b[0m, in \u001b[0;36mSimpleEval._eval\u001b[0;34m(self, node)\u001b[0m\n\u001b[1;32m    435\u001b[0m \u001b[38;5;28;01mexcept\u001b[39;00m \u001b[38;5;167;01mKeyError\u001b[39;00m:\n\u001b[1;32m    436\u001b[0m     \u001b[38;5;28;01mraise\u001b[39;00m FeatureNotAvailable(\n\u001b[1;32m    437\u001b[0m         \u001b[38;5;124m\"\u001b[39m\u001b[38;5;124mSorry, \u001b[39m\u001b[38;5;132;01m{0}\u001b[39;00m\u001b[38;5;124m is not available in this \u001b[39m\u001b[38;5;124m\"\u001b[39m \u001b[38;5;124m\"\u001b[39m\u001b[38;5;124mevaluator\u001b[39m\u001b[38;5;124m\"\u001b[39m\u001b[38;5;241m.\u001b[39mformat(\u001b[38;5;28mtype\u001b[39m(node)\u001b[38;5;241m.\u001b[39m\u001b[38;5;18m__name__\u001b[39m)\n\u001b[1;32m    438\u001b[0m     )\n\u001b[0;32m--> 440\u001b[0m \u001b[38;5;28;01mreturn\u001b[39;00m \u001b[43mhandler\u001b[49m\u001b[43m(\u001b[49m\u001b[43mnode\u001b[49m\u001b[43m)\u001b[49m\n",
      "File \u001b[0;32m~/develop/reactionmodel/.venv/lib/python3.9/site-packages/simpleeval.py:567\u001b[0m, in \u001b[0;36mSimpleEval._eval_name\u001b[0;34m(self, node)\u001b[0m\n\u001b[1;32m    564\u001b[0m \u001b[38;5;28;01mif\u001b[39;00m node\u001b[38;5;241m.\u001b[39mid \u001b[38;5;129;01min\u001b[39;00m \u001b[38;5;28mself\u001b[39m\u001b[38;5;241m.\u001b[39mfunctions:\n\u001b[1;32m    565\u001b[0m     \u001b[38;5;28;01mreturn\u001b[39;00m \u001b[38;5;28mself\u001b[39m\u001b[38;5;241m.\u001b[39mfunctions[node\u001b[38;5;241m.\u001b[39mid]\n\u001b[0;32m--> 567\u001b[0m \u001b[38;5;28;01mraise\u001b[39;00m NameNotDefined(node\u001b[38;5;241m.\u001b[39mid, \u001b[38;5;28mself\u001b[39m\u001b[38;5;241m.\u001b[39mexpr)\n",
      "\u001b[0;31mNameNotDefined\u001b[0m: 'y' is not defined for expression 'k2 * x*y*z'"
     ]
    }
   ],
   "source": [
    "parameters.update({\n",
    "    'k1':1.0,\n",
    "    'k2':2.0,\n",
    "    'mu':0.01,\n",
    "    'x':3.0,\n",
    "})\n",
    "m.get_k(parameters=parameters)"
   ]
  },
  {
   "cell_type": "code",
   "execution_count": null,
   "metadata": {},
   "outputs": [],
   "source": []
  },
  {
   "cell_type": "code",
   "execution_count": null,
   "metadata": {},
   "outputs": [],
   "source": []
  }
 ],
 "metadata": {
  "kernelspec": {
   "display_name": ".venv",
   "language": "python",
   "name": "python3"
  },
  "language_info": {
   "codemirror_mode": {
    "name": "ipython",
    "version": 3
   },
   "file_extension": ".py",
   "mimetype": "text/x-python",
   "name": "python",
   "nbconvert_exporter": "python",
   "pygments_lexer": "ipython3",
   "version": "3.9.8"
  }
 },
 "nbformat": 4,
 "nbformat_minor": 2
}
