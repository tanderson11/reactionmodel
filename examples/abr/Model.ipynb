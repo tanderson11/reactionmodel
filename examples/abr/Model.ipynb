{
 "cells": [
  {
   "cell_type": "markdown",
   "metadata": {},
   "source": [
    "# Load packages, model, and parameters"
   ]
  },
  {
   "cell_type": "code",
   "execution_count": 4,
   "metadata": {},
   "outputs": [],
   "source": [
    "# Load packages\n",
    "import reactionmodel.parser\n",
    "from reactionmodel.model import Model, eval_expression\n",
    "from reactionmodel.hook import HookAwareModel\n",
    "import numpy as np\n",
    "import pandas as pd\n",
    "\n",
    "import matplotlib.pyplot as plt"
   ]
  },
  {
   "cell_type": "code",
   "execution_count": null,
   "metadata": {},
   "outputs": [],
   "source": [
    "# Load the model\n",
    "\n",
    "# reactionmodel.parser.load takes a path to a yaml file, and loads all the parameters / compartments / arrows / whatever specified in that file\n",
    "# it returns everything it finds as a ParseResults object\n",
    "#parsed = reactionmodel.parser.load('./abr.yaml')\n",
    "parsed = reactionmodel.parser.load('./hook_abr.yaml', model_class=HookAwareModel)\n",
    "# we access specifically the model that was parsed\n",
    "# (since the file only has a model, everything else was blank, but in principle the ParseResults could have also included things like the span of time over which to simulate)\n",
    "m = parsed.model\n",
    "# The model is the set of all the compartments (species) and arrows (reactions).\n",
    "m"
   ]
  },
  {
   "cell_type": "code",
   "execution_count": null,
   "metadata": {},
   "outputs": [],
   "source": [
    "# Using the same method, we parse the parameters file.\n",
    "parameters = reactionmodel.parser.load('./basic_parameters.yaml').parameters\n",
    "# The parameters object is a mapping between names, like 'p_low_a' and numbers. Names are explained in the Google Drive.\n",
    "# Values were chosen to get (1) simple (2) get the basic dynamics approximately right\n",
    "parameters"
   ]
  },
  {
   "cell_type": "code",
   "execution_count": null,
   "metadata": {},
   "outputs": [],
   "source": [
    "# Here we sift reactions to clear away \"irrelevant\" and \"nonoperative\" reactions\n",
    "# Irrelevant: the parameters were such that the rate of this process is 0 no matter what.\n",
    "# Nonoperative: all the reactions were specified in a programmatic way. I was careful,\n",
    "# but sometimes I couldn't avoid making reactions that don't do anything like X + Y => Y + X\n",
    "\n",
    "good = []\n",
    "zero_propensity = []\n",
    "noop = []\n",
    "for r in m.all_reactions:\n",
    "    if eval_expression(r.k, parameters) == 0:\n",
    "        zero_propensity.append(r)\n",
    "        continue\n",
    "    elif r.reactants == r.products:\n",
    "        noop.append(r)\n",
    "    else:\n",
    "        good.append(r)"
   ]
  },
  {
   "cell_type": "code",
   "execution_count": null,
   "metadata": {},
   "outputs": [],
   "source": [
    "len(good), len(zero_propensity), len(noop)"
   ]
  },
  {
   "cell_type": "code",
   "execution_count": null,
   "metadata": {},
   "outputs": [],
   "source": [
    "# Make a new model with the sifted components\n",
    "reduced_model = Model(m.species, good)\n",
    "reduced_model"
   ]
  },
  {
   "cell_type": "markdown",
   "metadata": {},
   "source": [
    "# Simulation"
   ]
  },
  {
   "cell_type": "code",
   "execution_count": null,
   "metadata": {},
   "outputs": [],
   "source": [
    "# Given a set of parameters, the Model object can produce the equations of motion of the system\n",
    "# Here, we get the time derivative of the state: dydt(t, y) => y dot\n",
    "# We set sparse=True so that it will use sparse matrices, which will be faster when we have so many reactions\n",
    "# random text\n",
    "\n",
    "dydt = reduced_model.get_dydt(parameters=parameters, sparse=True)"
   ]
  },
  {
   "cell_type": "code",
   "execution_count": null,
   "metadata": {},
   "outputs": [],
   "source": [
    "# Creating an initial state by giving a mapping of species name => initial population\n",
    "initial_pop = 500\n",
    "initial = reduced_model.make_initial_condition({'<M_M_M>': initial_pop*0.8, '<M_DS_DS>': initial_pop*0.18, '<M_DR_DR>': initial_pop*0.02})\n",
    "\n",
    "# The initial state is a vector with the following shape:\n",
    "initial.shape"
   ]
  },
  {
   "cell_type": "markdown",
   "metadata": {},
   "source": [
    "Below, we define a helper function `sum_and_relabel` that takes state $y(t)$ and groups together related species into a few categories for a better understanding of the state:\n",
    "\n",
    "- If DS in the high abundance compartment, \"susceptible infection\"\n",
    "- Otherwise, if DR in the high abundance compartment, \"resistant infection\"\n",
    "- Otherwise, if colonized, report colonization state (DS, DR, or dual)\n",
    "- Else, \"uninfected uncolonized\""
   ]
  },
  {
   "cell_type": "code",
   "execution_count": 9,
   "metadata": {},
   "outputs": [],
   "source": [
    "i_to_partition = {}\n",
    "for i,label in enumerate(reduced_model.legend()):\n",
    "    if '<DS' in label:\n",
    "        partition = 'susceptible infection'\n",
    "    elif '<DR' in label:\n",
    "        partition = 'resistant infection'\n",
    "    elif '_DS' in label and '_DR' in label:\n",
    "        partition = 'dual colonization'\n",
    "    elif '_DS' in label:\n",
    "        partition = 'DS colonization'\n",
    "    elif '_DR' in label:\n",
    "        partition = 'DR colonization'\n",
    "    else:\n",
    "        partition = 'uninfected uncolonized'\n",
    "    i_to_partition[i] = partition\n",
    "\n",
    "def sum_and_relabel(m, state):\n",
    "    partition_to_amount = {}\n",
    "    for i,x in enumerate(state):\n",
    "        try:\n",
    "            partition_to_amount[i_to_partition[i]] += x\n",
    "        except KeyError:\n",
    "            partition_to_amount[i_to_partition[i]] = x\n",
    "    \n",
    "    return partition_to_amount"
   ]
  },
  {
   "cell_type": "markdown",
   "metadata": {},
   "source": [
    "**Forwards simulation happens here:**\n",
    "\n",
    "What we mean by simulation is realizing the time evolution of the system. Now that we `dydt` and the initial state, `initial`, we want to solve the initial value problem (how does the system evolve based on the derivative and the initial state). The package `scipy` has an integrator for this task. So below we accomplish a deterministic simulation:"
   ]
  },
  {
   "cell_type": "code",
   "execution_count": 10,
   "metadata": {},
   "outputs": [],
   "source": [
    "from scipy.integrate import solve_ivp\n",
    "\n",
    "# [0, 10.0] is the time span over which to simulate\n",
    "result = solve_ivp(dydt, [0, 50.0], initial)"
   ]
  },
  {
   "cell_type": "code",
   "execution_count": null,
   "metadata": {},
   "outputs": [],
   "source": [
    "result"
   ]
  },
  {
   "cell_type": "markdown",
   "metadata": {},
   "source": [
    "The output of simulation is a `Result` object with the following relevant fields:\n",
    "\n",
    "- `t`: the history of each time where an evaluation was made during the integration (when simulating, use the argument `t_eval=[list, of, times]` to request specific points to be evaluated)\n",
    "- `y`: the state (the population of each species) evaluated at each time in the `t`. `y` is therefore a 2-D array. The first index is species, and the second index is the point in time."
   ]
  },
  {
   "cell_type": "code",
   "execution_count": null,
   "metadata": {},
   "outputs": [],
   "source": [
    "result.y.shape"
   ]
  },
  {
   "cell_type": "code",
   "execution_count": 13,
   "metadata": {},
   "outputs": [],
   "source": [
    "# Use the sum_and_relabel tool on point in the history\n",
    "new_y = []\n",
    "for y in result.y.T:\n",
    "    new_y.append(sum_and_relabel(reduced_model, y))"
   ]
  },
  {
   "cell_type": "code",
   "execution_count": 14,
   "metadata": {},
   "outputs": [],
   "source": [
    "# Make a dataframe of the results\n",
    "# A Pandas DataFrame is designed to match R dataframes, so hopefully it will be somewhat familiar \n",
    "df = pd.DataFrame(new_y)"
   ]
  },
  {
   "cell_type": "code",
   "execution_count": null,
   "metadata": {},
   "outputs": [],
   "source": [
    "df.plot()"
   ]
  },
  {
   "cell_type": "markdown",
   "metadata": {},
   "source": [
    "# Structural neutrality test"
   ]
  },
  {
   "cell_type": "markdown",
   "metadata": {},
   "source": [
    "To test if the system is structurally neutral, we manipulate the parameters so that the S and R strains are identical. Then if we substitute one for the other at equilibrium, the system should not be perturbed."
   ]
  },
  {
   "cell_type": "code",
   "execution_count": null,
   "metadata": {},
   "outputs": [],
   "source": [
    "equal_parsed = reactionmodel.parser.load('./abr.yaml')\n",
    "equal_m = equal_parsed.model\n",
    "\n",
    "equal_parameters = reactionmodel.parser.load('./equal_strains.yaml').parameters\n",
    "\n",
    "\n",
    "good = []\n",
    "zero_propensity = []\n",
    "noop = []\n",
    "for r in m.all_reactions:\n",
    "    if eval_expression(r.k, equal_parameters) == 0:\n",
    "        zero_propensity.append(r)\n",
    "        continue\n",
    "    elif r.reactants == r.products:\n",
    "        noop.append(r)\n",
    "    else:\n",
    "        good.append(r)\n",
    "\n",
    "equal_m = Model(equal_m.species, good)"
   ]
  },
  {
   "cell_type": "code",
   "execution_count": null,
   "metadata": {},
   "outputs": [],
   "source": [
    "equal_dydt = equal_m.get_dydt(parameters=equal_parameters, sparse=True)"
   ]
  },
  {
   "cell_type": "code",
   "execution_count": 65,
   "metadata": {},
   "outputs": [],
   "source": [
    "from scipy.integrate import solve_ivp\n",
    "equal_result = solve_ivp(equal_dydt, [0, 50.0], initial)"
   ]
  },
  {
   "cell_type": "code",
   "execution_count": 66,
   "metadata": {},
   "outputs": [],
   "source": [
    "def plot(model, result, ax=None):\n",
    "    ys = []\n",
    "    for y in result.y.T:\n",
    "        ys.append(sum_and_relabel(model, y))\n",
    "\n",
    "    df = pd.DataFrame(ys)\n",
    "    df.plot(ax=ax)"
   ]
  },
  {
   "cell_type": "code",
   "execution_count": null,
   "metadata": {},
   "outputs": [],
   "source": [
    "plot(equal_m, equal_result)"
   ]
  },
  {
   "cell_type": "code",
   "execution_count": 68,
   "metadata": {},
   "outputs": [],
   "source": [
    "initial_mostly_DS = reduced_model.make_initial_condition({'<M_M_M>': initial_pop*0.8, '<M_DS_DS>': initial_pop*0.18, '<M_DR_DR>': initial_pop*0.02})\n",
    "initial_mostly_DR = reduced_model.make_initial_condition({'<M_M_M>': initial_pop*0.8, '<M_DS_DS>': initial_pop*0.02, '<M_DR_DR>': initial_pop*0.18})\n",
    "\n",
    "initial_only_DS = reduced_model.make_initial_condition({'<M_M_M>': initial_pop*0.8, '<M_DS_DS>': initial_pop*0.20, '<M_DR_DR>': 0})\n",
    "initial_only_DR = reduced_model.make_initial_condition({'<M_M_M>': initial_pop*0.8, '<M_DS_DS>': 0, '<M_DR_DR>': initial_pop*0.20})"
   ]
  },
  {
   "cell_type": "code",
   "execution_count": 69,
   "metadata": {},
   "outputs": [],
   "source": [
    "mostly_DS_result = solve_ivp(equal_dydt, [0, 50.0], initial_mostly_DS)"
   ]
  },
  {
   "cell_type": "code",
   "execution_count": null,
   "metadata": {},
   "outputs": [],
   "source": [
    "plot(equal_m, mostly_DS_result)"
   ]
  },
  {
   "cell_type": "code",
   "execution_count": 71,
   "metadata": {},
   "outputs": [],
   "source": [
    "moderate = [r for r in equal_m.all_reactions if 'moderate' in r.description ]"
   ]
  },
  {
   "cell_type": "code",
   "execution_count": 72,
   "metadata": {},
   "outputs": [],
   "source": [
    "from reactionmodel.model import eval_expression\n",
    "\n",
    "for r in moderate:\n",
    "    print(r)\n",
    "    print(eval_expression(r.k, equal_parameters))\n",
    "    break"
   ]
  },
  {
   "cell_type": "code",
   "execution_count": 73,
   "metadata": {},
   "outputs": [],
   "source": [
    "mostly_DR_result = solve_ivp(equal_dydt, [0, 50.0], initial_mostly_DR)"
   ]
  },
  {
   "cell_type": "code",
   "execution_count": null,
   "metadata": {},
   "outputs": [],
   "source": [
    "plot(equal_m, mostly_DR_result)"
   ]
  },
  {
   "cell_type": "code",
   "execution_count": 75,
   "metadata": {},
   "outputs": [],
   "source": [
    "only_DS_result = solve_ivp(equal_dydt, [0, 50.0], initial_only_DS)"
   ]
  },
  {
   "cell_type": "code",
   "execution_count": 76,
   "metadata": {},
   "outputs": [],
   "source": [
    "only_DR_result = solve_ivp(equal_dydt, [0, 50.0], initial_only_DR)"
   ]
  },
  {
   "cell_type": "code",
   "execution_count": null,
   "metadata": {},
   "outputs": [],
   "source": [
    "plot(equal_m, only_DS_result)"
   ]
  },
  {
   "cell_type": "code",
   "execution_count": null,
   "metadata": {},
   "outputs": [],
   "source": [
    "plot(equal_m, only_DR_result)"
   ]
  },
  {
   "cell_type": "markdown",
   "metadata": {},
   "source": [
    "# Cutting out treatment"
   ]
  },
  {
   "cell_type": "code",
   "execution_count": null,
   "metadata": {},
   "outputs": [],
   "source": [
    "no_treatment_parameters = reactionmodel.parser.load('./equal_no_treatment.yaml').parameters\n",
    "\n",
    "good = []\n",
    "zero_propensity = []\n",
    "noop = []\n",
    "for r in m.all_reactions:\n",
    "    if eval_expression(r.k, no_treatment_parameters) == 0:\n",
    "        zero_propensity.append(r)\n",
    "        continue\n",
    "    elif r.reactants == r.products:\n",
    "        noop.append(r)\n",
    "    else:\n",
    "        good.append(r)"
   ]
  },
  {
   "cell_type": "code",
   "execution_count": null,
   "metadata": {},
   "outputs": [],
   "source": [
    "equal_dydt_no_treatment = equal_m.get_dydt(parameters=no_treatment_parameters, sparse=True)"
   ]
  },
  {
   "cell_type": "code",
   "execution_count": 81,
   "metadata": {},
   "outputs": [],
   "source": [
    "mostly_DS_result = solve_ivp(equal_dydt_no_treatment, [0, 20.0], initial_mostly_DS)"
   ]
  },
  {
   "cell_type": "code",
   "execution_count": null,
   "metadata": {},
   "outputs": [],
   "source": [
    "plot(equal_m, mostly_DS_result)"
   ]
  },
  {
   "cell_type": "code",
   "execution_count": 83,
   "metadata": {},
   "outputs": [],
   "source": [
    "mostly_DR_result = solve_ivp(equal_dydt_no_treatment, [0, 20.0], initial_mostly_DR)"
   ]
  },
  {
   "cell_type": "code",
   "execution_count": null,
   "metadata": {},
   "outputs": [],
   "source": [
    "plot(equal_m, mostly_DR_result)"
   ]
  },
  {
   "cell_type": "code",
   "execution_count": null,
   "metadata": {},
   "outputs": [],
   "source": [
    "no_treatment_parameters['pAMX']"
   ]
  },
  {
   "cell_type": "code",
   "execution_count": 86,
   "metadata": {},
   "outputs": [],
   "source": [
    "from reactionmodel.model import eval_expression"
   ]
  },
  {
   "cell_type": "code",
   "execution_count": 87,
   "metadata": {},
   "outputs": [],
   "source": [
    "def _eval_matrix(matrix_name, parameters):\n",
    "    matrix = parameters[matrix_name]\n",
    "    evaluated = np.zeros_like(matrix)\n",
    "    it = np.nditer(matrix, flags=['refs_ok', 'multi_index'])\n",
    "    for exp in it:\n",
    "        evaluated[it.multi_index] = eval_expression(str(exp), parameters)\n",
    "    return evaluated"
   ]
  },
  {
   "cell_type": "code",
   "execution_count": null,
   "metadata": {},
   "outputs": [],
   "source": [
    "_eval_matrix('pAMX', no_treatment_parameters).sum()"
   ]
  },
  {
   "cell_type": "code",
   "execution_count": null,
   "metadata": {},
   "outputs": [],
   "source": [
    "print(no_treatment_parameters['pAMX'])"
   ]
  },
  {
   "cell_type": "code",
   "execution_count": 90,
   "metadata": {},
   "outputs": [],
   "source": [
    "# inner 2x2 = p_col * p_low_d\n",
    "# outer edge = (1-p_col) + p_col * (1-p_low_d) (f_S + f_R)"
   ]
  }
 ],
 "metadata": {
  "kernelspec": {
   "display_name": ".venv",
   "language": "python",
   "name": "python3"
  },
  "language_info": {
   "codemirror_mode": {
    "name": "ipython",
    "version": 3
   },
   "file_extension": ".py",
   "mimetype": "text/x-python",
   "name": "python",
   "nbconvert_exporter": "python",
   "pygments_lexer": "ipython3",
   "version": "3.9.8"
  }
 },
 "nbformat": 4,
 "nbformat_minor": 2
}
