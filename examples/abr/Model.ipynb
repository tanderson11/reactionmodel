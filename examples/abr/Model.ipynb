{
 "cells": [
  {
   "cell_type": "markdown",
   "metadata": {},
   "source": [
    "# Load packages, model, and parameters"
   ]
  },
  {
   "cell_type": "code",
   "execution_count": 1,
   "metadata": {},
   "outputs": [],
   "source": [
    "# Load packages\n",
    "import reactionmodel.parser\n",
    "from reactionmodel.model import Model, eval_expression\n",
    "import numpy as np\n",
    "import pandas as pd\n",
    "\n",
    "import matplotlib.pyplot as plt"
   ]
  },
  {
   "cell_type": "code",
   "execution_count": 3,
   "metadata": {},
   "outputs": [
    {
     "data": {
      "text/plain": [
       "Model with 64 species and 25550 reactions."
      ]
     },
     "execution_count": 3,
     "metadata": {},
     "output_type": "execute_result"
    }
   ],
   "source": [
    "# Load the model\n",
    "\n",
    "# reactionmodel.parser.load takes a path to a yaml file, and loads all the parameters / compartments / arrows / whatever specified in that file\n",
    "# it returns everything it finds as a ParseResults object\n",
    "parsed = reactionmodel.parser.load('./abr.yaml')\n",
    "# we access specifically the model that was parsed\n",
    "# (since the file only has a model, everything else was blank, but in principle the ParseResults could have also included things like the span of time over which to simulate)\n",
    "m = parsed.model\n",
    "# The model is the set of all the compartments (species) and arrows (reactions).\n",
    "m"
   ]
  },
  {
   "cell_type": "code",
   "execution_count": 4,
   "metadata": {},
   "outputs": [
    {
     "name": "stdout",
     "output_type": "stream",
     "text": [
      "While loading parameter matrix, encountered non-float objects. Treating them as string representations of parameters.\n",
      "While loading parameter matrix, encountered non-float objects. Treating them as string representations of parameters.\n",
      "While loading parameter matrix, encountered non-float objects. Treating them as string representations of parameters.\n",
      "While loading parameter matrix, encountered non-float objects. Treating them as string representations of parameters.\n",
      "While loading parameter matrix, encountered non-float objects. Treating them as string representations of parameters.\n",
      "While loading parameter matrix, encountered non-float objects. Treating them as string representations of parameters.\n",
      "While loading parameter matrix, encountered non-float objects. Treating them as string representations of parameters.\n",
      "While loading parameter matrix, encountered non-float objects. Treating them as string representations of parameters.\n",
      "While loading parameter matrix, encountered non-float objects. Treating them as string representations of parameters.\n"
     ]
    },
    {
     "data": {
      "text/plain": [
       "{'Delta': array(['Delt * rDeltaM', 'Delt * rDeltaDS', 'Delt * rDeltaDR',\n",
       "        'Delt * rDeltaX'], dtype=object),\n",
       " 'Mu': array(['mu * rMuM', 'mu * rMuDS', 'mu * rMuDR', 'mu * rMuX'], dtype=object),\n",
       " 'V': array([['r_beta_C', 'r_beta_C', 'r_beta_C', 1],\n",
       "        ['r_beta_C * (1 - delta_beta_R)', 'r_beta_C * (1 - delta_beta_R)',\n",
       "         'r_beta_C * (1 - delta_beta_R)', 1]], dtype=object),\n",
       " 'I': array(['p_beta_infection_M', 0, 0, 'p_beta_infection_X'], dtype=object),\n",
       " 'W': array([['0', 'w * rWM', 'w * rWM', 'w * rWX'],\n",
       "        ['w * rWM', '0', 'w', 'w * rWX'],\n",
       "        ['w * rWM * (1 - dWR)', 'w * (1 - dWR)', '0',\n",
       "         'w * (1 - dWR) * rWX'],\n",
       "        ['0', '0', '0', '0']], dtype=object),\n",
       " 'pAMX': array([['(1 - p_col)*(1-p_low_d)', '1/2*p_col*(1-p_low_d)*f_S',\n",
       "         '1/2 * p_col * (1 - p_low_d) * f_R', '0'],\n",
       "        ['0', 'p_col * p_low_d * f_S', '1/2 * p_col*f_dual', '0'],\n",
       "        ['p_col * p_low_d * f_S', '1/2 * p_col*f_dual',\n",
       "         'p_col * p_low_d * f_R', '0'],\n",
       "        ['0', '0', '0', '(1 - p_col) * p_low_d']], dtype=object),\n",
       " 'pADS': array([[0, '0', '0', 0],\n",
       "        [0, '1 - pA_IS_R', '1/2 * pA_IS_R', 0],\n",
       "        [0, '1/2 * pA_IS_R', '0', 0],\n",
       "        [0, '0', '0', 0]], dtype=object),\n",
       " 'pADR': array([[0, '0', '0', 0],\n",
       "        [0, '0', '1/2 * pA_IR_S', 0],\n",
       "        [0, '1/2 * pA_IR_S', '0', 0],\n",
       "        [0, '0', '0', 0]], dtype=object),\n",
       " 'Tau': array(['tau_0', 'tau_0 + tau', 'tau_0 + tau', 'tau_0'], dtype=object),\n",
       " 'Delt': 0.01,\n",
       " 'rDeltaM': 1.0,\n",
       " 'rDeltaDS': 1.0,\n",
       " 'rDeltaDR': 1.0,\n",
       " 'rDeltaX': 1.0,\n",
       " 'mu': 0.01,\n",
       " 'rMuM': 1.0,\n",
       " 'rMuDS': 10.0,\n",
       " 'rMuDR': 10.0,\n",
       " 'rMuX': 1.0,\n",
       " 'rho': 10.0,\n",
       " 'pAI': 0.2,\n",
       " 'pAIR': 0.2,\n",
       " 'p_low_a': 0.0,\n",
       " 'p_low_d': 0.0,\n",
       " 'p_col': 0.2,\n",
       " 'pA_IS_R': 0.1,\n",
       " 'pA_IR_S': 0.1,\n",
       " 'f_S': 0.77,\n",
       " 'f_R': 0.19,\n",
       " 'f_dual': 0.04,\n",
       " 'g0': 0.2,\n",
       " 'g': 0.01,\n",
       " 'gamma0': 0.05,\n",
       " 'gamma': 0.001,\n",
       " 'l': 10.0,\n",
       " 'lam': 0.01,\n",
       " 'theta': 0.001,\n",
       " 'theta_N': 0.001,\n",
       " 'w': 0.01,\n",
       " 'rWM': 0.5,\n",
       " 'rWX': 100.0,\n",
       " 'dWN': 0.0,\n",
       " 'dWR': 0.25,\n",
       " 'rBN': 0.1,\n",
       " 'pVN1': 0.5,\n",
       " 'pBN1': 0.5,\n",
       " 'beta': 0.01,\n",
       " 'p_beta_infection_M': 0.01,\n",
       " 'p_beta_infection_X': 0.001,\n",
       " 'r_beta_C': 0.1,\n",
       " 'delta_beta_R': 0.25,\n",
       " 'tau_0': 0.1,\n",
       " 'tau': 1.0,\n",
       " 'pEN': 0.1,\n",
       " 'eDS': 1.0,\n",
       " 'eM': 1.0,\n",
       " 'eDR': 0.0}"
      ]
     },
     "execution_count": 4,
     "metadata": {},
     "output_type": "execute_result"
    }
   ],
   "source": [
    "# Using the same method, we parse the parameters file.\n",
    "parameters = reactionmodel.parser.load('./basic_parameters.yaml').parameters\n",
    "# The parameters object is a mapping between names, like 'p_low_a' and numbers. Names are explained in the Google Drive.\n",
    "# Values were chosen to get (1) simple (2) get the basic dynamics approximately right\n",
    "parameters"
   ]
  },
  {
   "cell_type": "code",
   "execution_count": null,
   "metadata": {},
   "outputs": [],
   "source": [
    "# Here we sift reactions to clear away \"irrelevant\" and \"nonoperative\" reactions\n",
    "# Irrelevant: the parameters were such that the rate of this process is 0 no matter what.\n",
    "# Nonoperative: all the reactions were specified in a programmatic way. I was careful,\n",
    "# but sometimes I couldn't avoid making reactions that don't do anything like X + Y => Y + X\n",
    "\n",
    "good = []\n",
    "zero_propensity = []\n",
    "noop = []\n",
    "for r in m.all_reactions:\n",
    "    if eval_expression(r.k, parameters) == 0:\n",
    "        zero_propensity.append(r)\n",
    "        continue\n",
    "    elif r.reactants == r.products:\n",
    "        noop.append(r)\n",
    "    else:\n",
    "        good.append(r)"
   ]
  },
  {
   "cell_type": "code",
   "execution_count": 6,
   "metadata": {},
   "outputs": [
    {
     "data": {
      "text/plain": [
       "(15990, 6382, 3178)"
      ]
     },
     "execution_count": 6,
     "metadata": {},
     "output_type": "execute_result"
    }
   ],
   "source": [
    "len(good), len(zero_propensity), len(noop)"
   ]
  },
  {
   "cell_type": "code",
   "execution_count": 21,
   "metadata": {},
   "outputs": [
    {
     "data": {
      "text/plain": [
       "Model with 64 species and 15990 reactions."
      ]
     },
     "execution_count": 21,
     "metadata": {},
     "output_type": "execute_result"
    }
   ],
   "source": [
    "# Make a new model with the sifted components\n",
    "reduced_model = Model(m.species, good)\n",
    "reduced_model"
   ]
  },
  {
   "cell_type": "markdown",
   "metadata": {},
   "source": [
    "# Simulation"
   ]
  },
  {
   "cell_type": "code",
   "execution_count": null,
   "metadata": {},
   "outputs": [],
   "source": [
    "# Given a set of parameters, the Model object can produce the equations of motion of the system\n",
    "# Here, we get the time derivative of the state: dydt(t, y) => y dot\n",
    "# We set sparse=True so that it will use sparse matrices, which will be faster when we have so many reactions\n",
    "\n",
    "dydt = reduced_model.get_dydt(parameters=parameters, sparse=True)"
   ]
  },
  {
   "cell_type": "code",
   "execution_count": 10,
   "metadata": {},
   "outputs": [
    {
     "data": {
      "text/plain": [
       "(64,)"
      ]
     },
     "execution_count": 10,
     "metadata": {},
     "output_type": "execute_result"
    }
   ],
   "source": [
    "# Creating an initial state by giving a mapping of species name => initial population\n",
    "initial_pop = 500\n",
    "initial = reduced_model.make_initial_condition({'<M_M_M>': initial_pop*0.8, '<M_DS_DS>': initial_pop*0.18, '<M_DR_DR>': initial_pop*0.02})\n",
    "\n",
    "# The initial state is a vector with the following shape:\n",
    "initial.shape"
   ]
  },
  {
   "cell_type": "markdown",
   "metadata": {},
   "source": [
    "Below, we define a helper function `sum_and_relabel` that takes state $y(t)$ and groups together related species into a few categories for a better understanding of the state:\n",
    "\n",
    "- If DS in the high abundance compartment, \"susceptible infection\"\n",
    "- Otherwise, if DR in the high abundance compartment, \"resistant infection\"\n",
    "- Otherwise, if colonized, report colonization state (DS, DR, or dual)\n",
    "- Else, \"uninfected uncolonized\""
   ]
  },
  {
   "cell_type": "code",
   "execution_count": 24,
   "metadata": {},
   "outputs": [],
   "source": [
    "i_to_partition = {}\n",
    "for i,label in enumerate(reduced_model.legend()):\n",
    "    if '<DS' in label:\n",
    "        partition = 'susceptible infection'\n",
    "    elif '<DR' in label:\n",
    "        partition = 'resistant infection'\n",
    "    elif '_DS' in label and '_DR' in label:\n",
    "        partition = 'dual colonization'\n",
    "    elif '_DS' in label:\n",
    "        partition = 'DS colonization'\n",
    "    elif '_DR' in label:\n",
    "        partition = 'DR colonization'\n",
    "    else:\n",
    "        partition = 'uninfected uncolonized'\n",
    "    i_to_partition[i] = partition\n",
    "\n",
    "def sum_and_relabel(m, state):\n",
    "    partition_to_amount = {}\n",
    "    for i,x in enumerate(state):\n",
    "        try:\n",
    "            partition_to_amount[i_to_partition[i]] += x\n",
    "        except KeyError:\n",
    "            partition_to_amount[i_to_partition[i]] = x\n",
    "    \n",
    "    return partition_to_amount"
   ]
  },
  {
   "cell_type": "markdown",
   "metadata": {},
   "source": [
    "**Forwards simulation happens here:**\n",
    "\n",
    "What we mean by simulation is realizing the time evolution of the system. Now that we `dydt` and the initial state, `initial`, we want to solve the initial value problem (how does the system evolve based on the derivative and the initial state). The package `scipy` has an integrator for this task. So below we accomplish a deterministic simulation:"
   ]
  },
  {
   "cell_type": "code",
   "execution_count": 11,
   "metadata": {},
   "outputs": [],
   "source": [
    "from scipy.integrate import solve_ivp\n",
    "\n",
    "# [0, 10.0] is the time span over which to simulate\n",
    "result = solve_ivp(dydt, [0, 10.0], initial)"
   ]
  },
  {
   "cell_type": "code",
   "execution_count": 25,
   "metadata": {},
   "outputs": [
    {
     "data": {
      "text/plain": [
       "  message: The solver successfully reached the end of the integration interval.\n",
       "  success: True\n",
       "   status: 0\n",
       "        t: [ 0.000e+00  4.547e-05 ...  9.977e+00  1.000e+01]\n",
       "        y: [[ 4.000e+02  4.000e+02 ...  2.615e+02  2.612e+02]\n",
       "            [ 0.000e+00  1.017e-04 ...  3.383e+01  3.387e+01]\n",
       "            ...\n",
       "            [ 0.000e+00  5.306e-11 ...  2.088e-01  2.095e-01]\n",
       "            [ 0.000e+00  2.228e-04 ...  2.383e+01  2.382e+01]]\n",
       "      sol: None\n",
       " t_events: None\n",
       " y_events: None\n",
       "     nfev: 944\n",
       "     njev: 0\n",
       "      nlu: 0"
      ]
     },
     "execution_count": 25,
     "metadata": {},
     "output_type": "execute_result"
    }
   ],
   "source": [
    "result"
   ]
  },
  {
   "cell_type": "markdown",
   "metadata": {},
   "source": [
    "The output of simulation is a `Result` object with the following relevant fields:\n",
    "\n",
    "- `t`: the history of each time where an evaluation was made during the integration (when simulating, use the argument `t_eval=[list, of, times]` to request specific points to be evaluated)\n",
    "- `y`: the state (the population of each species) evaluated at each time in the `t`. `y` is therefore a 2-D array. The first index is species, and the second index is the point in time."
   ]
  },
  {
   "cell_type": "code",
   "execution_count": 26,
   "metadata": {},
   "outputs": [
    {
     "data": {
      "text/plain": [
       "(64, 132)"
      ]
     },
     "execution_count": 26,
     "metadata": {},
     "output_type": "execute_result"
    }
   ],
   "source": [
    "result.y.shape"
   ]
  },
  {
   "cell_type": "code",
   "execution_count": 27,
   "metadata": {},
   "outputs": [],
   "source": [
    "# Use the sum_and_relabel tool on point in the history\n",
    "new_y = []\n",
    "for y in result.y.T:\n",
    "    new_y.append(sum_and_relabel(reduced_model, y))"
   ]
  },
  {
   "cell_type": "code",
   "execution_count": 28,
   "metadata": {},
   "outputs": [],
   "source": [
    "# Make a dataframe of the results\n",
    "# A Pandas DataFrame is designed to match R dataframes, so hopefully it will be somewhat familiar \n",
    "df = pd.DataFrame(new_y)"
   ]
  },
  {
   "cell_type": "code",
   "execution_count": 29,
   "metadata": {},
   "outputs": [
    {
     "data": {
      "text/plain": [
       "<Axes: >"
      ]
     },
     "execution_count": 29,
     "metadata": {},
     "output_type": "execute_result"
    },
    {
     "data": {
      "image/png": "[encoded data removed]",
      "text/plain": [
       "<Figure size 640x480 with 1 Axes>"
      ]
     },
     "metadata": {},
     "output_type": "display_data"
    }
   ],
   "source": [
    "df.plot()"
   ]
  }
 ],
 "metadata": {
  "kernelspec": {
   "display_name": ".venv",
   "language": "python",
   "name": "python3"
  },
  "language_info": {
   "codemirror_mode": {
    "name": "ipython",
    "version": 3
   },
   "file_extension": ".py",
   "mimetype": "text/x-python",
   "name": "python",
   "nbconvert_exporter": "python",
   "pygments_lexer": "ipython3",
   "version": "3.9.8"
  }
 },
 "nbformat": 4,
 "nbformat_minor": 2
}
