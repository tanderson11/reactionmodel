{
 "cells": [
  {
   "cell_type": "code",
   "execution_count": 1,
   "metadata": {},
   "outputs": [],
   "source": [
    "import reactionmodel.parser\n",
    "from reactionmodel.model import Model"
   ]
  },
  {
   "cell_type": "code",
   "execution_count": 3,
   "metadata": {},
   "outputs": [],
   "source": [
    "from reactionmodel.model import Reaction, Species\n",
    "class DummyModel(Model):\n",
    "    def __init__(self, species: list[Species], reactions: list[Reaction]) -> None:\n",
    "        super().__init__(species, reactions, reject_duplicates=False)\n",
    "\n",
    "parsed = reactionmodel.parser.load('./abr.yaml', model_class=DummyModel)\n",
    "m = parsed.model"
   ]
  },
  {
   "cell_type": "code",
   "execution_count": null,
   "metadata": {},
   "outputs": [
    {
     "data": {
      "text/plain": [
       "272"
      ]
     },
     "execution_count": 3,
     "metadata": {},
     "output_type": "execute_result"
    }
   ],
   "source": [
    "len(m.all_reactions)"
   ]
  },
  {
   "cell_type": "code",
   "execution_count": null,
   "metadata": {},
   "outputs": [
    {
     "data": {
      "text/plain": [
       "232"
      ]
     },
     "execution_count": 4,
     "metadata": {},
     "output_type": "execute_result"
    }
   ],
   "source": [
    "len([r for r in m.all_reactions if not (r.reactants == r.products)])"
   ]
  },
  {
   "cell_type": "code",
   "execution_count": null,
   "metadata": {},
   "outputs": [
    {
     "data": {
      "text/plain": [
       "224"
      ]
     },
     "execution_count": 5,
     "metadata": {},
     "output_type": "execute_result"
    }
   ],
   "source": [
    "len(set(m.all_reactions))"
   ]
  },
  {
   "cell_type": "code",
   "execution_count": null,
   "metadata": {},
   "outputs": [
    {
     "name": "stdout",
     "output_type": "stream",
     "text": [
      "Reaction(description=N1 displaces N2, reactants=(Species(name='<M_M_M>', description=''),), products=(Species(name='<M_M_M>', description=''),), kinetic_order=(Species(name='<M_M_M>', description=''),), k=W[0][0])\n"
     ]
    }
   ],
   "source": [
    "for r in m.all_reactions:\n",
    "    if 'displaces' in r.description:\n",
    "        print(r)\n",
    "        break"
   ]
  },
  {
   "cell_type": "code",
   "execution_count": null,
   "metadata": {},
   "outputs": [
    {
     "data": {
      "text/plain": [
       "{'W': array([['0', 'w * rWM', 'w * rWM', 'w * rWX'],\n",
       "        ['w * rWM', '0', 'w', 'w * rWX'],\n",
       "        ['w * rWM * (1 - dWR)', 'w * (1 - dWR)', '0',\n",
       "         'w * (1 - dWR) * rWX'],\n",
       "        ['0', '0', '0', '0']], dtype=object),\n",
       " 'g0': 0.1,\n",
       " 'gamma0': 0.1,\n",
       " 'l': 0.1,\n",
       " 'lam': 0.1,\n",
       " 'w': 0.1,\n",
       " 'rWM': 1.0,\n",
       " 'rWX': 1.0,\n",
       " 'dWR': 0.0}"
      ]
     },
     "execution_count": 7,
     "metadata": {},
     "output_type": "execute_result"
    }
   ],
   "source": [
    "parsed.parameters"
   ]
  },
  {
   "cell_type": "code",
   "execution_count": null,
   "metadata": {},
   "outputs": [
    {
     "name": "stdout",
     "output_type": "stream",
     "text": [
      "Evaluating expression: g0 => 0.1\n",
      "Evaluating expression: g0 => 0.1\n",
      "Evaluating expression: g0 => 0.1\n",
      "Evaluating expression: g0 => 0.1\n",
      "Evaluating expression: g0 => 0.1\n",
      "Evaluating expression: g0 => 0.1\n",
      "Evaluating expression: g0 => 0.1\n",
      "Evaluating expression: g0 => 0.1\n",
      "Evaluating expression: g0 => 0.1\n",
      "Evaluating expression: g0 => 0.1\n",
      "Evaluating expression: g0 => 0.1\n",
      "Evaluating expression: g0 => 0.1\n",
      "Evaluating expression: g0 => 0.1\n",
      "Evaluating expression: g0 => 0.1\n",
      "Evaluating expression: g0 => 0.1\n",
      "Evaluating expression: g0 => 0.1\n",
      "Evaluating expression: g0 => 0.1\n",
      "Evaluating expression: g0 => 0.1\n",
      "Evaluating expression: g0 => 0.1\n",
      "Evaluating expression: g0 => 0.1\n",
      "Evaluating expression: g0 => 0.1\n",
      "Evaluating expression: g0 => 0.1\n",
      "Evaluating expression: g0 => 0.1\n",
      "Evaluating expression: g0 => 0.1\n",
      "Evaluating expression: g0 => 0.1\n",
      "Evaluating expression: g0 => 0.1\n",
      "Evaluating expression: g0 => 0.1\n",
      "Evaluating expression: g0 => 0.1\n",
      "Evaluating expression: g0 => 0.1\n",
      "Evaluating expression: g0 => 0.1\n",
      "Evaluating expression: g0 => 0.1\n",
      "Evaluating expression: g0 => 0.1\n",
      "Evaluating expression: g0 => 0.1\n",
      "Evaluating expression: g0 => 0.1\n",
      "Evaluating expression: g0 => 0.1\n",
      "Evaluating expression: g0 => 0.1\n",
      "Evaluating expression: g0 => 0.1\n",
      "Evaluating expression: g0 => 0.1\n",
      "Evaluating expression: g0 => 0.1\n",
      "Evaluating expression: g0 => 0.1\n",
      "Evaluating expression: g0 => 0.1\n",
      "Evaluating expression: g0 => 0.1\n",
      "Evaluating expression: g0 => 0.1\n",
      "Evaluating expression: g0 => 0.1\n",
      "Evaluating expression: g0 => 0.1\n",
      "Evaluating expression: g0 => 0.1\n",
      "Evaluating expression: g0 => 0.1\n",
      "Evaluating expression: g0 => 0.1\n",
      "Evaluating expression: g0 => 0.1\n",
      "Evaluating expression: g0 => 0.1\n",
      "Evaluating expression: g0 => 0.1\n",
      "Evaluating expression: g0 => 0.1\n",
      "Evaluating expression: g0 => 0.1\n",
      "Evaluating expression: g0 => 0.1\n",
      "Evaluating expression: g0 => 0.1\n",
      "Evaluating expression: g0 => 0.1\n",
      "Evaluating expression: g0 => 0.1\n",
      "Evaluating expression: g0 => 0.1\n",
      "Evaluating expression: g0 => 0.1\n",
      "Evaluating expression: g0 => 0.1\n",
      "Evaluating expression: g0 => 0.1\n",
      "Evaluating expression: g0 => 0.1\n",
      "Evaluating expression: g0 => 0.1\n",
      "Evaluating expression: g0 => 0.1\n",
      "Evaluating expression: gamma0 => 0.1\n",
      "Evaluating expression: gamma0 => 0.1\n",
      "Evaluating expression: gamma0 => 0.1\n",
      "Evaluating expression: gamma0 => 0.1\n",
      "Evaluating expression: gamma0 => 0.1\n",
      "Evaluating expression: gamma0 => 0.1\n",
      "Evaluating expression: gamma0 => 0.1\n",
      "Evaluating expression: gamma0 => 0.1\n",
      "Evaluating expression: gamma0 => 0.1\n",
      "Evaluating expression: gamma0 => 0.1\n",
      "Evaluating expression: gamma0 => 0.1\n",
      "Evaluating expression: gamma0 => 0.1\n",
      "Evaluating expression: gamma0 => 0.1\n",
      "Evaluating expression: gamma0 => 0.1\n",
      "Evaluating expression: gamma0 => 0.1\n",
      "Evaluating expression: gamma0 => 0.1\n",
      "Evaluating expression: gamma0 => 0.1\n",
      "Evaluating expression: gamma0 => 0.1\n",
      "Evaluating expression: gamma0 => 0.1\n",
      "Evaluating expression: gamma0 => 0.1\n",
      "Evaluating expression: gamma0 => 0.1\n",
      "Evaluating expression: gamma0 => 0.1\n",
      "Evaluating expression: gamma0 => 0.1\n",
      "Evaluating expression: gamma0 => 0.1\n",
      "Evaluating expression: gamma0 => 0.1\n",
      "Evaluating expression: gamma0 => 0.1\n",
      "Evaluating expression: gamma0 => 0.1\n",
      "Evaluating expression: gamma0 => 0.1\n",
      "Evaluating expression: gamma0 => 0.1\n",
      "Evaluating expression: gamma0 => 0.1\n",
      "Evaluating expression: gamma0 => 0.1\n",
      "Evaluating expression: gamma0 => 0.1\n",
      "Evaluating expression: l => 0.1\n",
      "Evaluating expression: l => 0.1\n",
      "Evaluating expression: l => 0.1\n",
      "Evaluating expression: l => 0.1\n",
      "Evaluating expression: l => 0.1\n",
      "Evaluating expression: l => 0.1\n",
      "Evaluating expression: l => 0.1\n",
      "Evaluating expression: l => 0.1\n",
      "Evaluating expression: l => 0.1\n",
      "Evaluating expression: l => 0.1\n",
      "Evaluating expression: l => 0.1\n",
      "Evaluating expression: l => 0.1\n",
      "Evaluating expression: l => 0.1\n",
      "Evaluating expression: l => 0.1\n",
      "Evaluating expression: l => 0.1\n",
      "Evaluating expression: l => 0.1\n",
      "Evaluating expression: l => 0.1\n",
      "Evaluating expression: l => 0.1\n",
      "Evaluating expression: l => 0.1\n",
      "Evaluating expression: l => 0.1\n",
      "Evaluating expression: l => 0.1\n",
      "Evaluating expression: l => 0.1\n",
      "Evaluating expression: l => 0.1\n",
      "Evaluating expression: l => 0.1\n",
      "Evaluating expression: l => 0.1\n",
      "Evaluating expression: l => 0.1\n",
      "Evaluating expression: l => 0.1\n",
      "Evaluating expression: l => 0.1\n",
      "Evaluating expression: l => 0.1\n",
      "Evaluating expression: l => 0.1\n",
      "Evaluating expression: l => 0.1\n",
      "Evaluating expression: l => 0.1\n",
      "Evaluating expression: lam => 0.1\n",
      "Evaluating expression: lam => 0.1\n",
      "Evaluating expression: lam => 0.1\n",
      "Evaluating expression: lam => 0.1\n",
      "Evaluating expression: lam => 0.1\n",
      "Evaluating expression: lam => 0.1\n",
      "Evaluating expression: lam => 0.1\n",
      "Evaluating expression: lam => 0.1\n",
      "Evaluating expression: lam => 0.1\n",
      "Evaluating expression: lam => 0.1\n",
      "Evaluating expression: lam => 0.1\n",
      "Evaluating expression: lam => 0.1\n",
      "Evaluating expression: lam => 0.1\n",
      "Evaluating expression: lam => 0.1\n",
      "Evaluating expression: lam => 0.1\n",
      "Evaluating expression: lam => 0.1\n",
      "Evaluating expression: W[0][0] => 0.0\n",
      "Evaluating expression: W[0][1] => 0.1\n",
      "Evaluating expression: W[0][2] => 0.1\n",
      "Evaluating expression: W[0][3] => 0.1\n",
      "Evaluating expression: W[1][0] => 0.1\n",
      "Evaluating expression: W[1][1] => 0.0\n",
      "Evaluating expression: W[1][2] => 0.1\n",
      "Evaluating expression: W[1][3] => 0.1\n",
      "Evaluating expression: W[2][0] => 0.1\n",
      "Evaluating expression: W[2][1] => 0.1\n",
      "Evaluating expression: W[2][2] => 0.0\n",
      "Evaluating expression: W[2][3] => 0.1\n",
      "Evaluating expression: W[3][0] => 0.0\n",
      "Evaluating expression: W[3][1] => 0.0\n",
      "Evaluating expression: W[3][2] => 0.0\n",
      "Evaluating expression: W[3][3] => 0.0\n",
      "Evaluating expression: W[0][0] => 0.0\n",
      "Evaluating expression: W[0][1] => 0.1\n",
      "Evaluating expression: W[0][2] => 0.1\n",
      "Evaluating expression: W[0][3] => 0.1\n",
      "Evaluating expression: W[1][0] => 0.1\n",
      "Evaluating expression: W[1][1] => 0.0\n",
      "Evaluating expression: W[1][2] => 0.1\n",
      "Evaluating expression: W[1][3] => 0.1\n",
      "Evaluating expression: W[2][0] => 0.1\n",
      "Evaluating expression: W[2][1] => 0.1\n",
      "Evaluating expression: W[2][2] => 0.0\n",
      "Evaluating expression: W[2][3] => 0.1\n",
      "Evaluating expression: W[3][0] => 0.0\n",
      "Evaluating expression: W[3][1] => 0.0\n",
      "Evaluating expression: W[3][2] => 0.0\n",
      "Evaluating expression: W[3][3] => 0.0\n",
      "Evaluating expression: W[0][0] => 0.0\n",
      "Evaluating expression: W[0][1] => 0.1\n",
      "Evaluating expression: W[0][2] => 0.1\n",
      "Evaluating expression: W[0][3] => 0.1\n",
      "Evaluating expression: W[1][0] => 0.1\n",
      "Evaluating expression: W[1][1] => 0.0\n",
      "Evaluating expression: W[1][2] => 0.1\n",
      "Evaluating expression: W[1][3] => 0.1\n",
      "Evaluating expression: W[2][0] => 0.1\n",
      "Evaluating expression: W[2][1] => 0.1\n",
      "Evaluating expression: W[2][2] => 0.0\n",
      "Evaluating expression: W[2][3] => 0.1\n",
      "Evaluating expression: W[3][0] => 0.0\n",
      "Evaluating expression: W[3][1] => 0.0\n",
      "Evaluating expression: W[3][2] => 0.0\n",
      "Evaluating expression: W[3][3] => 0.0\n",
      "Evaluating expression: W[0][0] => 0.0\n",
      "Evaluating expression: W[0][1] => 0.1\n",
      "Evaluating expression: W[0][2] => 0.1\n",
      "Evaluating expression: W[0][3] => 0.1\n",
      "Evaluating expression: W[1][0] => 0.1\n",
      "Evaluating expression: W[1][1] => 0.0\n",
      "Evaluating expression: W[1][2] => 0.1\n",
      "Evaluating expression: W[1][3] => 0.1\n",
      "Evaluating expression: W[2][0] => 0.1\n",
      "Evaluating expression: W[2][1] => 0.1\n",
      "Evaluating expression: W[2][2] => 0.0\n",
      "Evaluating expression: W[2][3] => 0.1\n",
      "Evaluating expression: W[3][0] => 0.0\n",
      "Evaluating expression: W[3][1] => 0.0\n",
      "Evaluating expression: W[3][2] => 0.0\n",
      "Evaluating expression: W[3][3] => 0.0\n",
      "Evaluating expression: W[0][0] => 0.0\n",
      "Evaluating expression: W[1][0] => 0.1\n",
      "Evaluating expression: W[2][0] => 0.1\n",
      "Evaluating expression: W[3][0] => 0.0\n",
      "Evaluating expression: W[0][1] => 0.1\n",
      "Evaluating expression: W[1][1] => 0.0\n",
      "Evaluating expression: W[2][1] => 0.1\n",
      "Evaluating expression: W[3][1] => 0.0\n",
      "Evaluating expression: W[0][2] => 0.1\n",
      "Evaluating expression: W[1][2] => 0.1\n",
      "Evaluating expression: W[2][2] => 0.0\n",
      "Evaluating expression: W[3][2] => 0.0\n",
      "Evaluating expression: W[0][3] => 0.1\n",
      "Evaluating expression: W[1][3] => 0.1\n",
      "Evaluating expression: W[2][3] => 0.1\n",
      "Evaluating expression: W[3][3] => 0.0\n",
      "Evaluating expression: W[0][0] => 0.0\n",
      "Evaluating expression: W[1][0] => 0.1\n",
      "Evaluating expression: W[2][0] => 0.1\n",
      "Evaluating expression: W[3][0] => 0.0\n",
      "Evaluating expression: W[0][1] => 0.1\n",
      "Evaluating expression: W[1][1] => 0.0\n",
      "Evaluating expression: W[2][1] => 0.1\n",
      "Evaluating expression: W[3][1] => 0.0\n",
      "Evaluating expression: W[0][2] => 0.1\n",
      "Evaluating expression: W[1][2] => 0.1\n",
      "Evaluating expression: W[2][2] => 0.0\n",
      "Evaluating expression: W[3][2] => 0.0\n",
      "Evaluating expression: W[0][3] => 0.1\n",
      "Evaluating expression: W[1][3] => 0.1\n",
      "Evaluating expression: W[2][3] => 0.1\n",
      "Evaluating expression: W[3][3] => 0.0\n",
      "Evaluating expression: W[0][0] => 0.0\n",
      "Evaluating expression: W[1][0] => 0.1\n",
      "Evaluating expression: W[2][0] => 0.1\n",
      "Evaluating expression: W[3][0] => 0.0\n",
      "Evaluating expression: W[0][1] => 0.1\n",
      "Evaluating expression: W[1][1] => 0.0\n",
      "Evaluating expression: W[2][1] => 0.1\n",
      "Evaluating expression: W[3][1] => 0.0\n",
      "Evaluating expression: W[0][2] => 0.1\n",
      "Evaluating expression: W[1][2] => 0.1\n",
      "Evaluating expression: W[2][2] => 0.0\n",
      "Evaluating expression: W[3][2] => 0.0\n",
      "Evaluating expression: W[0][3] => 0.1\n",
      "Evaluating expression: W[1][3] => 0.1\n",
      "Evaluating expression: W[2][3] => 0.1\n",
      "Evaluating expression: W[3][3] => 0.0\n",
      "Evaluating expression: W[0][0] => 0.0\n",
      "Evaluating expression: W[1][0] => 0.1\n",
      "Evaluating expression: W[2][0] => 0.1\n",
      "Evaluating expression: W[3][0] => 0.0\n",
      "Evaluating expression: W[0][1] => 0.1\n",
      "Evaluating expression: W[1][1] => 0.0\n",
      "Evaluating expression: W[2][1] => 0.1\n",
      "Evaluating expression: W[3][1] => 0.0\n",
      "Evaluating expression: W[0][2] => 0.1\n",
      "Evaluating expression: W[1][2] => 0.1\n",
      "Evaluating expression: W[2][2] => 0.0\n",
      "Evaluating expression: W[3][2] => 0.0\n",
      "Evaluating expression: W[0][3] => 0.1\n",
      "Evaluating expression: W[1][3] => 0.1\n",
      "Evaluating expression: W[2][3] => 0.1\n",
      "Evaluating expression: W[3][3] => 0.0\n"
     ]
    },
    {
     "data": {
      "text/plain": [
       "array([0.1, 0.1, 0.1, 0.1, 0.1, 0.1, 0.1, 0.1, 0.1, 0.1, 0.1, 0.1, 0.1,\n",
       "       0.1, 0.1, 0.1, 0.1, 0.1, 0.1, 0.1, 0.1, 0.1, 0.1, 0.1, 0.1, 0.1,\n",
       "       0.1, 0.1, 0.1, 0.1, 0.1, 0.1, 0.1, 0.1, 0.1, 0.1, 0.1, 0.1, 0.1,\n",
       "       0.1, 0.1, 0.1, 0.1, 0.1, 0.1, 0.1, 0.1, 0.1, 0.1, 0.1, 0.1, 0.1,\n",
       "       0.1, 0.1, 0.1, 0.1, 0.1, 0.1, 0.1, 0.1, 0.1, 0.1, 0.1, 0.1, 0.1,\n",
       "       0.1, 0.1, 0.1, 0.1, 0.1, 0.1, 0.1, 0.1, 0.1, 0.1, 0.1, 0.1, 0.1,\n",
       "       0.1, 0.1, 0.1, 0.1, 0.1, 0.1, 0.1, 0.1, 0.1, 0.1, 0.1, 0.1, 0.1,\n",
       "       0.1, 0.1, 0.1, 0.1, 0.1, 0.1, 0.1, 0.1, 0.1, 0.1, 0.1, 0.1, 0.1,\n",
       "       0.1, 0.1, 0.1, 0.1, 0.1, 0.1, 0.1, 0.1, 0.1, 0.1, 0.1, 0.1, 0.1,\n",
       "       0.1, 0.1, 0.1, 0.1, 0.1, 0.1, 0.1, 0.1, 0.1, 0.1, 0.1, 0.1, 0.1,\n",
       "       0.1, 0.1, 0.1, 0.1, 0.1, 0.1, 0.1, 0.1, 0.1, 0.1, 0.1, 0.1, 0.1,\n",
       "       0.1, 0. , 0.1, 0.1, 0.1, 0.1, 0. , 0.1, 0.1, 0.1, 0.1, 0. , 0.1,\n",
       "       0. , 0. , 0. , 0. , 0. , 0.1, 0.1, 0.1, 0.1, 0. , 0.1, 0.1, 0.1,\n",
       "       0.1, 0. , 0.1, 0. , 0. , 0. , 0. , 0. , 0.1, 0.1, 0.1, 0.1, 0. ,\n",
       "       0.1, 0.1, 0.1, 0.1, 0. , 0.1, 0. , 0. , 0. , 0. , 0. , 0.1, 0.1,\n",
       "       0.1, 0.1, 0. , 0.1, 0.1, 0.1, 0.1, 0. , 0.1, 0. , 0. , 0. , 0. ,\n",
       "       0. , 0.1, 0.1, 0. , 0.1, 0. , 0.1, 0. , 0.1, 0.1, 0. , 0. , 0.1,\n",
       "       0.1, 0.1, 0. , 0. , 0.1, 0.1, 0. , 0.1, 0. , 0.1, 0. , 0.1, 0.1,\n",
       "       0. , 0. , 0.1, 0.1, 0.1, 0. , 0. , 0.1, 0.1, 0. , 0.1, 0. , 0.1,\n",
       "       0. , 0.1, 0.1, 0. , 0. , 0.1, 0.1, 0.1, 0. , 0. , 0.1, 0.1, 0. ,\n",
       "       0.1, 0. , 0.1, 0. , 0.1, 0.1, 0. , 0. , 0.1, 0.1, 0.1, 0. ])"
      ]
     },
     "execution_count": 8,
     "metadata": {},
     "output_type": "execute_result"
    }
   ],
   "source": [
    "m.get_k(parameters=parsed.parameters)"
   ]
  },
  {
   "cell_type": "code",
   "execution_count": null,
   "metadata": {},
   "outputs": [],
   "source": []
  }
 ],
 "metadata": {
  "kernelspec": {
   "display_name": ".venv",
   "language": "python",
   "name": "python3"
  },
  "language_info": {
   "codemirror_mode": {
    "name": "ipython",
    "version": 3
   },
   "file_extension": ".py",
   "mimetype": "text/x-python",
   "name": "python",
   "nbconvert_exporter": "python",
   "pygments_lexer": "ipython3",
   "version": "3.9.8"
  }
 },
 "nbformat": 4,
 "nbformat_minor": 2
}
