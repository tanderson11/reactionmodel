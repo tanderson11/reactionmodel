{
 "cells": [
  {
   "cell_type": "code",
   "execution_count": 1,
   "metadata": {},
   "outputs": [],
   "source": [
    "from reactionmodel.model import Species, RatelessReaction\n",
    "from reactionmodel.hook import ReactionWithHooks, HookAwareModel"
   ]
  },
  {
   "cell_type": "code",
   "execution_count": 2,
   "metadata": {},
   "outputs": [],
   "source": [
    "a = Species('A')\n",
    "b = Species('B')\n",
    "c = Species('C')\n",
    "d = Species('D')"
   ]
  },
  {
   "cell_type": "code",
   "execution_count": 3,
   "metadata": {},
   "outputs": [],
   "source": [
    "h1 = RatelessReaction([c], [d])\n",
    "h2 = RatelessReaction([], [])\n",
    "r = ReactionWithHooks([a, b], [c], k='phi', hooked_reactions=[h1, h2], hooked_p=[0.25, 0.75])"
   ]
  },
  {
   "cell_type": "code",
   "execution_count": 7,
   "metadata": {},
   "outputs": [],
   "source": [
    "m = HookAwareModel([a,b,c,d], [r], reject_duplicates=False)"
   ]
  },
  {
   "cell_type": "code",
   "execution_count": 9,
   "metadata": {},
   "outputs": [
    {
     "data": {
      "text/plain": [
       "{0: Hook(N=array([[ 0.,  0.],\n",
       "        [ 0.,  0.],\n",
       "        [-1.,  0.],\n",
       "        [ 1.,  0.]]), p=array([0.25, 0.75]))}"
      ]
     },
     "execution_count": 9,
     "metadata": {},
     "output_type": "execute_result"
    }
   ],
   "source": [
    "m.reaction_index_to_hooks"
   ]
  },
  {
   "cell_type": "code",
   "execution_count": null,
   "metadata": {},
   "outputs": [],
   "source": []
  }
 ],
 "metadata": {
  "kernelspec": {
   "display_name": ".venv",
   "language": "python",
   "name": "python3"
  },
  "language_info": {
   "codemirror_mode": {
    "name": "ipython",
    "version": 3
   },
   "file_extension": ".py",
   "mimetype": "text/x-python",
   "name": "python",
   "nbconvert_exporter": "python",
   "pygments_lexer": "ipython3",
   "version": "3.9.8"
  }
 },
 "nbformat": 4,
 "nbformat_minor": 2
}
