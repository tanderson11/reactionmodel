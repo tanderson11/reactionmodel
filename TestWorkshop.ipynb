{
 "cells": [
  {
   "cell_type": "code",
   "execution_count": 4,
   "metadata": {},
   "outputs": [],
   "source": [
    "import os\n",
    "import re\n",
    "import reactionmodel.load\n",
    "from typing import NamedTuple\n",
    "import numpy as np\n",
    "\n",
    "os.chdir('/Users/thayer/develop/reactionmodel/')\n",
    "root = '/Users/thayer/develop/hybrid//tests/sbml-tests/sbml-003-dimerisation/'\n",
    "\n",
    "#root = './tests/sbml-tests/sbml-001-birth-death/'\n",
    "check = 'p01i01'\n",
    "\n",
    "def get_path_from_check_string(check_string, prefix, directory_name, filename):\n",
    "    match = re.search(f'{prefix}([0-9]+)', check_string)\n",
    "    model_path = f'{directory_name}/{filename}{match[1]}.txt' if match is not None else f'{filename}.txt'\n",
    "    return model_path\n",
    "\n",
    "class SpecificationPaths(NamedTuple):\n",
    "    model_path: str\n",
    "    parameters_path: str\n",
    "    config_path: str\n",
    "    initial_condition_path: str\n",
    "\n",
    "def get_path_tuple(root, check):\n",
    "    model_path = os.path.join(root, get_path_from_check_string(check, 'm', 'models', 'model'))\n",
    "    parameters_path = os.path.join(root, get_path_from_check_string(check, 'p', 'parameters', 'parameters'))\n",
    "    config_path = os.path.join(root, get_path_from_check_string(check, 'c', 'configs', 'config'))\n",
    "    ic_path = os.path.join(root, get_path_from_check_string(check, 'i', 'initial_conditions', 'initial'))\n",
    "\n",
    "    return SpecificationPaths(model_path, parameters_path, config_path, ic_path)"
   ]
  },
  {
   "cell_type": "code",
   "execution_count": 5,
   "metadata": {},
   "outputs": [
    {
     "data": {
      "text/plain": [
       "{'partition': '/Users/thayer/develop/hybrid//tests/sbml-tests/sbml-003-dimerisation/./partition.json'}"
      ]
     },
     "execution_count": 5,
     "metadata": {},
     "output_type": "execute_result"
    }
   ],
   "source": [
    "specification = reactionmodel.load.load_specification(*get_path_tuple(root, check))\n",
    "specification.simulation_options"
   ]
  },
  {
   "cell_type": "code",
   "execution_count": 6,
   "metadata": {},
   "outputs": [
    {
     "name": "stdout",
     "output_type": "stream",
     "text": [
      "Evaluating expression: k1 => 0.001\n",
      "Evaluating expression: k2 => 0.01\n"
     ]
    },
    {
     "data": {
      "text/plain": [
       "array([4.95, 0.  ])"
      ]
     },
     "execution_count": 6,
     "metadata": {},
     "output_type": "execute_result"
    }
   ],
   "source": [
    "prop = specification.model.get_propensities_function(jit=False, parameters=specification.parameters)\n",
    "prop(0, np.array([100.0, 0.]))"
   ]
  },
  {
   "cell_type": "code",
   "execution_count": 7,
   "metadata": {},
   "outputs": [
    {
     "name": "stdout",
     "output_type": "stream",
     "text": [
      "Evaluating expression: k1 => 0.001\n",
      "Evaluating expression: k2 => 0.01\n"
     ]
    },
    {
     "data": {
      "text/plain": [
       "array([4.95, 0.  ])"
      ]
     },
     "execution_count": 7,
     "metadata": {},
     "output_type": "execute_result"
    }
   ],
   "source": [
    "prop = specification.model.get_propensities_function(jit=True, parameters=specification.parameters)\n",
    "prop(0, np.array([100.0, 0.]))"
   ]
  },
  {
   "cell_type": "code",
   "execution_count": 8,
   "metadata": {},
   "outputs": [
    {
     "name": "stdout",
     "output_type": "stream",
     "text": [
      "Evaluating expression: k1 => 0.001\n",
      "Evaluating expression: k2 => 0.01\n"
     ]
    },
    {
     "data": {
      "text/plain": [
       "array([4.95, 0.  ])"
      ]
     },
     "execution_count": 8,
     "metadata": {},
     "output_type": "execute_result"
    }
   ],
   "source": [
    "prop = specification.model._get_jit_propensities_function(parameters=specification.parameters)\n",
    "prop(0, np.array([100.0, 0.]))"
   ]
  },
  {
   "cell_type": "code",
   "execution_count": 9,
   "metadata": {},
   "outputs": [
    {
     "name": "stdout",
     "output_type": "stream",
     "text": [
      "Evaluating expression: k1 => 0.001\n",
      "Evaluating expression: k2 => 0.01\n"
     ]
    },
    {
     "data": {
      "text/plain": [
       "array([-9.9 ,  4.95])"
      ]
     },
     "execution_count": 9,
     "metadata": {},
     "output_type": "execute_result"
    }
   ],
   "source": [
    "dydt = specification.model.get_dydt(parameters=specification.parameters)\n",
    "dydt(0, np.array([100.0, 0.]))"
   ]
  },
  {
   "cell_type": "code",
   "execution_count": 10,
   "metadata": {},
   "outputs": [
    {
     "name": "stdout",
     "output_type": "stream",
     "text": [
      "Evaluating expression: k1 => 0.001\n",
      "Evaluating expression: k2 => 0.01\n"
     ]
    },
    {
     "data": {
      "text/plain": [
       "array([-9.9 ,  4.95])"
      ]
     },
     "execution_count": 10,
     "metadata": {},
     "output_type": "execute_result"
    }
   ],
   "source": [
    "dydt = specification.model.get_dydt(jit=True, parameters=specification.parameters)\n",
    "dydt(0, np.array([100.0, 0.]))"
   ]
  },
  {
   "cell_type": "code",
   "execution_count": 11,
   "metadata": {},
   "outputs": [],
   "source": [
    "from dataclasses import asdict\n",
    "import json\n",
    "\n",
    "from reactionmodel.model import Species, Reaction, ReactionRateFamily, Model"
   ]
  },
  {
   "cell_type": "code",
   "execution_count": 12,
   "metadata": {},
   "outputs": [],
   "source": [
    "a = Species('A')\n",
    "r1 = Reaction('r1', a, (a, 2))\n",
    "r2 = Reaction('r2', a, (a, 2))\n",
    "\n",
    "def k_of_t(t):\n",
    "    return t**2\n",
    "\n",
    "fam = ReactionRateFamily([r1,r2], k_of_t)\n",
    "\n",
    "m = Model(a, fam)"
   ]
  },
  {
   "cell_type": "code",
   "execution_count": 13,
   "metadata": {},
   "outputs": [
    {
     "data": {
      "text/plain": [
       "2"
      ]
     },
     "execution_count": 13,
     "metadata": {},
     "output_type": "execute_result"
    }
   ],
   "source": [
    "len(fam.reactions)"
   ]
  },
  {
   "cell_type": "code",
   "execution_count": 14,
   "metadata": {},
   "outputs": [
    {
     "data": {
      "text/plain": [
       "{'k_of_t': <function __main__.k_of_t(t)>}"
      ]
     },
     "execution_count": 14,
     "metadata": {},
     "output_type": "execute_result"
    }
   ],
   "source": [
    "{'k_of_t': k_of_t}"
   ]
  },
  {
   "cell_type": "code",
   "execution_count": 15,
   "metadata": {},
   "outputs": [
    {
     "data": {
      "text/plain": [
       "'k_of_t'"
      ]
     },
     "execution_count": 15,
     "metadata": {},
     "output_type": "execute_result"
    }
   ],
   "source": [
    "str(k_of_t.__name__)"
   ]
  },
  {
   "cell_type": "code",
   "execution_count": 16,
   "metadata": {},
   "outputs": [
    {
     "data": {
      "text/plain": [
       "'k_of_t'"
      ]
     },
     "execution_count": 16,
     "metadata": {},
     "output_type": "execute_result"
    }
   ],
   "source": [
    "k_of_t.__name__"
   ]
  },
  {
   "cell_type": "code",
   "execution_count": 17,
   "metadata": {},
   "outputs": [
    {
     "data": {
      "text/plain": [
       "<reactionmodel.model.Model at 0x13f22df40>"
      ]
     },
     "execution_count": 17,
     "metadata": {},
     "output_type": "execute_result"
    }
   ],
   "source": [
    "Model.from_dict(m.to_dict(), functions_by_name={'k_of_t': k_of_t})"
   ]
  },
  {
   "cell_type": "code",
   "execution_count": 18,
   "metadata": {},
   "outputs": [
    {
     "data": {
      "text/plain": [
       "{'species': [{'name': 'A', 'description': ''}],\n",
       " 'reaction_groups': [{'reactions': [{'name': 'r1',\n",
       "     'reactants': ({'name': 'A', 'description': ''},),\n",
       "     'products': (({'name': 'A', 'description': ''}, 2),),\n",
       "     'description': '',\n",
       "     'kinetic_orders': ({'name': 'A', 'description': ''},),\n",
       "     'reversible': False,\n",
       "     'k': None},\n",
       "    {'name': 'r2',\n",
       "     'reactants': ({'name': 'A', 'description': ''},),\n",
       "     'products': (({'name': 'A', 'description': ''}, 2),),\n",
       "     'description': '',\n",
       "     'kinetic_orders': ({'name': 'A', 'description': ''},),\n",
       "     'reversible': False,\n",
       "     'k': None}],\n",
       "   'k': 'k_of_t'}]}"
      ]
     },
     "execution_count": 18,
     "metadata": {},
     "output_type": "execute_result"
    }
   ],
   "source": [
    "m.to_dict()"
   ]
  },
  {
   "cell_type": "code",
   "execution_count": null,
   "metadata": {},
   "outputs": [],
   "source": []
  }
 ],
 "metadata": {
  "kernelspec": {
   "display_name": ".venv",
   "language": "python",
   "name": "python3"
  },
  "language_info": {
   "codemirror_mode": {
    "name": "ipython",
    "version": 3
   },
   "file_extension": ".py",
   "mimetype": "text/x-python",
   "name": "python",
   "nbconvert_exporter": "python",
   "pygments_lexer": "ipython3",
   "version": "3.9.8"
  }
 },
 "nbformat": 4,
 "nbformat_minor": 2
}
