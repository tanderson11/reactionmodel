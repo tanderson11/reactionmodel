{
 "cells": [
  {
   "cell_type": "code",
   "execution_count": null,
   "metadata": {},
   "outputs": [],
   "source": [
    "import os\n",
    "import re\n",
    "import reactionmodel.load\n",
    "from typing import NamedTuple\n",
    "import numpy as np\n",
    "\n",
    "os.chdir('/Users/thayer/develop/reactionmodel/')\n",
    "root = '/Users/thayer/develop/hybrid-algorithm//tests/sbml-tests/sbml-003-dimerisation/'\n",
    "root = '/Users/thayer/develop/hybrid-algorithm//tests/sbml-tests/sbml-002-immigration-death/'\n",
    "\n",
    "#root = './tests/sbml-tests/sbml-001-birth-death/'\n",
    "check = 'p01i01'\n",
    "\n",
    "def get_path_from_check_string(check_string, prefix, directory_name, filename):\n",
    "    match = re.search(f'{prefix}([0-9]+)', check_string)\n",
    "    model_path = f'{directory_name}/{filename}{match[1]}.txt' if match is not None else f'{filename}.txt'\n",
    "    return model_path\n",
    "\n",
    "class SpecificationPaths(NamedTuple):\n",
    "    model_path: str\n",
    "    parameters_path: str\n",
    "    config_path: str\n",
    "    initial_condition_path: str\n",
    "\n",
    "def get_path_tuple(root, check):\n",
    "    model_path = os.path.join(root, get_path_from_check_string(check, 'm', 'models', 'model'))\n",
    "    parameters_path = os.path.join(root, get_path_from_check_string(check, 'p', 'parameters', 'parameters'))\n",
    "    config_path = os.path.join(root, get_path_from_check_string(check, 'c', 'configs', 'config'))\n",
    "    ic_path = os.path.join(root, get_path_from_check_string(check, 'i', 'initial_conditions', 'initial'))\n",
    "\n",
    "    return SpecificationPaths(model_path, parameters_path, config_path, ic_path)"
   ]
  },
  {
   "cell_type": "code",
   "execution_count": null,
   "metadata": {},
   "outputs": [],
   "source": [
    "specification = reactionmodel.load.load_specification(*get_path_tuple(root, check))\n",
    "specification.simulation_options"
   ]
  },
  {
   "cell_type": "code",
   "execution_count": null,
   "metadata": {},
   "outputs": [],
   "source": [
    "prop = specification.model.get_propensities_function(jit=False, parameters=specification.parameters)\n",
    "prop(0, np.array([100.0, 0.]))"
   ]
  },
  {
   "cell_type": "code",
   "execution_count": null,
   "metadata": {},
   "outputs": [],
   "source": [
    "prop = specification.model.get_propensities_function(jit=True, parameters=specification.parameters)\n",
    "prop(0, np.array([100.0, 0.]))"
   ]
  },
  {
   "cell_type": "code",
   "execution_count": null,
   "metadata": {},
   "outputs": [],
   "source": [
    "prop = specification.model._get_jit_propensities_function(parameters=specification.parameters)\n",
    "prop(0, np.array([100.0, 0.]))"
   ]
  },
  {
   "cell_type": "code",
   "execution_count": null,
   "metadata": {},
   "outputs": [],
   "source": [
    "dydt = specification.model.get_dydt_function(parameters=specification.parameters)\n",
    "dydt(0, np.array([100.0, 0.]))"
   ]
  },
  {
   "cell_type": "code",
   "execution_count": null,
   "metadata": {},
   "outputs": [],
   "source": [
    "dydt = specification.model.get_dydt_function(jit=True, parameters=specification.parameters)\n",
    "dydt(0, np.array([100.0, 0.]))"
   ]
  }
 ],
 "metadata": {
  "kernelspec": {
   "display_name": ".venv",
   "language": "python",
   "name": "python3"
  },
  "language_info": {
   "codemirror_mode": {
    "name": "ipython",
    "version": 3
   },
   "file_extension": ".py",
   "mimetype": "text/x-python",
   "name": "python",
   "nbconvert_exporter": "python",
   "pygments_lexer": "ipython3",
   "version": "3.9.8"
  }
 },
 "nbformat": 4,
 "nbformat_minor": 2
}
