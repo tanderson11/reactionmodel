{
 "cells": [
  {
   "cell_type": "code",
   "execution_count": 1,
   "metadata": {},
   "outputs": [],
   "source": [
    "from reactionmodel.model import Species, Reaction, ReactionRateFamily, Model\n",
    "import reactionmodel.smallparser as smallparser\n",
    "import yaml"
   ]
  },
  {
   "cell_type": "code",
   "execution_count": 2,
   "metadata": {},
   "outputs": [
    {
     "data": {
      "text/plain": [
       "{'families': {'As': ['x', 'y', 'z'], 'Bs': ['p', 'q', 'r']},\n",
       " 'species': [{'name': 'A_$i', 'used_families': {'i': 'As'}},\n",
       "  {'name': 'B_$j', 'used_families': {'j': 'Bs'}}],\n",
       " 'reactions': [{'description': '2A_$i => B_$j',\n",
       "   'reactants': [['A_$i', 2]],\n",
       "   'products': ['B_$j'],\n",
       "   'k': 'Q[#i][#j]',\n",
       "   'used_families': {'i': 'As', 'j': 'Bs'}}],\n",
       " 'parameters': {'foo': 2.0, 'Q': {'path': './examples/minimal/q.csv'}},\n",
       " 'simulator_config': {'simulator': 'gillespie'},\n",
       " 'initial_condition': {'A_$i': '1.0 * foo', 'used_families': {'i': 'As'}}}"
      ]
     },
     "execution_count": 2,
     "metadata": {},
     "output_type": "execute_result"
    }
   ],
   "source": [
    "from yaml import SafeLoader as Loader\n",
    "\n",
    "yaml_string = \"\"\"\n",
    "families:\n",
    "  As: [x, y, z]\n",
    "  Bs: [p, q, r]\n",
    "\n",
    "species:\n",
    "- name: 'A_$i'\n",
    "  used_families: {'i': 'As'}\n",
    "- name: 'B_$j'\n",
    "  used_families: {'j': 'Bs'}\n",
    "\n",
    "reactions:\n",
    "- description: 2A_$i => B_$j\n",
    "  reactants: [['A_$i',2]]\n",
    "  products: ['B_$j']\n",
    "  k: 'Q[#i][#j]'\n",
    "  used_families: {'i': 'As', 'j': 'Bs'}\n",
    "\n",
    "parameters:\n",
    " foo: 2.0\n",
    " Q: {'path': './examples/minimal/q.csv'}\n",
    "\n",
    "simulator_config:\n",
    "  simulator: gillespie\n",
    "\n",
    "initial_condition:\n",
    "  A_$i: 1.0 * foo\n",
    "  used_families: {'i': 'As'}\n",
    "\"\"\"\n",
    "\n",
    "md = yaml.load(yaml_string, Loader=Loader)\n",
    "md"
   ]
  },
  {
   "cell_type": "code",
   "execution_count": 3,
   "metadata": {},
   "outputs": [
    {
     "name": "stdout",
     "output_type": "stream",
     "text": [
      "{'species': [{'name': 'A_x'}, {'name': 'A_y'}, {'name': 'A_z'}, {'name': 'B_p'}, {'name': 'B_q'}, {'name': 'B_r'}], 'reactions': [{'description': '2A_x => B_p', 'reactants': [['A_x', 2]], 'products': ['B_p'], 'k': 'Q[0][0]'}, {'description': '2A_x => B_q', 'reactants': [['A_x', 2]], 'products': ['B_q'], 'k': 'Q[0][1]'}, {'description': '2A_x => B_r', 'reactants': [['A_x', 2]], 'products': ['B_r'], 'k': 'Q[0][2]'}, {'description': '2A_y => B_p', 'reactants': [['A_y', 2]], 'products': ['B_p'], 'k': 'Q[1][0]'}, {'description': '2A_y => B_q', 'reactants': [['A_y', 2]], 'products': ['B_q'], 'k': 'Q[1][1]'}, {'description': '2A_y => B_r', 'reactants': [['A_y', 2]], 'products': ['B_r'], 'k': 'Q[1][2]'}, {'description': '2A_z => B_p', 'reactants': [['A_z', 2]], 'products': ['B_p'], 'k': 'Q[2][0]'}, {'description': '2A_z => B_q', 'reactants': [['A_z', 2]], 'products': ['B_q'], 'k': 'Q[2][1]'}, {'description': '2A_z => B_r', 'reactants': [['A_z', 2]], 'products': ['B_r'], 'k': 'Q[2][2]'}]}\n",
      "[Reaction(description=2A_x => B_p, reactants=((Species(name='A_x', description=''), 2),), products=(Species(name='B_p', description=''),), kinetic_order=(), k=Q[0][0]), Reaction(description=2A_x => B_q, reactants=((Species(name='A_x', description=''), 2),), products=(Species(name='B_q', description=''),), kinetic_order=(), k=Q[0][1]), Reaction(description=2A_x => B_r, reactants=((Species(name='A_x', description=''), 2),), products=(Species(name='B_r', description=''),), kinetic_order=(), k=Q[0][2]), Reaction(description=2A_y => B_p, reactants=((Species(name='A_y', description=''), 2),), products=(Species(name='B_p', description=''),), kinetic_order=(), k=Q[1][0]), Reaction(description=2A_y => B_q, reactants=((Species(name='A_y', description=''), 2),), products=(Species(name='B_q', description=''),), kinetic_order=(), k=Q[1][1]), Reaction(description=2A_y => B_r, reactants=((Species(name='A_y', description=''), 2),), products=(Species(name='B_r', description=''),), kinetic_order=(), k=Q[1][2]), Reaction(description=2A_z => B_p, reactants=((Species(name='A_z', description=''), 2),), products=(Species(name='B_p', description=''),), kinetic_order=(), k=Q[2][0]), Reaction(description=2A_z => B_q, reactants=((Species(name='A_z', description=''), 2),), products=(Species(name='B_q', description=''),), kinetic_order=(), k=Q[2][1]), Reaction(description=2A_z => B_r, reactants=((Species(name='A_z', description=''), 2),), products=(Species(name='B_r', description=''),), kinetic_order=(), k=Q[2][2])]\n"
     ]
    }
   ],
   "source": [
    "p = smallparser.loads(md)"
   ]
  },
  {
   "cell_type": "code",
   "execution_count": 4,
   "metadata": {},
   "outputs": [
    {
     "data": {
      "text/plain": [
       "{'A_x': '1.0 * foo', 'A_y': '1.0 * foo', 'A_z': '1.0 * foo'}"
      ]
     },
     "execution_count": 4,
     "metadata": {},
     "output_type": "execute_result"
    }
   ],
   "source": [
    "p.initial_condition"
   ]
  },
  {
   "cell_type": "code",
   "execution_count": 5,
   "metadata": {},
   "outputs": [
    {
     "name": "stdout",
     "output_type": "stream",
     "text": [
      "Evaluating expression: 1.0 * foo => 2.0\n",
      "Evaluating expression: 1.0 * foo => 2.0\n",
      "Evaluating expression: 1.0 * foo => 2.0\n"
     ]
    },
    {
     "data": {
      "text/plain": [
       "array([2., 2., 2., 0., 0., 0.])"
      ]
     },
     "execution_count": 5,
     "metadata": {},
     "output_type": "execute_result"
    }
   ],
   "source": [
    "p.model.make_initial_condition(p.initial_condition, p.parameters)"
   ]
  },
  {
   "cell_type": "code",
   "execution_count": 6,
   "metadata": {},
   "outputs": [
    {
     "data": {
      "text/plain": [
       "{'foo': 2.0,\n",
       " 'Q': array([[1., 2., 3.],\n",
       "        [4., 5., 6.],\n",
       "        [7., 8., 9.]])}"
      ]
     },
     "execution_count": 6,
     "metadata": {},
     "output_type": "execute_result"
    }
   ],
   "source": [
    "p.parameters"
   ]
  },
  {
   "cell_type": "code",
   "execution_count": 7,
   "metadata": {},
   "outputs": [
    {
     "name": "stdout",
     "output_type": "stream",
     "text": [
      "Evaluating expression: Q[0][0] => 1.0\n",
      "Evaluating expression: Q[0][1] => 2.0\n",
      "Evaluating expression: Q[0][2] => 3.0\n",
      "Evaluating expression: Q[1][0] => 4.0\n",
      "Evaluating expression: Q[1][1] => 5.0\n",
      "Evaluating expression: Q[1][2] => 6.0\n",
      "Evaluating expression: Q[2][0] => 7.0\n",
      "Evaluating expression: Q[2][1] => 8.0\n",
      "Evaluating expression: Q[2][2] => 9.0\n"
     ]
    },
    {
     "data": {
      "text/plain": [
       "array([1., 2., 3., 4., 5., 6., 7., 8., 9.])"
      ]
     },
     "execution_count": 7,
     "metadata": {},
     "output_type": "execute_result"
    }
   ],
   "source": [
    "p.model.get_k(parameters=p.parameters)"
   ]
  },
  {
   "cell_type": "code",
   "execution_count": 8,
   "metadata": {},
   "outputs": [
    {
     "data": {
      "text/plain": [
       "{'simulator': 'gillespie'}"
      ]
     },
     "execution_count": 8,
     "metadata": {},
     "output_type": "execute_result"
    }
   ],
   "source": [
    "p.simulator_config"
   ]
  },
  {
   "cell_type": "code",
   "execution_count": 9,
   "metadata": {},
   "outputs": [
    {
     "data": {
      "text/plain": [
       "[Reaction(description=2A_x => B_p, reactants=((Species(name='A_x', description=''), 2),), products=(Species(name='B_p', description=''),), kinetic_order=(), k=Q[0][0]),\n",
       " Reaction(description=2A_x => B_q, reactants=((Species(name='A_x', description=''), 2),), products=(Species(name='B_q', description=''),), kinetic_order=(), k=Q[0][1]),\n",
       " Reaction(description=2A_x => B_r, reactants=((Species(name='A_x', description=''), 2),), products=(Species(name='B_r', description=''),), kinetic_order=(), k=Q[0][2]),\n",
       " Reaction(description=2A_y => B_p, reactants=((Species(name='A_y', description=''), 2),), products=(Species(name='B_p', description=''),), kinetic_order=(), k=Q[1][0]),\n",
       " Reaction(description=2A_y => B_q, reactants=((Species(name='A_y', description=''), 2),), products=(Species(name='B_q', description=''),), kinetic_order=(), k=Q[1][1]),\n",
       " Reaction(description=2A_y => B_r, reactants=((Species(name='A_y', description=''), 2),), products=(Species(name='B_r', description=''),), kinetic_order=(), k=Q[1][2]),\n",
       " Reaction(description=2A_z => B_p, reactants=((Species(name='A_z', description=''), 2),), products=(Species(name='B_p', description=''),), kinetic_order=(), k=Q[2][0]),\n",
       " Reaction(description=2A_z => B_q, reactants=((Species(name='A_z', description=''), 2),), products=(Species(name='B_q', description=''),), kinetic_order=(), k=Q[2][1]),\n",
       " Reaction(description=2A_z => B_r, reactants=((Species(name='A_z', description=''), 2),), products=(Species(name='B_r', description=''),), kinetic_order=(), k=Q[2][2])]"
      ]
     },
     "execution_count": 9,
     "metadata": {},
     "output_type": "execute_result"
    }
   ],
   "source": [
    "p.model.all_reactions"
   ]
  },
  {
   "cell_type": "code",
   "execution_count": 10,
   "metadata": {},
   "outputs": [
    {
     "data": {
      "text/plain": [
       "ParseResults(model=<reactionmodel.model.Model object at 0x12cf21340>, parameters={'foo': 2.0, 'Q': array([[1., 2., 3.],\n",
       "       [4., 5., 6.],\n",
       "       [7., 8., 9.]])}, initial_condition={'A_x': '1.0 * foo', 'A_y': '1.0 * foo', 'A_z': '1.0 * foo'}, simulator_config={'simulator': 'gillespie'})"
      ]
     },
     "execution_count": 10,
     "metadata": {},
     "output_type": "execute_result"
    }
   ],
   "source": [
    "p"
   ]
  },
  {
   "cell_type": "code",
   "execution_count": 11,
   "metadata": {},
   "outputs": [],
   "source": [
    "a = Species('A')\n",
    "r1 = Reaction([a], [])\n",
    "r2 = Reaction([(a, 2)], [])\n",
    "r_g = ReactionRateFamily([r1, r2], k='hi')\n",
    "\n",
    "m = Model([a], [r1,r2])\n",
    "m.to_dict()\n",
    "from yaml import SafeDumper as Dumper\n",
    "dump = yaml.dump(m.to_dict(), Dumper=Dumper)"
   ]
  },
  {
   "cell_type": "code",
   "execution_count": 12,
   "metadata": {},
   "outputs": [
    {
     "name": "stdout",
     "output_type": "stream",
     "text": [
      "{'species': [{'description': '', 'name': 'A'}], 'reactions': [{'description': '', 'k': None, 'products': [], 'rate_involved': [{'description': '', 'name': 'A'}], 'reactants': [{'description': '', 'name': 'A'}], 'reversible': False}, {'description': '', 'k': None, 'products': [], 'rate_involved': [[{'description': '', 'name': 'A'}, 2]], 'reactants': [[{'description': '', 'name': 'A'}, 2]], 'reversible': False}]}\n",
      "[Reaction(description=, reactants=(Species(name='A', description=''),), products=(), kinetic_order=(Species(name='A', description=''),), k=None), Reaction(description=, reactants=((Species(name='A', description=''), 2),), products=(), kinetic_order=((Species(name='A', description=''), 2),), k=None)]\n"
     ]
    }
   ],
   "source": [
    "p = smallparser.loads(yaml.load(dump, Loader=Loader))"
   ]
  },
  {
   "cell_type": "code",
   "execution_count": 13,
   "metadata": {},
   "outputs": [
    {
     "data": {
      "text/plain": [
       "True"
      ]
     },
     "execution_count": 13,
     "metadata": {},
     "output_type": "execute_result"
    }
   ],
   "source": [
    "p.model == m"
   ]
  }
 ],
 "metadata": {
  "kernelspec": {
   "display_name": ".venv",
   "language": "python",
   "name": "python3"
  },
  "language_info": {
   "codemirror_mode": {
    "name": "ipython",
    "version": 3
   },
   "file_extension": ".py",
   "mimetype": "text/x-python",
   "name": "python",
   "nbconvert_exporter": "python",
   "pygments_lexer": "ipython3",
   "version": "3.9.8"
  }
 },
 "nbformat": 4,
 "nbformat_minor": 2
}
