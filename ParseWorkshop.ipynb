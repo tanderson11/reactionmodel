{
 "cells": [
  {
   "cell_type": "code",
   "execution_count": 1,
   "metadata": {},
   "outputs": [],
   "source": [
    "from reactionmodel.model import Species, Reaction, ReactionRateFamily, Model\n",
    "import reactionmodel.parser as parser\n",
    "import yaml"
   ]
  },
  {
   "cell_type": "code",
   "execution_count": 2,
   "metadata": {},
   "outputs": [],
   "source": [
    "from reactionmodel.model import Species, Reaction, Model\n",
    "A = Species('A')\n",
    "r = Reaction([A], [], description='death', k='gamma')\n",
    "m = Model([A], [r])\n",
    "\n",
    "m.save('./model.yaml')"
   ]
  },
  {
   "cell_type": "code",
   "execution_count": 3,
   "metadata": {},
   "outputs": [
    {
     "data": {
      "text/plain": [
       "True"
      ]
     },
     "execution_count": 3,
     "metadata": {},
     "output_type": "execute_result"
    }
   ],
   "source": [
    "m == m.from_dict(m.to_dict())"
   ]
  },
  {
   "cell_type": "code",
   "execution_count": 4,
   "metadata": {},
   "outputs": [
    {
     "data": {
      "text/plain": [
       "{'species': [{'name': 'A'}],\n",
       " 'reactions': [{'description': 'death',\n",
       "   'reactants': ['A'],\n",
       "   'products': [],\n",
       "   'k': 'gamma'}]}"
      ]
     },
     "execution_count": 4,
     "metadata": {},
     "output_type": "execute_result"
    }
   ],
   "source": [
    "m.to_dict()"
   ]
  },
  {
   "cell_type": "code",
   "execution_count": 9,
   "metadata": {},
   "outputs": [
    {
     "data": {
      "text/plain": [
       "[Reaction(description=death, reactants=(Species(name='A', description=''),), products=(), kinetic_order=(Species(name='A', description=''),), k=gamma)]"
      ]
     },
     "execution_count": 9,
     "metadata": {},
     "output_type": "execute_result"
    }
   ],
   "source": [
    "m.reaction_groups"
   ]
  },
  {
   "cell_type": "code",
   "execution_count": 10,
   "metadata": {},
   "outputs": [
    {
     "data": {
      "text/plain": [
       "[Reaction(description=death, reactants=(Species(name='A', description=''),), products=(), kinetic_order=(Species(name='A', description=''),), k=None)]"
      ]
     },
     "execution_count": 10,
     "metadata": {},
     "output_type": "execute_result"
    }
   ],
   "source": [
    "m.from_dict(m.to_dict()).reaction_groups"
   ]
  },
  {
   "cell_type": "code",
   "execution_count": 3,
   "metadata": {},
   "outputs": [
    {
     "data": {
      "text/plain": [
       "[Reaction(description=2A_x => B_p, reactants=((Species(name='A_x', description=''), 2),), products=(Species(name='B_p', description=''),), kinetic_order=((Species(name='A_x', description=''), 2),), k=Q[0][0]),\n",
       " Reaction(description=2A_x => B_q, reactants=((Species(name='A_x', description=''), 2),), products=(Species(name='B_q', description=''),), kinetic_order=((Species(name='A_x', description=''), 2),), k=Q[0][1]),\n",
       " Reaction(description=2A_x => B_r, reactants=((Species(name='A_x', description=''), 2),), products=(Species(name='B_r', description=''),), kinetic_order=((Species(name='A_x', description=''), 2),), k=Q[0][2]),\n",
       " Reaction(description=2A_y => B_p, reactants=((Species(name='A_y', description=''), 2),), products=(Species(name='B_p', description=''),), kinetic_order=((Species(name='A_y', description=''), 2),), k=Q[1][0]),\n",
       " Reaction(description=2A_y => B_q, reactants=((Species(name='A_y', description=''), 2),), products=(Species(name='B_q', description=''),), kinetic_order=((Species(name='A_y', description=''), 2),), k=Q[1][1]),\n",
       " Reaction(description=2A_y => B_r, reactants=((Species(name='A_y', description=''), 2),), products=(Species(name='B_r', description=''),), kinetic_order=((Species(name='A_y', description=''), 2),), k=Q[1][2]),\n",
       " Reaction(description=2A_z => B_p, reactants=((Species(name='A_z', description=''), 2),), products=(Species(name='B_p', description=''),), kinetic_order=((Species(name='A_z', description=''), 2),), k=Q[2][0]),\n",
       " Reaction(description=2A_z => B_q, reactants=((Species(name='A_z', description=''), 2),), products=(Species(name='B_q', description=''),), kinetic_order=((Species(name='A_z', description=''), 2),), k=Q[2][1]),\n",
       " Reaction(description=2A_z => B_r, reactants=((Species(name='A_z', description=''), 2),), products=(Species(name='B_r', description=''),), kinetic_order=((Species(name='A_z', description=''), 2),), k=Q[2][2])]"
      ]
     },
     "execution_count": 3,
     "metadata": {},
     "output_type": "execute_result"
    }
   ],
   "source": [
    "from itertools import product\n",
    "import numpy as np\n",
    "\n",
    "As = ['x', 'y', 'z']\n",
    "Bs = ['p', 'q', 'r']\n",
    "\n",
    "Q = np.array(range(9)).reshape(3,3)\n",
    "\n",
    "A_names = [f'A_{a}' for a in As]\n",
    "B_names = [f'B_{b}' for b in Bs]\n",
    "a_species   = [Species(a) for a in A_names]\n",
    "b_species   = [Species(b) for b in B_names]\n",
    "\n",
    "reactions = [\n",
    "    Reaction(\n",
    "        [(a, 2)],\n",
    "        b,\n",
    "        description=f'2{a.name} => {b.name}',\n",
    "        k=f'Q[{A_names.index(a.name)}][{B_names.index(b.name)}]'\n",
    "    )\n",
    "    for a,b in product(a_species, b_species)\n",
    "]\n",
    "m = Model(a_species+b_species, reactions)\n",
    "m.all_reactions"
   ]
  },
  {
   "cell_type": "code",
   "execution_count": 4,
   "metadata": {},
   "outputs": [
    {
     "data": {
      "text/plain": [
       "{'families': {'As': ['x', 'y', 'z'], 'Bs': ['p', 'q', 'r']},\n",
       " 'species': [{'name': 'A_$i', 'used_families': {'i': 'As'}},\n",
       "  {'name': 'B_$j', 'used_families': {'j': 'Bs'}}],\n",
       " 'reactions': [{'description': '2A_$i => B_$j',\n",
       "   'reactants': [['A_$i', 2]],\n",
       "   'products': ['B_$j'],\n",
       "   'k': 'Q[#i][#j]',\n",
       "   'used_families': {'i': 'As', 'j': 'Bs'}}],\n",
       " 'parameters': {'foo': 2.0, 'Q': {'path': './examples/minimal/q.csv'}},\n",
       " 'simulator_config': {'simulator': 'gillespie'},\n",
       " 'initial_condition': {'A_$i': '1.0 * foo', 'used_families': {'i': 'As'}}}"
      ]
     },
     "execution_count": 4,
     "metadata": {},
     "output_type": "execute_result"
    }
   ],
   "source": [
    "from yaml import SafeLoader as Loader\n",
    "\n",
    "yaml_string = \"\"\"\n",
    "families:\n",
    "  As: [x, y, z]\n",
    "  Bs: [p, q, r]\n",
    "\n",
    "species:\n",
    "- name: 'A_$i'\n",
    "  used_families: {'i': 'As'}\n",
    "- name: 'B_$j'\n",
    "  used_families: {'j': 'Bs'}\n",
    "\n",
    "reactions:\n",
    "- description: 2A_$i => B_$j\n",
    "  reactants: [['A_$i',2]]\n",
    "  products: ['B_$j']\n",
    "  k: 'Q[#i][#j]'\n",
    "  used_families: {'i': 'As', 'j': 'Bs'}\n",
    "\n",
    "parameters:\n",
    " foo: 2.0\n",
    " Q: {'path': './examples/minimal/q.csv'}\n",
    "\n",
    "simulator_config:\n",
    "  simulator: gillespie\n",
    "\n",
    "initial_condition:\n",
    "  A_$i: 1.0 * foo\n",
    "  used_families: {'i': 'As'}\n",
    "\"\"\"\n",
    "\n",
    "md = yaml.load(yaml_string, Loader=Loader)\n",
    "md"
   ]
  },
  {
   "cell_type": "code",
   "execution_count": 5,
   "metadata": {},
   "outputs": [
    {
     "ename": "FileNotFoundError",
     "evalue": "[Errno 2] No such file or directory: './examples/minimal/q.csv'",
     "output_type": "error",
     "traceback": [
      "\u001b[0;31m---------------------------------------------------------------------------\u001b[0m",
      "\u001b[0;31mFileNotFoundError\u001b[0m                         Traceback (most recent call last)",
      "Cell \u001b[0;32mIn[5], line 1\u001b[0m\n\u001b[0;32m----> 1\u001b[0m p \u001b[38;5;241m=\u001b[39m \u001b[43mparser\u001b[49m\u001b[38;5;241;43m.\u001b[39;49m\u001b[43mloads\u001b[49m\u001b[43m(\u001b[49m\u001b[43mmd\u001b[49m\u001b[43m)\u001b[49m\n",
      "File \u001b[0;32m~/develop/reactionmodel/reactionmodel/parser.py:170\u001b[0m, in \u001b[0;36mloads\u001b[0;34m(data, syntax, ConfigParser)\u001b[0m\n\u001b[1;32m    168\u001b[0m \u001b[38;5;28;01mif\u001b[39;00m \u001b[38;5;124m'\u001b[39m\u001b[38;5;124mparameters\u001b[39m\u001b[38;5;124m'\u001b[39m \u001b[38;5;129;01min\u001b[39;00m data\u001b[38;5;241m.\u001b[39mkeys():\n\u001b[1;32m    169\u001b[0m     used_keys\u001b[38;5;241m.\u001b[39mappend(\u001b[38;5;124m'\u001b[39m\u001b[38;5;124mparameters\u001b[39m\u001b[38;5;124m'\u001b[39m)\n\u001b[0;32m--> 170\u001b[0m     parameters \u001b[38;5;241m=\u001b[39m \u001b[43mparse_parameters\u001b[49m\u001b[43m(\u001b[49m\u001b[43mdata\u001b[49m\u001b[43m[\u001b[49m\u001b[38;5;124;43m'\u001b[39;49m\u001b[38;5;124;43mparameters\u001b[39;49m\u001b[38;5;124;43m'\u001b[39;49m\u001b[43m]\u001b[49m\u001b[43m)\u001b[49m\n\u001b[1;32m    172\u001b[0m \u001b[38;5;28;01mif\u001b[39;00m \u001b[38;5;124m'\u001b[39m\u001b[38;5;124minitial_condition\u001b[39m\u001b[38;5;124m'\u001b[39m \u001b[38;5;129;01min\u001b[39;00m data\u001b[38;5;241m.\u001b[39mkeys():\n\u001b[1;32m    173\u001b[0m     used_keys\u001b[38;5;241m.\u001b[39mappend(\u001b[38;5;124m'\u001b[39m\u001b[38;5;124minitial_condition\u001b[39m\u001b[38;5;124m'\u001b[39m)\n",
      "File \u001b[0;32m~/develop/reactionmodel/reactionmodel/parser.py:118\u001b[0m, in \u001b[0;36mparse_parameters\u001b[0;34m(parameters_dict)\u001b[0m\n\u001b[1;32m    116\u001b[0m     path \u001b[38;5;241m=\u001b[39m p_dict\u001b[38;5;241m.\u001b[39mpop(\u001b[38;5;124m'\u001b[39m\u001b[38;5;124mpath\u001b[39m\u001b[38;5;124m'\u001b[39m)\n\u001b[1;32m    117\u001b[0m     header \u001b[38;5;241m=\u001b[39m p_dict\u001b[38;5;241m.\u001b[39mpop(\u001b[38;5;124m'\u001b[39m\u001b[38;5;124mheader\u001b[39m\u001b[38;5;124m'\u001b[39m, \u001b[38;5;28;01mNone\u001b[39;00m)\n\u001b[0;32m--> 118\u001b[0m     value \u001b[38;5;241m=\u001b[39m np\u001b[38;5;241m.\u001b[39marray(\u001b[43mpd\u001b[49m\u001b[38;5;241;43m.\u001b[39;49m\u001b[43mread_csv\u001b[49m\u001b[43m(\u001b[49m\u001b[43mpath\u001b[49m\u001b[43m,\u001b[49m\u001b[43m \u001b[49m\u001b[43mheader\u001b[49m\u001b[38;5;241;43m=\u001b[39;49m\u001b[43mheader\u001b[49m\u001b[43m)\u001b[49m, dtype\u001b[38;5;241m=\u001b[39m\u001b[38;5;28mfloat\u001b[39m)\n\u001b[1;32m    119\u001b[0m \u001b[38;5;28;01melse\u001b[39;00m:\n\u001b[1;32m    120\u001b[0m     \u001b[38;5;28;01mtry\u001b[39;00m:\n",
      "File \u001b[0;32m~/develop/reactionmodel/.venv/lib/python3.9/site-packages/pandas/io/parsers/readers.py:948\u001b[0m, in \u001b[0;36mread_csv\u001b[0;34m(filepath_or_buffer, sep, delimiter, header, names, index_col, usecols, dtype, engine, converters, true_values, false_values, skipinitialspace, skiprows, skipfooter, nrows, na_values, keep_default_na, na_filter, verbose, skip_blank_lines, parse_dates, infer_datetime_format, keep_date_col, date_parser, date_format, dayfirst, cache_dates, iterator, chunksize, compression, thousands, decimal, lineterminator, quotechar, quoting, doublequote, escapechar, comment, encoding, encoding_errors, dialect, on_bad_lines, delim_whitespace, low_memory, memory_map, float_precision, storage_options, dtype_backend)\u001b[0m\n\u001b[1;32m    935\u001b[0m kwds_defaults \u001b[38;5;241m=\u001b[39m _refine_defaults_read(\n\u001b[1;32m    936\u001b[0m     dialect,\n\u001b[1;32m    937\u001b[0m     delimiter,\n\u001b[0;32m   (...)\u001b[0m\n\u001b[1;32m    944\u001b[0m     dtype_backend\u001b[38;5;241m=\u001b[39mdtype_backend,\n\u001b[1;32m    945\u001b[0m )\n\u001b[1;32m    946\u001b[0m kwds\u001b[38;5;241m.\u001b[39mupdate(kwds_defaults)\n\u001b[0;32m--> 948\u001b[0m \u001b[38;5;28;01mreturn\u001b[39;00m \u001b[43m_read\u001b[49m\u001b[43m(\u001b[49m\u001b[43mfilepath_or_buffer\u001b[49m\u001b[43m,\u001b[49m\u001b[43m \u001b[49m\u001b[43mkwds\u001b[49m\u001b[43m)\u001b[49m\n",
      "File \u001b[0;32m~/develop/reactionmodel/.venv/lib/python3.9/site-packages/pandas/io/parsers/readers.py:611\u001b[0m, in \u001b[0;36m_read\u001b[0;34m(filepath_or_buffer, kwds)\u001b[0m\n\u001b[1;32m    608\u001b[0m _validate_names(kwds\u001b[38;5;241m.\u001b[39mget(\u001b[38;5;124m\"\u001b[39m\u001b[38;5;124mnames\u001b[39m\u001b[38;5;124m\"\u001b[39m, \u001b[38;5;28;01mNone\u001b[39;00m))\n\u001b[1;32m    610\u001b[0m \u001b[38;5;66;03m# Create the parser.\u001b[39;00m\n\u001b[0;32m--> 611\u001b[0m parser \u001b[38;5;241m=\u001b[39m \u001b[43mTextFileReader\u001b[49m\u001b[43m(\u001b[49m\u001b[43mfilepath_or_buffer\u001b[49m\u001b[43m,\u001b[49m\u001b[43m \u001b[49m\u001b[38;5;241;43m*\u001b[39;49m\u001b[38;5;241;43m*\u001b[39;49m\u001b[43mkwds\u001b[49m\u001b[43m)\u001b[49m\n\u001b[1;32m    613\u001b[0m \u001b[38;5;28;01mif\u001b[39;00m chunksize \u001b[38;5;129;01mor\u001b[39;00m iterator:\n\u001b[1;32m    614\u001b[0m     \u001b[38;5;28;01mreturn\u001b[39;00m parser\n",
      "File \u001b[0;32m~/develop/reactionmodel/.venv/lib/python3.9/site-packages/pandas/io/parsers/readers.py:1448\u001b[0m, in \u001b[0;36mTextFileReader.__init__\u001b[0;34m(self, f, engine, **kwds)\u001b[0m\n\u001b[1;32m   1445\u001b[0m     \u001b[38;5;28mself\u001b[39m\u001b[38;5;241m.\u001b[39moptions[\u001b[38;5;124m\"\u001b[39m\u001b[38;5;124mhas_index_names\u001b[39m\u001b[38;5;124m\"\u001b[39m] \u001b[38;5;241m=\u001b[39m kwds[\u001b[38;5;124m\"\u001b[39m\u001b[38;5;124mhas_index_names\u001b[39m\u001b[38;5;124m\"\u001b[39m]\n\u001b[1;32m   1447\u001b[0m \u001b[38;5;28mself\u001b[39m\u001b[38;5;241m.\u001b[39mhandles: IOHandles \u001b[38;5;241m|\u001b[39m \u001b[38;5;28;01mNone\u001b[39;00m \u001b[38;5;241m=\u001b[39m \u001b[38;5;28;01mNone\u001b[39;00m\n\u001b[0;32m-> 1448\u001b[0m \u001b[38;5;28mself\u001b[39m\u001b[38;5;241m.\u001b[39m_engine \u001b[38;5;241m=\u001b[39m \u001b[38;5;28;43mself\u001b[39;49m\u001b[38;5;241;43m.\u001b[39;49m\u001b[43m_make_engine\u001b[49m\u001b[43m(\u001b[49m\u001b[43mf\u001b[49m\u001b[43m,\u001b[49m\u001b[43m \u001b[49m\u001b[38;5;28;43mself\u001b[39;49m\u001b[38;5;241;43m.\u001b[39;49m\u001b[43mengine\u001b[49m\u001b[43m)\u001b[49m\n",
      "File \u001b[0;32m~/develop/reactionmodel/.venv/lib/python3.9/site-packages/pandas/io/parsers/readers.py:1705\u001b[0m, in \u001b[0;36mTextFileReader._make_engine\u001b[0;34m(self, f, engine)\u001b[0m\n\u001b[1;32m   1703\u001b[0m     \u001b[38;5;28;01mif\u001b[39;00m \u001b[38;5;124m\"\u001b[39m\u001b[38;5;124mb\u001b[39m\u001b[38;5;124m\"\u001b[39m \u001b[38;5;129;01mnot\u001b[39;00m \u001b[38;5;129;01min\u001b[39;00m mode:\n\u001b[1;32m   1704\u001b[0m         mode \u001b[38;5;241m+\u001b[39m\u001b[38;5;241m=\u001b[39m \u001b[38;5;124m\"\u001b[39m\u001b[38;5;124mb\u001b[39m\u001b[38;5;124m\"\u001b[39m\n\u001b[0;32m-> 1705\u001b[0m \u001b[38;5;28mself\u001b[39m\u001b[38;5;241m.\u001b[39mhandles \u001b[38;5;241m=\u001b[39m \u001b[43mget_handle\u001b[49m\u001b[43m(\u001b[49m\n\u001b[1;32m   1706\u001b[0m \u001b[43m    \u001b[49m\u001b[43mf\u001b[49m\u001b[43m,\u001b[49m\n\u001b[1;32m   1707\u001b[0m \u001b[43m    \u001b[49m\u001b[43mmode\u001b[49m\u001b[43m,\u001b[49m\n\u001b[1;32m   1708\u001b[0m \u001b[43m    \u001b[49m\u001b[43mencoding\u001b[49m\u001b[38;5;241;43m=\u001b[39;49m\u001b[38;5;28;43mself\u001b[39;49m\u001b[38;5;241;43m.\u001b[39;49m\u001b[43moptions\u001b[49m\u001b[38;5;241;43m.\u001b[39;49m\u001b[43mget\u001b[49m\u001b[43m(\u001b[49m\u001b[38;5;124;43m\"\u001b[39;49m\u001b[38;5;124;43mencoding\u001b[39;49m\u001b[38;5;124;43m\"\u001b[39;49m\u001b[43m,\u001b[49m\u001b[43m \u001b[49m\u001b[38;5;28;43;01mNone\u001b[39;49;00m\u001b[43m)\u001b[49m\u001b[43m,\u001b[49m\n\u001b[1;32m   1709\u001b[0m \u001b[43m    \u001b[49m\u001b[43mcompression\u001b[49m\u001b[38;5;241;43m=\u001b[39;49m\u001b[38;5;28;43mself\u001b[39;49m\u001b[38;5;241;43m.\u001b[39;49m\u001b[43moptions\u001b[49m\u001b[38;5;241;43m.\u001b[39;49m\u001b[43mget\u001b[49m\u001b[43m(\u001b[49m\u001b[38;5;124;43m\"\u001b[39;49m\u001b[38;5;124;43mcompression\u001b[39;49m\u001b[38;5;124;43m\"\u001b[39;49m\u001b[43m,\u001b[49m\u001b[43m \u001b[49m\u001b[38;5;28;43;01mNone\u001b[39;49;00m\u001b[43m)\u001b[49m\u001b[43m,\u001b[49m\n\u001b[1;32m   1710\u001b[0m \u001b[43m    \u001b[49m\u001b[43mmemory_map\u001b[49m\u001b[38;5;241;43m=\u001b[39;49m\u001b[38;5;28;43mself\u001b[39;49m\u001b[38;5;241;43m.\u001b[39;49m\u001b[43moptions\u001b[49m\u001b[38;5;241;43m.\u001b[39;49m\u001b[43mget\u001b[49m\u001b[43m(\u001b[49m\u001b[38;5;124;43m\"\u001b[39;49m\u001b[38;5;124;43mmemory_map\u001b[39;49m\u001b[38;5;124;43m\"\u001b[39;49m\u001b[43m,\u001b[49m\u001b[43m \u001b[49m\u001b[38;5;28;43;01mFalse\u001b[39;49;00m\u001b[43m)\u001b[49m\u001b[43m,\u001b[49m\n\u001b[1;32m   1711\u001b[0m \u001b[43m    \u001b[49m\u001b[43mis_text\u001b[49m\u001b[38;5;241;43m=\u001b[39;49m\u001b[43mis_text\u001b[49m\u001b[43m,\u001b[49m\n\u001b[1;32m   1712\u001b[0m \u001b[43m    \u001b[49m\u001b[43merrors\u001b[49m\u001b[38;5;241;43m=\u001b[39;49m\u001b[38;5;28;43mself\u001b[39;49m\u001b[38;5;241;43m.\u001b[39;49m\u001b[43moptions\u001b[49m\u001b[38;5;241;43m.\u001b[39;49m\u001b[43mget\u001b[49m\u001b[43m(\u001b[49m\u001b[38;5;124;43m\"\u001b[39;49m\u001b[38;5;124;43mencoding_errors\u001b[39;49m\u001b[38;5;124;43m\"\u001b[39;49m\u001b[43m,\u001b[49m\u001b[43m \u001b[49m\u001b[38;5;124;43m\"\u001b[39;49m\u001b[38;5;124;43mstrict\u001b[39;49m\u001b[38;5;124;43m\"\u001b[39;49m\u001b[43m)\u001b[49m\u001b[43m,\u001b[49m\n\u001b[1;32m   1713\u001b[0m \u001b[43m    \u001b[49m\u001b[43mstorage_options\u001b[49m\u001b[38;5;241;43m=\u001b[39;49m\u001b[38;5;28;43mself\u001b[39;49m\u001b[38;5;241;43m.\u001b[39;49m\u001b[43moptions\u001b[49m\u001b[38;5;241;43m.\u001b[39;49m\u001b[43mget\u001b[49m\u001b[43m(\u001b[49m\u001b[38;5;124;43m\"\u001b[39;49m\u001b[38;5;124;43mstorage_options\u001b[39;49m\u001b[38;5;124;43m\"\u001b[39;49m\u001b[43m,\u001b[49m\u001b[43m \u001b[49m\u001b[38;5;28;43;01mNone\u001b[39;49;00m\u001b[43m)\u001b[49m\u001b[43m,\u001b[49m\n\u001b[1;32m   1714\u001b[0m \u001b[43m\u001b[49m\u001b[43m)\u001b[49m\n\u001b[1;32m   1715\u001b[0m \u001b[38;5;28;01massert\u001b[39;00m \u001b[38;5;28mself\u001b[39m\u001b[38;5;241m.\u001b[39mhandles \u001b[38;5;129;01mis\u001b[39;00m \u001b[38;5;129;01mnot\u001b[39;00m \u001b[38;5;28;01mNone\u001b[39;00m\n\u001b[1;32m   1716\u001b[0m f \u001b[38;5;241m=\u001b[39m \u001b[38;5;28mself\u001b[39m\u001b[38;5;241m.\u001b[39mhandles\u001b[38;5;241m.\u001b[39mhandle\n",
      "File \u001b[0;32m~/develop/reactionmodel/.venv/lib/python3.9/site-packages/pandas/io/common.py:863\u001b[0m, in \u001b[0;36mget_handle\u001b[0;34m(path_or_buf, mode, encoding, compression, memory_map, is_text, errors, storage_options)\u001b[0m\n\u001b[1;32m    858\u001b[0m \u001b[38;5;28;01melif\u001b[39;00m \u001b[38;5;28misinstance\u001b[39m(handle, \u001b[38;5;28mstr\u001b[39m):\n\u001b[1;32m    859\u001b[0m     \u001b[38;5;66;03m# Check whether the filename is to be opened in binary mode.\u001b[39;00m\n\u001b[1;32m    860\u001b[0m     \u001b[38;5;66;03m# Binary mode does not support 'encoding' and 'newline'.\u001b[39;00m\n\u001b[1;32m    861\u001b[0m     \u001b[38;5;28;01mif\u001b[39;00m ioargs\u001b[38;5;241m.\u001b[39mencoding \u001b[38;5;129;01mand\u001b[39;00m \u001b[38;5;124m\"\u001b[39m\u001b[38;5;124mb\u001b[39m\u001b[38;5;124m\"\u001b[39m \u001b[38;5;129;01mnot\u001b[39;00m \u001b[38;5;129;01min\u001b[39;00m ioargs\u001b[38;5;241m.\u001b[39mmode:\n\u001b[1;32m    862\u001b[0m         \u001b[38;5;66;03m# Encoding\u001b[39;00m\n\u001b[0;32m--> 863\u001b[0m         handle \u001b[38;5;241m=\u001b[39m \u001b[38;5;28;43mopen\u001b[39;49m\u001b[43m(\u001b[49m\n\u001b[1;32m    864\u001b[0m \u001b[43m            \u001b[49m\u001b[43mhandle\u001b[49m\u001b[43m,\u001b[49m\n\u001b[1;32m    865\u001b[0m \u001b[43m            \u001b[49m\u001b[43mioargs\u001b[49m\u001b[38;5;241;43m.\u001b[39;49m\u001b[43mmode\u001b[49m\u001b[43m,\u001b[49m\n\u001b[1;32m    866\u001b[0m \u001b[43m            \u001b[49m\u001b[43mencoding\u001b[49m\u001b[38;5;241;43m=\u001b[39;49m\u001b[43mioargs\u001b[49m\u001b[38;5;241;43m.\u001b[39;49m\u001b[43mencoding\u001b[49m\u001b[43m,\u001b[49m\n\u001b[1;32m    867\u001b[0m \u001b[43m            \u001b[49m\u001b[43merrors\u001b[49m\u001b[38;5;241;43m=\u001b[39;49m\u001b[43merrors\u001b[49m\u001b[43m,\u001b[49m\n\u001b[1;32m    868\u001b[0m \u001b[43m            \u001b[49m\u001b[43mnewline\u001b[49m\u001b[38;5;241;43m=\u001b[39;49m\u001b[38;5;124;43m\"\u001b[39;49m\u001b[38;5;124;43m\"\u001b[39;49m\u001b[43m,\u001b[49m\n\u001b[1;32m    869\u001b[0m \u001b[43m        \u001b[49m\u001b[43m)\u001b[49m\n\u001b[1;32m    870\u001b[0m     \u001b[38;5;28;01melse\u001b[39;00m:\n\u001b[1;32m    871\u001b[0m         \u001b[38;5;66;03m# Binary mode\u001b[39;00m\n\u001b[1;32m    872\u001b[0m         handle \u001b[38;5;241m=\u001b[39m \u001b[38;5;28mopen\u001b[39m(handle, ioargs\u001b[38;5;241m.\u001b[39mmode)\n",
      "\u001b[0;31mFileNotFoundError\u001b[0m: [Errno 2] No such file or directory: './examples/minimal/q.csv'"
     ]
    }
   ],
   "source": [
    "p = parser.loads(md)"
   ]
  },
  {
   "cell_type": "code",
   "execution_count": 6,
   "metadata": {},
   "outputs": [
    {
     "ename": "NameError",
     "evalue": "name 'p' is not defined",
     "output_type": "error",
     "traceback": [
      "\u001b[0;31m---------------------------------------------------------------------------\u001b[0m",
      "\u001b[0;31mNameError\u001b[0m                                 Traceback (most recent call last)",
      "Cell \u001b[0;32mIn[6], line 1\u001b[0m\n\u001b[0;32m----> 1\u001b[0m \u001b[43mp\u001b[49m\u001b[38;5;241m.\u001b[39mmodel \u001b[38;5;241m==\u001b[39m m\n",
      "\u001b[0;31mNameError\u001b[0m: name 'p' is not defined"
     ]
    }
   ],
   "source": [
    "p.model == m"
   ]
  },
  {
   "cell_type": "code",
   "execution_count": 6,
   "metadata": {},
   "outputs": [
    {
     "data": {
      "text/plain": [
       "[Reaction(description=2A_x => B_p, reactants=((Species(name='A_x', description=''), 2),), products=(Species(name='B_p', description=''),), kinetic_order=((Species(name='A_x', description=''), 2),), k=Q[0][0]),\n",
       " Reaction(description=2A_x => B_q, reactants=((Species(name='A_x', description=''), 2),), products=(Species(name='B_q', description=''),), kinetic_order=((Species(name='A_x', description=''), 2),), k=Q[0][1]),\n",
       " Reaction(description=2A_x => B_r, reactants=((Species(name='A_x', description=''), 2),), products=(Species(name='B_r', description=''),), kinetic_order=((Species(name='A_x', description=''), 2),), k=Q[0][2]),\n",
       " Reaction(description=2A_y => B_p, reactants=((Species(name='A_y', description=''), 2),), products=(Species(name='B_p', description=''),), kinetic_order=((Species(name='A_y', description=''), 2),), k=Q[1][0]),\n",
       " Reaction(description=2A_y => B_q, reactants=((Species(name='A_y', description=''), 2),), products=(Species(name='B_q', description=''),), kinetic_order=((Species(name='A_y', description=''), 2),), k=Q[1][1]),\n",
       " Reaction(description=2A_y => B_r, reactants=((Species(name='A_y', description=''), 2),), products=(Species(name='B_r', description=''),), kinetic_order=((Species(name='A_y', description=''), 2),), k=Q[1][2]),\n",
       " Reaction(description=2A_z => B_p, reactants=((Species(name='A_z', description=''), 2),), products=(Species(name='B_p', description=''),), kinetic_order=((Species(name='A_z', description=''), 2),), k=Q[2][0]),\n",
       " Reaction(description=2A_z => B_q, reactants=((Species(name='A_z', description=''), 2),), products=(Species(name='B_q', description=''),), kinetic_order=((Species(name='A_z', description=''), 2),), k=Q[2][1]),\n",
       " Reaction(description=2A_z => B_r, reactants=((Species(name='A_z', description=''), 2),), products=(Species(name='B_r', description=''),), kinetic_order=((Species(name='A_z', description=''), 2),), k=Q[2][2])]"
      ]
     },
     "execution_count": 6,
     "metadata": {},
     "output_type": "execute_result"
    }
   ],
   "source": [
    "p.model.all_reactions"
   ]
  },
  {
   "cell_type": "code",
   "execution_count": 7,
   "metadata": {},
   "outputs": [
    {
     "data": {
      "text/plain": [
       "[Reaction(description=2A_x => B_p, reactants=((Species(name='A_x', description=''), 2),), products=(Species(name='B_p', description=''),), kinetic_order=((Species(name='A_x', description=''), 2),), k=Q[0][0]),\n",
       " Reaction(description=2A_x => B_q, reactants=((Species(name='A_x', description=''), 2),), products=(Species(name='B_q', description=''),), kinetic_order=((Species(name='A_x', description=''), 2),), k=Q[0][1]),\n",
       " Reaction(description=2A_x => B_r, reactants=((Species(name='A_x', description=''), 2),), products=(Species(name='B_r', description=''),), kinetic_order=((Species(name='A_x', description=''), 2),), k=Q[0][2]),\n",
       " Reaction(description=2A_y => B_p, reactants=((Species(name='A_y', description=''), 2),), products=(Species(name='B_p', description=''),), kinetic_order=((Species(name='A_y', description=''), 2),), k=Q[1][0]),\n",
       " Reaction(description=2A_y => B_q, reactants=((Species(name='A_y', description=''), 2),), products=(Species(name='B_q', description=''),), kinetic_order=((Species(name='A_y', description=''), 2),), k=Q[1][1]),\n",
       " Reaction(description=2A_y => B_r, reactants=((Species(name='A_y', description=''), 2),), products=(Species(name='B_r', description=''),), kinetic_order=((Species(name='A_y', description=''), 2),), k=Q[1][2]),\n",
       " Reaction(description=2A_z => B_p, reactants=((Species(name='A_z', description=''), 2),), products=(Species(name='B_p', description=''),), kinetic_order=((Species(name='A_z', description=''), 2),), k=Q[2][0]),\n",
       " Reaction(description=2A_z => B_q, reactants=((Species(name='A_z', description=''), 2),), products=(Species(name='B_q', description=''),), kinetic_order=((Species(name='A_z', description=''), 2),), k=Q[2][1]),\n",
       " Reaction(description=2A_z => B_r, reactants=((Species(name='A_z', description=''), 2),), products=(Species(name='B_r', description=''),), kinetic_order=((Species(name='A_z', description=''), 2),), k=Q[2][2])]"
      ]
     },
     "execution_count": 7,
     "metadata": {},
     "output_type": "execute_result"
    }
   ],
   "source": [
    "m.all_reactions"
   ]
  },
  {
   "cell_type": "code",
   "execution_count": 8,
   "metadata": {},
   "outputs": [
    {
     "data": {
      "text/plain": [
       "{'A_x': '1.0 * foo', 'A_y': '1.0 * foo', 'A_z': '1.0 * foo'}"
      ]
     },
     "execution_count": 8,
     "metadata": {},
     "output_type": "execute_result"
    }
   ],
   "source": [
    "p.initial_condition"
   ]
  },
  {
   "cell_type": "code",
   "execution_count": 9,
   "metadata": {},
   "outputs": [
    {
     "name": "stdout",
     "output_type": "stream",
     "text": [
      "Evaluating expression: 1.0 * foo => 2.0\n",
      "Evaluating expression: 1.0 * foo => 2.0\n",
      "Evaluating expression: 1.0 * foo => 2.0\n"
     ]
    },
    {
     "data": {
      "text/plain": [
       "array([2., 2., 2., 0., 0., 0.])"
      ]
     },
     "execution_count": 9,
     "metadata": {},
     "output_type": "execute_result"
    }
   ],
   "source": [
    "p.model.make_initial_condition(p.initial_condition, p.parameters)"
   ]
  },
  {
   "cell_type": "code",
   "execution_count": 10,
   "metadata": {},
   "outputs": [
    {
     "data": {
      "text/plain": [
       "{'foo': 2.0,\n",
       " 'Q': array([[1., 2., 3.],\n",
       "        [4., 5., 6.],\n",
       "        [7., 8., 9.]])}"
      ]
     },
     "execution_count": 10,
     "metadata": {},
     "output_type": "execute_result"
    }
   ],
   "source": [
    "p.parameters"
   ]
  },
  {
   "cell_type": "code",
   "execution_count": 11,
   "metadata": {},
   "outputs": [
    {
     "name": "stdout",
     "output_type": "stream",
     "text": [
      "Evaluating expression: Q[0][0] => 1.0\n",
      "Evaluating expression: Q[0][1] => 2.0\n",
      "Evaluating expression: Q[0][2] => 3.0\n",
      "Evaluating expression: Q[1][0] => 4.0\n",
      "Evaluating expression: Q[1][1] => 5.0\n",
      "Evaluating expression: Q[1][2] => 6.0\n",
      "Evaluating expression: Q[2][0] => 7.0\n",
      "Evaluating expression: Q[2][1] => 8.0\n",
      "Evaluating expression: Q[2][2] => 9.0\n"
     ]
    },
    {
     "data": {
      "text/plain": [
       "array([1., 2., 3., 4., 5., 6., 7., 8., 9.])"
      ]
     },
     "execution_count": 11,
     "metadata": {},
     "output_type": "execute_result"
    }
   ],
   "source": [
    "p.model.get_k(parameters=p.parameters)"
   ]
  },
  {
   "cell_type": "code",
   "execution_count": 12,
   "metadata": {},
   "outputs": [
    {
     "data": {
      "text/plain": [
       "{'simulator': 'gillespie'}"
      ]
     },
     "execution_count": 12,
     "metadata": {},
     "output_type": "execute_result"
    }
   ],
   "source": [
    "p.simulator_config"
   ]
  },
  {
   "cell_type": "code",
   "execution_count": 13,
   "metadata": {},
   "outputs": [
    {
     "data": {
      "text/plain": [
       "[Reaction(description=2A_x => B_p, reactants=((Species(name='A_x', description=''), 2),), products=(Species(name='B_p', description=''),), kinetic_order=((Species(name='A_x', description=''), 2),), k=Q[0][0]),\n",
       " Reaction(description=2A_x => B_q, reactants=((Species(name='A_x', description=''), 2),), products=(Species(name='B_q', description=''),), kinetic_order=((Species(name='A_x', description=''), 2),), k=Q[0][1]),\n",
       " Reaction(description=2A_x => B_r, reactants=((Species(name='A_x', description=''), 2),), products=(Species(name='B_r', description=''),), kinetic_order=((Species(name='A_x', description=''), 2),), k=Q[0][2]),\n",
       " Reaction(description=2A_y => B_p, reactants=((Species(name='A_y', description=''), 2),), products=(Species(name='B_p', description=''),), kinetic_order=((Species(name='A_y', description=''), 2),), k=Q[1][0]),\n",
       " Reaction(description=2A_y => B_q, reactants=((Species(name='A_y', description=''), 2),), products=(Species(name='B_q', description=''),), kinetic_order=((Species(name='A_y', description=''), 2),), k=Q[1][1]),\n",
       " Reaction(description=2A_y => B_r, reactants=((Species(name='A_y', description=''), 2),), products=(Species(name='B_r', description=''),), kinetic_order=((Species(name='A_y', description=''), 2),), k=Q[1][2]),\n",
       " Reaction(description=2A_z => B_p, reactants=((Species(name='A_z', description=''), 2),), products=(Species(name='B_p', description=''),), kinetic_order=((Species(name='A_z', description=''), 2),), k=Q[2][0]),\n",
       " Reaction(description=2A_z => B_q, reactants=((Species(name='A_z', description=''), 2),), products=(Species(name='B_q', description=''),), kinetic_order=((Species(name='A_z', description=''), 2),), k=Q[2][1]),\n",
       " Reaction(description=2A_z => B_r, reactants=((Species(name='A_z', description=''), 2),), products=(Species(name='B_r', description=''),), kinetic_order=((Species(name='A_z', description=''), 2),), k=Q[2][2])]"
      ]
     },
     "execution_count": 13,
     "metadata": {},
     "output_type": "execute_result"
    }
   ],
   "source": [
    "p.model.all_reactions"
   ]
  },
  {
   "cell_type": "code",
   "execution_count": 14,
   "metadata": {},
   "outputs": [
    {
     "data": {
      "text/plain": [
       "ParseResults(model=<reactionmodel.model.Model object at 0x156c39c70>, parameters={'foo': 2.0, 'Q': array([[1., 2., 3.],\n",
       "       [4., 5., 6.],\n",
       "       [7., 8., 9.]])}, initial_condition={'A_x': '1.0 * foo', 'A_y': '1.0 * foo', 'A_z': '1.0 * foo'}, simulator_config={'simulator': 'gillespie'})"
      ]
     },
     "execution_count": 14,
     "metadata": {},
     "output_type": "execute_result"
    }
   ],
   "source": [
    "p"
   ]
  },
  {
   "cell_type": "code",
   "execution_count": 15,
   "metadata": {},
   "outputs": [],
   "source": [
    "a = Species('A')\n",
    "r1 = Reaction([a], [])\n",
    "r2 = Reaction([(a, 2)], [])\n",
    "r_g = ReactionRateFamily([r1, r2], k='hi')\n",
    "\n",
    "m = Model([a], [r1,r2])\n",
    "m.to_dict()\n",
    "from yaml import SafeDumper as Dumper\n",
    "dump = yaml.dump(m.to_dict(), Dumper=Dumper)"
   ]
  },
  {
   "cell_type": "code",
   "execution_count": 16,
   "metadata": {},
   "outputs": [
    {
     "name": "stdout",
     "output_type": "stream",
     "text": [
      "{'species': [{'description': '', 'name': 'A'}], 'reactions': [{'description': '', 'k': None, 'kinetic_orders': [{'description': '', 'name': 'A'}], 'products': [], 'reactants': [{'description': '', 'name': 'A'}], 'reversible': False}, {'description': '', 'k': None, 'kinetic_orders': [[{'description': '', 'name': 'A'}, 2]], 'products': [], 'reactants': [[{'description': '', 'name': 'A'}, 2]], 'reversible': False}]}\n",
      "[Reaction(description=, reactants=(Species(name='A', description=''),), products=(), kinetic_order=(Species(name='A', description=''),), k=None), Reaction(description=, reactants=((Species(name='A', description=''), 2),), products=(), kinetic_order=((Species(name='A', description=''), 2),), k=None)]\n"
     ]
    }
   ],
   "source": [
    "p = parser.loads(yaml.load(dump, Loader=Loader))"
   ]
  },
  {
   "cell_type": "code",
   "execution_count": 17,
   "metadata": {},
   "outputs": [
    {
     "data": {
      "text/plain": [
       "True"
      ]
     },
     "execution_count": 17,
     "metadata": {},
     "output_type": "execute_result"
    }
   ],
   "source": [
    "p.model == m"
   ]
  }
 ],
 "metadata": {
  "kernelspec": {
   "display_name": ".venv",
   "language": "python",
   "name": "python3"
  },
  "language_info": {
   "codemirror_mode": {
    "name": "ipython",
    "version": 3
   },
   "file_extension": ".py",
   "mimetype": "text/x-python",
   "name": "python",
   "nbconvert_exporter": "python",
   "pygments_lexer": "ipython3",
   "version": "3.9.8"
  }
 },
 "nbformat": 4,
 "nbformat_minor": 2
}
