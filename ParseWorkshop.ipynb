{
 "cells": [
  {
   "cell_type": "code",
   "execution_count": 1,
   "metadata": {},
   "outputs": [],
   "source": [
    "import os\n",
    "import re\n",
    "from dataclasses import dataclass\n",
    "from reactionmodel.model import Species, Reaction, ReactionRateFamily, Model"
   ]
  },
  {
   "cell_type": "code",
   "execution_count": 2,
   "metadata": {},
   "outputs": [],
   "source": [
    "a = Species('A')\n",
    "r = Reaction([a], [])\n",
    "m = Model([a], [r])"
   ]
  },
  {
   "cell_type": "code",
   "execution_count": 3,
   "metadata": {},
   "outputs": [
    {
     "data": {
      "text/plain": [
       "[Reaction(description=, reactants=(Species(name='A', description=''),), products=(), kinetic_order=(Species(name='A', description=''),), k=None)]"
      ]
     },
     "execution_count": 3,
     "metadata": {},
     "output_type": "execute_result"
    }
   ],
   "source": [
    "m.all_reactions"
   ]
  },
  {
   "cell_type": "code",
   "execution_count": 4,
   "metadata": {},
   "outputs": [
    {
     "data": {
      "text/plain": [
       "array([1.])"
      ]
     },
     "execution_count": 4,
     "metadata": {},
     "output_type": "execute_result"
    }
   ],
   "source": [
    "m.get_k(reaction_to_k={r:1})"
   ]
  },
  {
   "cell_type": "code",
   "execution_count": 5,
   "metadata": {},
   "outputs": [
    {
     "data": {
      "text/plain": [
       "{'reactants': ({'name': 'A', 'description': ''},),\n",
       " 'products': (),\n",
       " 'description': '',\n",
       " 'rate_involved': ({'name': 'A', 'description': ''},),\n",
       " 'reversible': False,\n",
       " 'k': None}"
      ]
     },
     "execution_count": 5,
     "metadata": {},
     "output_type": "execute_result"
    }
   ],
   "source": [
    "r.to_dict()"
   ]
  },
  {
   "cell_type": "code",
   "execution_count": 6,
   "metadata": {},
   "outputs": [
    {
     "data": {
      "text/plain": [
       "{'species': [{'name': 'A', 'description': ''}],\n",
       " 'reactions': [{'reactants': ({'name': 'A', 'description': ''},),\n",
       "   'products': (),\n",
       "   'description': '',\n",
       "   'rate_involved': ({'name': 'A', 'description': ''},),\n",
       "   'reversible': False,\n",
       "   'k': None}]}"
      ]
     },
     "execution_count": 6,
     "metadata": {},
     "output_type": "execute_result"
    }
   ],
   "source": [
    "m.to_dict()"
   ]
  },
  {
   "cell_type": "code",
   "execution_count": 7,
   "metadata": {},
   "outputs": [
    {
     "name": "stdout",
     "output_type": "stream",
     "text": [
      "[Reaction(description=, reactants=(Species(name='A', description=''),), products=(), kinetic_order=(Species(name='A', description=''),), k=None)]\n"
     ]
    }
   ],
   "source": [
    "m2 = m.from_dict(m.to_dict())"
   ]
  },
  {
   "cell_type": "code",
   "execution_count": 8,
   "metadata": {},
   "outputs": [
    {
     "data": {
      "text/plain": [
       "{'species': [{'name': 'A', 'description': ''}],\n",
       " 'reactions': [{'reactants': ({'name': 'A', 'description': ''},),\n",
       "   'products': (),\n",
       "   'description': '',\n",
       "   'rate_involved': ({'name': 'A', 'description': ''},),\n",
       "   'reversible': False,\n",
       "   'k': None},\n",
       "  {'reactants': (({'name': 'A', 'description': ''}, 2),),\n",
       "   'products': (),\n",
       "   'description': '',\n",
       "   'rate_involved': (({'name': 'A', 'description': ''}, 2),),\n",
       "   'reversible': False,\n",
       "   'k': None}]}"
      ]
     },
     "execution_count": 8,
     "metadata": {},
     "output_type": "execute_result"
    }
   ],
   "source": [
    "a = Species('A')\n",
    "r1 = Reaction([a], [])\n",
    "r2 = Reaction([(a, 2)], [])\n",
    "r_g = ReactionRateFamily([r1, r2], k='hi')\n",
    "\n",
    "m = Model([a], [r1,r2])\n",
    "m.to_dict()"
   ]
  },
  {
   "cell_type": "code",
   "execution_count": 9,
   "metadata": {},
   "outputs": [
    {
     "name": "stdout",
     "output_type": "stream",
     "text": [
      "reactions:\n",
      "- description: ''\n",
      "  k: null\n",
      "  products: !!python/tuple []\n",
      "  rate_involved: !!python/tuple\n",
      "  - description: ''\n",
      "    name: A\n",
      "  reactants: !!python/tuple\n",
      "  - description: ''\n",
      "    name: A\n",
      "  reversible: false\n",
      "- description: ''\n",
      "  k: null\n",
      "  products: !!python/tuple []\n",
      "  rate_involved: !!python/tuple\n",
      "  - !!python/tuple\n",
      "    - description: ''\n",
      "      name: A\n",
      "    - 2\n",
      "  reactants: !!python/tuple\n",
      "  - !!python/tuple\n",
      "    - description: ''\n",
      "      name: A\n",
      "    - 2\n",
      "  reversible: false\n",
      "species:\n",
      "- description: ''\n",
      "  name: A\n",
      "\n"
     ]
    }
   ],
   "source": [
    "import yaml\n",
    "print(yaml.dump(m.to_dict()))"
   ]
  },
  {
   "cell_type": "code",
   "execution_count": 10,
   "metadata": {},
   "outputs": [],
   "source": [
    "@dataclass(frozen=True)\n",
    "class Syntax():\n",
    "    family_denoter = '$'\n",
    "    family_enumerator = '#'\n",
    "\n",
    "from itertools import product\n",
    "def enumerated_product(members):\n",
    "    yield from zip(product(*(range(len(x)) for x in members)), product(*members))\n",
    "\n",
    "def family_replace(family_names, idx, chosen_members, value, syntax=Syntax(), do_nestings=False):\n",
    "    for family_name, member, i in zip(family_names, chosen_members, idx):\n",
    "        if do_nestings and isinstance(value, (tuple, list)):\n",
    "            value = [family_replace(family_names, idx, chosen_members, v, syntax, do_nestings) for v in value]\n",
    "            continue\n",
    "        if do_nestings and isinstance(value, dict):\n",
    "            value = {k:family_replace(family_names, idx, chosen_members, v, syntax, do_nestings) for k,v in value.items()}\n",
    "            continue\n",
    "        if isinstance(value, (int, float)):\n",
    "            continue\n",
    "        value = value.replace(syntax.family_denoter + family_name, member)\n",
    "        value = value.replace(syntax.family_enumerator + family_name, str(i))\n",
    "    return value\n",
    "\n",
    "from enum import Enum\n",
    "class ReactionRateFamilyApplicationMethod(Enum):\n",
    "    group = 'group'\n",
    "    split = 'split'\n",
    "\n",
    "def expand_families(families, atom, syntax=Syntax()):\n",
    "    try:\n",
    "        used_families = atom.pop('used_families')\n",
    "    except KeyError:\n",
    "        return [atom]\n",
    "    nested_fields = ['products', 'reactants']\n",
    "    # are we a ReactionRateFamily?\n",
    "    if 'reactions' in atom.keys():\n",
    "        # we are a ReactionRateFamily\n",
    "        try:\n",
    "            family_method = ReactionRateFamilyApplicationMethod(atom.pop('family_method'))\n",
    "        except KeyError:\n",
    "            family_method = ReactionRateFamilyApplicationMethod.group\n",
    "        \n",
    "        if family_method == ReactionRateFamilyApplicationMethod.group:\n",
    "            for field, value in atom.items():\n",
    "                if field != 'reactions':\n",
    "                    assert syntax.family_denoter not in value\n",
    "                    assert syntax.family_enumerator not in value\n",
    "                    continue\n",
    "\n",
    "            new_reactions = []\n",
    "            for r in atom['reactions']:\n",
    "                r_ = r.copy()\n",
    "                r_['used_families'] = used_families\n",
    "                new = expand_families(families, r_, syntax)\n",
    "                print(new)\n",
    "                new_reactions.extend(new)\n",
    "            new_rrf = atom.copy()\n",
    "            new_rrf['reactions'] = new_reactions\n",
    "            return new_rrf\n",
    "        elif family_method == ReactionRateFamilyApplicationMethod.split:\n",
    "            # we want to continue with expansion, but make a note that reactions will have to be expanded as well\n",
    "            nested_fields.append('reactions')\n",
    "    family_members = []\n",
    "    for _, global_family_name in used_families.items():\n",
    "        members = families[global_family_name]\n",
    "        # append the *list*, so we can keep our families straight\n",
    "        family_members.append(members)\n",
    "\n",
    "    new_atoms = []\n",
    "    for idx, combination in enumerated_product(family_members):\n",
    "        new_atom = atom.copy()\n",
    "        for field, value in atom.items():\n",
    "            new_atom[field] = family_replace(used_families, idx, combination, value, syntax=syntax, do_nestings=(field in nested_fields))\n",
    "        new_atoms.append(new_atom)\n",
    "    \n",
    "    return new_atoms\n",
    "\n",
    "def parse_model(families, species, reactions):\n",
    "    all_species = []\n",
    "    for s in species:\n",
    "        all_species.extend(expand_families(families, s))\n",
    "    all_reactions = []\n",
    "    for r in reactions:\n",
    "        all_reactions.extend(expand_families(families, r))\n",
    "    model_dict = {\n",
    "        'species'  : all_species,\n",
    "        'reactions': all_reactions,\n",
    "    }\n",
    "    print(model_dict)\n",
    "    return Model.from_dict(model_dict)"
   ]
  },
  {
   "cell_type": "code",
   "execution_count": 11,
   "metadata": {},
   "outputs": [
    {
     "data": {
      "text/plain": [
       "[{'x': 'foo', 'y': 'foo0'},\n",
       " {'x': 'foo', 'y': 'bar0'},\n",
       " {'x': 'bar', 'y': 'foo1'},\n",
       " {'x': 'bar', 'y': 'bar1'}]"
      ]
     },
     "execution_count": 11,
     "metadata": {},
     "output_type": "execute_result"
    }
   ],
   "source": [
    "expand_families({'fam':['foo', 'bar']}, {'x':'$i', 'y':'$j#i', 'used_families':{'i':'fam', 'j':'fam'}})"
   ]
  },
  {
   "cell_type": "code",
   "execution_count": 12,
   "metadata": {},
   "outputs": [
    {
     "data": {
      "text/plain": [
       "[{'x': 'foo', 'y': 'foo0', 'reactions': [{'a': 'foo'}, {'a': 'foo'}]},\n",
       " {'x': 'foo', 'y': 'bar0', 'reactions': [{'a': 'foo'}, {'a': 'bar'}]},\n",
       " {'x': 'bar', 'y': 'foo1', 'reactions': [{'a': 'bar'}, {'a': 'foo'}]},\n",
       " {'x': 'bar', 'y': 'bar1', 'reactions': [{'a': 'bar'}, {'a': 'bar'}]}]"
      ]
     },
     "execution_count": 12,
     "metadata": {},
     "output_type": "execute_result"
    }
   ],
   "source": [
    "expand_families({'fam':['foo', 'bar']}, {'x':'$i', 'y':'$j#i', 'reactions':[{'a':'$i'}, {'a':'$j'}], 'used_families':{'i':'fam', 'j':'fam'}, 'family_method':'split'})"
   ]
  },
  {
   "cell_type": "code",
   "execution_count": 13,
   "metadata": {},
   "outputs": [
    {
     "name": "stdout",
     "output_type": "stream",
     "text": [
      "[{'a': 'foo'}, {'a': 'foo'}, {'a': 'bar'}, {'a': 'bar'}]\n",
      "[{'a': 'foo'}, {'a': 'bar'}, {'a': 'foo'}, {'a': 'bar'}]\n"
     ]
    },
    {
     "data": {
      "text/plain": [
       "{'reactions': [{'a': 'foo'},\n",
       "  {'a': 'foo'},\n",
       "  {'a': 'bar'},\n",
       "  {'a': 'bar'},\n",
       "  {'a': 'foo'},\n",
       "  {'a': 'bar'},\n",
       "  {'a': 'foo'},\n",
       "  {'a': 'bar'}]}"
      ]
     },
     "execution_count": 13,
     "metadata": {},
     "output_type": "execute_result"
    }
   ],
   "source": [
    "expand_families({'fam':['foo', 'bar']}, {'reactions':[{'a':'$i'}, {'a':'$j'}], 'used_families':{'i':'fam', 'j':'fam'}, 'family_method':'group'})"
   ]
  },
  {
   "cell_type": "code",
   "execution_count": 14,
   "metadata": {},
   "outputs": [
    {
     "data": {
      "text/plain": [
       "{'families': {'As': ['x', 'y', 'z'], 'Bs': ['p', 'q', 'r']},\n",
       " 'species': [{'name': 'A_$i', 'used_families': {'i': 'As'}},\n",
       "  {'name': 'B_$j', 'used_families': {'j': 'Bs'}}],\n",
       " 'reactions': [{'reactants': [['A_$i', 2]],\n",
       "   'products': ['B_$j'],\n",
       "   'k': 'Q[#i][#j]',\n",
       "   'used_families': {'i': 'As', 'j': 'Bs'}}]}"
      ]
     },
     "execution_count": 14,
     "metadata": {},
     "output_type": "execute_result"
    }
   ],
   "source": [
    "from yaml import SafeLoader as Loader\n",
    "\n",
    "yaml_string = \"\"\"\n",
    "families:\n",
    "  As: [x, y, z]\n",
    "  Bs: [p, q, r]\n",
    "\n",
    "species:\n",
    "- name: 'A_$i'\n",
    "  used_families: {'i': 'As'}\n",
    "- name: 'B_$j'\n",
    "  used_families: {'j': 'Bs'}\n",
    "\n",
    "reactions:\n",
    "- reactants: [['A_$i',2]]\n",
    "  products: ['B_$j']\n",
    "  k: 'Q[#i][#j]'\n",
    "  used_families: {'i': 'As', 'j': 'Bs'}\n",
    "\"\"\"\n",
    "\n",
    "md = yaml.load(yaml_string, Loader=Loader)\n",
    "md"
   ]
  },
  {
   "cell_type": "code",
   "execution_count": 15,
   "metadata": {},
   "outputs": [
    {
     "name": "stdout",
     "output_type": "stream",
     "text": [
      "{'species': [{'name': 'A_x'}, {'name': 'A_y'}, {'name': 'A_z'}, {'name': 'B_p'}, {'name': 'B_q'}, {'name': 'B_r'}], 'reactions': [{'reactants': [['A_x', 2]], 'products': ['B_p'], 'k': 'Q[0][0]'}, {'reactants': [['A_x', 2]], 'products': ['B_q'], 'k': 'Q[0][1]'}, {'reactants': [['A_x', 2]], 'products': ['B_r'], 'k': 'Q[0][2]'}, {'reactants': [['A_y', 2]], 'products': ['B_p'], 'k': 'Q[1][0]'}, {'reactants': [['A_y', 2]], 'products': ['B_q'], 'k': 'Q[1][1]'}, {'reactants': [['A_y', 2]], 'products': ['B_r'], 'k': 'Q[1][2]'}, {'reactants': [['A_z', 2]], 'products': ['B_p'], 'k': 'Q[2][0]'}, {'reactants': [['A_z', 2]], 'products': ['B_q'], 'k': 'Q[2][1]'}, {'reactants': [['A_z', 2]], 'products': ['B_r'], 'k': 'Q[2][2]'}]}\n",
      "[Reaction(description=, reactants=((Species(name='A_x', description=''), 2),), products=(Species(name='B_p', description=''),), kinetic_order=(), k=Q[0][0]), Reaction(description=, reactants=((Species(name='A_x', description=''), 2),), products=(Species(name='B_q', description=''),), kinetic_order=(), k=Q[0][1]), Reaction(description=, reactants=((Species(name='A_x', description=''), 2),), products=(Species(name='B_r', description=''),), kinetic_order=(), k=Q[0][2]), Reaction(description=, reactants=((Species(name='A_y', description=''), 2),), products=(Species(name='B_p', description=''),), kinetic_order=(), k=Q[1][0]), Reaction(description=, reactants=((Species(name='A_y', description=''), 2),), products=(Species(name='B_q', description=''),), kinetic_order=(), k=Q[1][1]), Reaction(description=, reactants=((Species(name='A_y', description=''), 2),), products=(Species(name='B_r', description=''),), kinetic_order=(), k=Q[1][2]), Reaction(description=, reactants=((Species(name='A_z', description=''), 2),), products=(Species(name='B_p', description=''),), kinetic_order=(), k=Q[2][0]), Reaction(description=, reactants=((Species(name='A_z', description=''), 2),), products=(Species(name='B_q', description=''),), kinetic_order=(), k=Q[2][1]), Reaction(description=, reactants=((Species(name='A_z', description=''), 2),), products=(Species(name='B_r', description=''),), kinetic_order=(), k=Q[2][2])]\n"
     ]
    }
   ],
   "source": [
    "m = parse_model(md['families'], md['species'], md['reactions'])"
   ]
  },
  {
   "cell_type": "code",
   "execution_count": 16,
   "metadata": {},
   "outputs": [
    {
     "data": {
      "text/plain": [
       "[Reaction(description=, reactants=((Species(name='A_x', description=''), 2),), products=(Species(name='B_p', description=''),), kinetic_order=(), k=Q[0][0]),\n",
       " Reaction(description=, reactants=((Species(name='A_x', description=''), 2),), products=(Species(name='B_q', description=''),), kinetic_order=(), k=Q[0][1]),\n",
       " Reaction(description=, reactants=((Species(name='A_x', description=''), 2),), products=(Species(name='B_r', description=''),), kinetic_order=(), k=Q[0][2]),\n",
       " Reaction(description=, reactants=((Species(name='A_y', description=''), 2),), products=(Species(name='B_p', description=''),), kinetic_order=(), k=Q[1][0]),\n",
       " Reaction(description=, reactants=((Species(name='A_y', description=''), 2),), products=(Species(name='B_q', description=''),), kinetic_order=(), k=Q[1][1]),\n",
       " Reaction(description=, reactants=((Species(name='A_y', description=''), 2),), products=(Species(name='B_r', description=''),), kinetic_order=(), k=Q[1][2]),\n",
       " Reaction(description=, reactants=((Species(name='A_z', description=''), 2),), products=(Species(name='B_p', description=''),), kinetic_order=(), k=Q[2][0]),\n",
       " Reaction(description=, reactants=((Species(name='A_z', description=''), 2),), products=(Species(name='B_q', description=''),), kinetic_order=(), k=Q[2][1]),\n",
       " Reaction(description=, reactants=((Species(name='A_z', description=''), 2),), products=(Species(name='B_r', description=''),), kinetic_order=(), k=Q[2][2])]"
      ]
     },
     "execution_count": 16,
     "metadata": {},
     "output_type": "execute_result"
    }
   ],
   "source": [
    "m.all_reactions"
   ]
  },
  {
   "cell_type": "code",
   "execution_count": 17,
   "metadata": {},
   "outputs": [],
   "source": [
    "def localize_string_with_family_members(string, syntax, families, chosen_members, idx):\n",
    "    for family_name, member, i in zip(families, chosen_members, idx):\n",
    "        string = string.replace(syntax.family_denoter + family_name, member)\n",
    "        string = string.replace(syntax.family_enumerator + family_name, str(i))\n",
    "    return string\n",
    "\n",
    "def add_atoms(self, existing_atoms, factory, atom_name, atom_properties):\n",
    "    new_atoms = {}\n",
    "    if self.syntax.family_denoter in atom_name:\n",
    "        #import pdb; pdb.set_trace()\n",
    "        families = set(re.findall(self.family_pattern, atom_name))\n",
    "        families = re.findall(self.family_pattern, atom_name)\n",
    "\n",
    "        used_families_property_name = None\n",
    "        for p in factory.properties:\n",
    "            if isinstance(p, UsedFamiliesProperty):\n",
    "                used_families_property_name = p.name\n",
    "        if used_families_property_name is None:\n",
    "            raise ParserSyntaxError(f\"atom {atom_name} used the family token {self.syntax.family_denoter} but that atom type doesn't support families.\")\n",
    "\n",
    "        used_families_property = atom_properties.get(used_families_property_name, None)\n",
    "        if used_families_property is None:\n",
    "            raise ParserSyntaxError(f\"atom {atom_name} used the family token {self.syntax.family_denoter} but no {used_families_property_name} property was specified.\")\n",
    "\n",
    "        # teach the used families property about the families that exist in our specification\n",
    "        used_families_property = used_families_property.evaluate_with_existing_atoms(existing_atoms)\n",
    "\n",
    "        family_members = []\n",
    "        for f in families:\n",
    "            family = used_families_property.get(f, None)\n",
    "            if family is None or not(isinstance(family, Family)):\n",
    "                raise ParserSyntaxError(f\"looked for family {f} but couldn't find its alias in {used_families_property_name}.\")\n",
    "            # append the *list*, so we can keep our families straight\n",
    "            family_members.append(family.members)\n",
    "        for idx, combination in self.enumerated_product(family_members):\n",
    "            localized_name = PropertyMatch.localize_string_with_family_members(atom_name, self.syntax, families, combination, idx)\n",
    "            localized_properties = self.localize_properties_with_family_members(atom_properties, families, combination, idx)\n",
    "            new_atoms[localized_name] = self.construct_atom(existing_atoms, factory, localized_name, localized_properties)\n",
    "    else:\n",
    "        new_atoms[atom_name] = self.construct_atom(existing_atoms, factory, atom_name, atom_properties)\n",
    "    #import pdb; pdb.set_trace()\n",
    "    existing_atoms.update(new_atoms)\n",
    "    return existing_atoms"
   ]
  },
  {
   "cell_type": "code",
   "execution_count": 18,
   "metadata": {},
   "outputs": [],
   "source": [
    "import reactionmodel.smallparser as smallparser"
   ]
  },
  {
   "cell_type": "code",
   "execution_count": 19,
   "metadata": {},
   "outputs": [
    {
     "data": {
      "text/plain": [
       "{'families': {'As': ['x', 'y', 'z'], 'Bs': ['p', 'q', 'r']},\n",
       " 'species': [{'name': 'A_$i', 'used_families': {'i': 'As'}},\n",
       "  {'name': 'B_$j', 'used_families': {'j': 'Bs'}}],\n",
       " 'reactions': [{'description': '2A_$i => B_$j',\n",
       "   'reactants': [['A_$i', 2]],\n",
       "   'products': ['B_$j'],\n",
       "   'k': 'Q[#i][#j]',\n",
       "   'used_families': {'i': 'As', 'j': 'Bs'}}],\n",
       " 'parameters': {'foo': 2.0, 'bar': {'path': './examples/minimal/q.csv'}},\n",
       " 'simulator_config': {'simulator': 'gillespie'},\n",
       " 'initial_condition': {'A_$i': '1.0 * foo', 'used_families': {'i': 'As'}}}"
      ]
     },
     "execution_count": 19,
     "metadata": {},
     "output_type": "execute_result"
    }
   ],
   "source": [
    "from yaml import SafeLoader as Loader\n",
    "\n",
    "yaml_string = \"\"\"\n",
    "families:\n",
    "  As: [x, y, z]\n",
    "  Bs: [p, q, r]\n",
    "\n",
    "species:\n",
    "- name: 'A_$i'\n",
    "  used_families: {'i': 'As'}\n",
    "- name: 'B_$j'\n",
    "  used_families: {'j': 'Bs'}\n",
    "\n",
    "reactions:\n",
    "- description: 2A_$i => B_$j\n",
    "  reactants: [['A_$i',2]]\n",
    "  products: ['B_$j']\n",
    "  k: 'Q[#i][#j]'\n",
    "  used_families: {'i': 'As', 'j': 'Bs'}\n",
    "\n",
    "parameters:\n",
    " foo: 2.0\n",
    " bar: {'path': './examples/minimal/q.csv'}\n",
    "\n",
    "simulator_config:\n",
    "  simulator: gillespie\n",
    "\n",
    "initial_condition:\n",
    "  A_$i: 1.0 * foo\n",
    "  used_families: {'i': 'As'}\n",
    "\"\"\"\n",
    "\n",
    "md = yaml.load(yaml_string, Loader=Loader)\n",
    "md"
   ]
  },
  {
   "cell_type": "code",
   "execution_count": 20,
   "metadata": {},
   "outputs": [
    {
     "name": "stdout",
     "output_type": "stream",
     "text": [
      "{'species': [{'name': 'A_x'}, {'name': 'A_y'}, {'name': 'A_z'}, {'name': 'B_p'}, {'name': 'B_q'}, {'name': 'B_r'}], 'reactions': [{'description': '2A_x => B_p', 'reactants': [['A_x', 2]], 'products': ['B_p'], 'k': 'Q[0][0]'}, {'description': '2A_x => B_q', 'reactants': [['A_x', 2]], 'products': ['B_q'], 'k': 'Q[0][1]'}, {'description': '2A_x => B_r', 'reactants': [['A_x', 2]], 'products': ['B_r'], 'k': 'Q[0][2]'}, {'description': '2A_y => B_p', 'reactants': [['A_y', 2]], 'products': ['B_p'], 'k': 'Q[1][0]'}, {'description': '2A_y => B_q', 'reactants': [['A_y', 2]], 'products': ['B_q'], 'k': 'Q[1][1]'}, {'description': '2A_y => B_r', 'reactants': [['A_y', 2]], 'products': ['B_r'], 'k': 'Q[1][2]'}, {'description': '2A_z => B_p', 'reactants': [['A_z', 2]], 'products': ['B_p'], 'k': 'Q[2][0]'}, {'description': '2A_z => B_q', 'reactants': [['A_z', 2]], 'products': ['B_q'], 'k': 'Q[2][1]'}, {'description': '2A_z => B_r', 'reactants': [['A_z', 2]], 'products': ['B_r'], 'k': 'Q[2][2]'}]}\n",
      "[Reaction(description=2A_x => B_p, reactants=((Species(name='A_x', description=''), 2),), products=(Species(name='B_p', description=''),), kinetic_order=(), k=Q[0][0]), Reaction(description=2A_x => B_q, reactants=((Species(name='A_x', description=''), 2),), products=(Species(name='B_q', description=''),), kinetic_order=(), k=Q[0][1]), Reaction(description=2A_x => B_r, reactants=((Species(name='A_x', description=''), 2),), products=(Species(name='B_r', description=''),), kinetic_order=(), k=Q[0][2]), Reaction(description=2A_y => B_p, reactants=((Species(name='A_y', description=''), 2),), products=(Species(name='B_p', description=''),), kinetic_order=(), k=Q[1][0]), Reaction(description=2A_y => B_q, reactants=((Species(name='A_y', description=''), 2),), products=(Species(name='B_q', description=''),), kinetic_order=(), k=Q[1][1]), Reaction(description=2A_y => B_r, reactants=((Species(name='A_y', description=''), 2),), products=(Species(name='B_r', description=''),), kinetic_order=(), k=Q[1][2]), Reaction(description=2A_z => B_p, reactants=((Species(name='A_z', description=''), 2),), products=(Species(name='B_p', description=''),), kinetic_order=(), k=Q[2][0]), Reaction(description=2A_z => B_q, reactants=((Species(name='A_z', description=''), 2),), products=(Species(name='B_q', description=''),), kinetic_order=(), k=Q[2][1]), Reaction(description=2A_z => B_r, reactants=((Species(name='A_z', description=''), 2),), products=(Species(name='B_r', description=''),), kinetic_order=(), k=Q[2][2])]\n"
     ]
    }
   ],
   "source": [
    "p = smallparser.loads(md)"
   ]
  },
  {
   "cell_type": "code",
   "execution_count": 21,
   "metadata": {},
   "outputs": [
    {
     "data": {
      "text/plain": [
       "{'A_x': '1.0 * foo', 'A_y': '1.0 * foo', 'A_z': '1.0 * foo'}"
      ]
     },
     "execution_count": 21,
     "metadata": {},
     "output_type": "execute_result"
    }
   ],
   "source": [
    "p.initial_condition"
   ]
  },
  {
   "cell_type": "code",
   "execution_count": 22,
   "metadata": {},
   "outputs": [
    {
     "name": "stdout",
     "output_type": "stream",
     "text": [
      "Evaluating expression: 1.0 * foo => 2.0\n",
      "Evaluating expression: 1.0 * foo => 2.0\n",
      "Evaluating expression: 1.0 * foo => 2.0\n"
     ]
    },
    {
     "data": {
      "text/plain": [
       "array([2., 2., 2., 0., 0., 0.])"
      ]
     },
     "execution_count": 22,
     "metadata": {},
     "output_type": "execute_result"
    }
   ],
   "source": [
    "p.model.make_initial_condition(p.initial_condition, p.parameters)"
   ]
  },
  {
   "cell_type": "code",
   "execution_count": 23,
   "metadata": {},
   "outputs": [
    {
     "data": {
      "text/plain": [
       "{'foo': 2.0,\n",
       " 'bar': array([[1., 2., 3.],\n",
       "        [4., 5., 6.],\n",
       "        [7., 8., 9.]])}"
      ]
     },
     "execution_count": 23,
     "metadata": {},
     "output_type": "execute_result"
    }
   ],
   "source": [
    "p.parameters"
   ]
  },
  {
   "cell_type": "code",
   "execution_count": 24,
   "metadata": {},
   "outputs": [
    {
     "data": {
      "text/plain": [
       "{'simulator': 'gillespie'}"
      ]
     },
     "execution_count": 24,
     "metadata": {},
     "output_type": "execute_result"
    }
   ],
   "source": [
    "p.simulator_config"
   ]
  },
  {
   "cell_type": "code",
   "execution_count": 25,
   "metadata": {},
   "outputs": [
    {
     "data": {
      "text/plain": [
       "[Reaction(description=2A_x => B_p, reactants=((Species(name='A_x', description=''), 2),), products=(Species(name='B_p', description=''),), kinetic_order=(), k=Q[0][0]),\n",
       " Reaction(description=2A_x => B_q, reactants=((Species(name='A_x', description=''), 2),), products=(Species(name='B_q', description=''),), kinetic_order=(), k=Q[0][1]),\n",
       " Reaction(description=2A_x => B_r, reactants=((Species(name='A_x', description=''), 2),), products=(Species(name='B_r', description=''),), kinetic_order=(), k=Q[0][2]),\n",
       " Reaction(description=2A_y => B_p, reactants=((Species(name='A_y', description=''), 2),), products=(Species(name='B_p', description=''),), kinetic_order=(), k=Q[1][0]),\n",
       " Reaction(description=2A_y => B_q, reactants=((Species(name='A_y', description=''), 2),), products=(Species(name='B_q', description=''),), kinetic_order=(), k=Q[1][1]),\n",
       " Reaction(description=2A_y => B_r, reactants=((Species(name='A_y', description=''), 2),), products=(Species(name='B_r', description=''),), kinetic_order=(), k=Q[1][2]),\n",
       " Reaction(description=2A_z => B_p, reactants=((Species(name='A_z', description=''), 2),), products=(Species(name='B_p', description=''),), kinetic_order=(), k=Q[2][0]),\n",
       " Reaction(description=2A_z => B_q, reactants=((Species(name='A_z', description=''), 2),), products=(Species(name='B_q', description=''),), kinetic_order=(), k=Q[2][1]),\n",
       " Reaction(description=2A_z => B_r, reactants=((Species(name='A_z', description=''), 2),), products=(Species(name='B_r', description=''),), kinetic_order=(), k=Q[2][2])]"
      ]
     },
     "execution_count": 25,
     "metadata": {},
     "output_type": "execute_result"
    }
   ],
   "source": [
    "p.model.all_reactions"
   ]
  },
  {
   "cell_type": "code",
   "execution_count": null,
   "metadata": {},
   "outputs": [],
   "source": []
  }
 ],
 "metadata": {
  "kernelspec": {
   "display_name": ".venv",
   "language": "python",
   "name": "python3"
  },
  "language_info": {
   "codemirror_mode": {
    "name": "ipython",
    "version": 3
   },
   "file_extension": ".py",
   "mimetype": "text/x-python",
   "name": "python",
   "nbconvert_exporter": "python",
   "pygments_lexer": "ipython3",
   "version": "3.9.8"
  }
 },
 "nbformat": 4,
 "nbformat_minor": 2
}
