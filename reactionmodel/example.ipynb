{
 "cells": [
  {
   "cell_type": "code",
   "execution_count": null,
   "metadata": {},
   "outputs": [],
   "source": [
    "from reactionmodel.model import Species, Reaction, Model\n",
    "from numba import jit"
   ]
  },
  {
   "cell_type": "code",
   "execution_count": null,
   "metadata": {},
   "outputs": [],
   "source": [
    "a = Species('A')\n",
    "b = Species('B')\n",
    "c = Species('C')\n",
    "\n",
    "\n",
    "def faster_pipetting(t):\n",
    "    return t\n",
    "\n",
    "@jit(nopython=True)\n",
    "def jit_faster_pipetting(t):\n",
    "    return t\n",
    "\n",
    "r1 = Reaction('combination',  [a, (b, 2)], c, k='x')\n",
    "r2 = Reaction('addition of a', [], [a], k=faster_pipetting)\n",
    "r2_alt = Reaction('addition of a', [], [a], k=jit_faster_pipetting)\n",
    "\n",
    "m_jit_incompatible = Model([a,b,c], [r1, r2])\n",
    "m_jit_compatible = Model([a,b,c], [r1, r2_alt])"
   ]
  },
  {
   "cell_type": "code",
   "execution_count": null,
   "metadata": {},
   "outputs": [],
   "source": [
    "k = m_jit_incompatible.get_k(parameters={'x':10.0}, jit=False)\n",
    "k(4.0)"
   ]
  },
  {
   "cell_type": "code",
   "execution_count": null,
   "metadata": {},
   "outputs": [],
   "source": [
    "k = m_jit_incompatible.get_k(parameters={'x':10.0}, jit=True)\n",
    "k(4.0)"
   ]
  },
  {
   "cell_type": "code",
   "execution_count": null,
   "metadata": {},
   "outputs": [],
   "source": [
    "k = m_jit_compatible.get_k(parameters={'x':10.0}, jit=True)\n",
    "k(4.0)"
   ]
  }
 ],
 "metadata": {
  "kernelspec": {
   "display_name": ".venv",
   "language": "python",
   "name": "python3"
  },
  "language_info": {
   "codemirror_mode": {
    "name": "ipython",
    "version": 3
   },
   "file_extension": ".py",
   "mimetype": "text/x-python",
   "name": "python",
   "nbconvert_exporter": "python",
   "pygments_lexer": "ipython3",
   "version": "3.9.8"
  }
 },
 "nbformat": 4,
 "nbformat_minor": 2
}
