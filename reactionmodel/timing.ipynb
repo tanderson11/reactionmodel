{
 "cells": [
  {
   "cell_type": "code",
   "execution_count": 20,
   "metadata": {},
   "outputs": [],
   "source": [
    "from reactionmodel.model import Model, Species, Reaction\n",
    "import numpy as np\n",
    "from scipy.special import binom\n",
    "from numba import jit"
   ]
  },
  {
   "cell_type": "code",
   "execution_count": 7,
   "metadata": {},
   "outputs": [],
   "source": [
    "x = Species('X')\n",
    "dimer = Species('2X')\n",
    "r = Reaction('dimer', [(x, 2)], dimer, k=10.0)\n",
    "m = Model([x], [r])"
   ]
  },
  {
   "cell_type": "code",
   "execution_count": 81,
   "metadata": {},
   "outputs": [],
   "source": [
    "y = np.array([9.0, 8.5, 5.0, 10000.0])\n",
    "k = np.array([15.0, 0.001, 1.0, 2.0])\n",
    "kinetic_order = np.array([\n",
    "    [2.0, 2.0, 3.0, 2.0],\n",
    "    [2.0, 2.0, 3.0, 2.0],\n",
    "    [2.0, 2.0, 3.0, 2.0],\n",
    "    [2.0, 2.0, 3.0, 2.0]\n",
    "]).T"
   ]
  },
  {
   "cell_type": "code",
   "execution_count": 70,
   "metadata": {},
   "outputs": [
    {
     "name": "stdout",
     "output_type": "stream",
     "text": [
      "[1.09729688e+15 7.31531250e+10 7.31531250e+13 1.46306250e+14]\n"
     ]
    }
   ],
   "source": [
    "print(np.prod(np.expand_dims(y, axis=1)**kinetic_order, axis=0) * k)"
   ]
  },
  {
   "cell_type": "code",
   "execution_count": 71,
   "metadata": {},
   "outputs": [
    {
     "name": "stdout",
     "output_type": "stream",
     "text": [
      "4.01 µs ± 58.2 ns per loop (mean ± std. dev. of 7 runs, 100,000 loops each)\n"
     ]
    }
   ],
   "source": [
    "%%timeit\n",
    "\n",
    "np.prod(np.expand_dims(y, axis=1)**kinetic_order, axis=0) * k"
   ]
  },
  {
   "cell_type": "code",
   "execution_count": 72,
   "metadata": {},
   "outputs": [
    {
     "name": "stdout",
     "output_type": "stream",
     "text": [
      "3.93 µs ± 19.3 ns per loop (mean ± std. dev. of 7 runs, 100,000 loops each)\n"
     ]
    }
   ],
   "source": [
    "%%timeit\n",
    "\n",
    "np.prod(binom(np.expand_dims(y, axis=1), kinetic_order), axis=0) * k"
   ]
  },
  {
   "cell_type": "code",
   "execution_count": 73,
   "metadata": {},
   "outputs": [
    {
     "name": "stdout",
     "output_type": "stream",
     "text": [
      "[8.60538938e+12 5.73692625e+08 5.73692625e+11 1.14738525e+12]\n"
     ]
    }
   ],
   "source": [
    "print(np.prod(binom(np.expand_dims(y, axis=1), kinetic_order), axis=0) * k)"
   ]
  },
  {
   "cell_type": "code",
   "execution_count": 80,
   "metadata": {},
   "outputs": [
    {
     "name": "stdout",
     "output_type": "stream",
     "text": [
      "[[3.6000e+01 3.6000e+01 3.6000e+01 3.6000e+01]\n",
      " [3.1875e+01 3.1875e+01 3.1875e+01 3.1875e+01]\n",
      " [1.0000e+01 1.0000e+01 1.0000e+01 1.0000e+01]\n",
      " [4.9995e+07 4.9995e+07 4.9995e+07 4.9995e+07]]\n"
     ]
    }
   ],
   "source": [
    "print(binom(np.expand_dims(y, axis=1), kinetic_order))"
   ]
  },
  {
   "cell_type": "code",
   "execution_count": 25,
   "metadata": {},
   "outputs": [],
   "source": [
    "@jit(nopython=True)\n",
    "def jit_calculate_propensities(t, y):\n",
    "    # product along column in kinetic order matrix\n",
    "    # binom(state, n involvement) (macroscopically ~= #X**n involvement)\n",
    "    # multiplied by rate constants == propensity\n",
    "    # dimension of y is expanded to make it a column vector\n",
    "    #intensity_power = binom(np.expand_dims(y, axis=1), kinetic_order)\n",
    "    intensity_power = np.expand_dims(y, axis=1)**kinetic_order\n",
    "    product_down_columns = np.ones(len(k))\n",
    "    for i in range(0, len(y)):\n",
    "        product_down_columns = product_down_columns * intensity_power[i]\n",
    "    return product_down_columns * k"
   ]
  },
  {
   "cell_type": "code",
   "execution_count": 27,
   "metadata": {},
   "outputs": [
    {
     "name": "stdout",
     "output_type": "stream",
     "text": [
      "730 ns ± 6.91 ns per loop (mean ± std. dev. of 7 runs, 1,000,000 loops each)\n"
     ]
    }
   ],
   "source": [
    "%%timeit\n",
    "\n",
    "jit_calculate_propensities(0, y)"
   ]
  },
  {
   "cell_type": "code",
   "execution_count": 33,
   "metadata": {},
   "outputs": [
    {
     "name": "stdout",
     "output_type": "stream",
     "text": [
      "[1.9440e+14 1.2960e+10 4.6656e+19 2.5920e+13]\n"
     ]
    }
   ],
   "source": [
    "print(jit_calculate_propensities(0, y))"
   ]
  },
  {
   "cell_type": "code",
   "execution_count": 88,
   "metadata": {},
   "outputs": [],
   "source": [
    "@jit(nopython=True)\n",
    "def binom_jit_calculate_propensities(t, y):\n",
    "    # product along column in kinetic order matrix\n",
    "    # binom(state, n involvement) (macroscopically ~= #X**n involvement)\n",
    "    # multiplied by rate constants == propensity\n",
    "    # dimension of y is expanded to make it a column vector\n",
    "    intensity_power = np.zeros_like(kinetic_order)\n",
    "    for i in range(0, kinetic_order.shape[0]):\n",
    "        for j in range(0, kinetic_order.shape[1]):\n",
    "            if y[i] < kinetic_order[i][j]:\n",
    "                intensity_power[i][j] = 0.0\n",
    "            elif y[i] == kinetic_order[i][j]:\n",
    "                intensity_power[i][j] = 1.0\n",
    "            else:\n",
    "                intensity = 1.0\n",
    "                for x in range(0, kinetic_order[i][j]):\n",
    "                    intensity *= (y[i] - x) / (x+1)\n",
    "                intensity_power[i][j] = intensity\n",
    "\n",
    "    product_down_columns = np.ones(len(k))\n",
    "    for i in range(0, len(y)):\n",
    "        product_down_columns = product_down_columns * intensity_power[i]\n",
    "    return product_down_columns * k"
   ]
  },
  {
   "cell_type": "code",
   "execution_count": 89,
   "metadata": {},
   "outputs": [
    {
     "data": {
      "text/plain": [
       "array([8.60538938e+12, 5.73692625e+08, 5.73692625e+11, 1.14738525e+12])"
      ]
     },
     "execution_count": 89,
     "metadata": {},
     "output_type": "execute_result"
    }
   ],
   "source": [
    "binom_jit_calculate_propensities(0, y)"
   ]
  },
  {
   "cell_type": "code",
   "execution_count": 90,
   "metadata": {},
   "outputs": [
    {
     "name": "stdout",
     "output_type": "stream",
     "text": [
      "746 ns ± 1.55 ns per loop (mean ± std. dev. of 7 runs, 1,000,000 loops each)\n"
     ]
    }
   ],
   "source": [
    "%%timeit\n",
    "\n",
    "binom_jit_calculate_propensities(0, y)"
   ]
  },
  {
   "cell_type": "code",
   "execution_count": null,
   "metadata": {},
   "outputs": [],
   "source": []
  }
 ],
 "metadata": {
  "kernelspec": {
   "display_name": ".venv",
   "language": "python",
   "name": "python3"
  },
  "language_info": {
   "codemirror_mode": {
    "name": "ipython",
    "version": 3
   },
   "file_extension": ".py",
   "mimetype": "text/x-python",
   "name": "python",
   "nbconvert_exporter": "python",
   "pygments_lexer": "ipython3",
   "version": "3.9.8"
  }
 },
 "nbformat": 4,
 "nbformat_minor": 2
}
